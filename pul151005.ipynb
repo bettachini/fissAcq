{
 "cells": [
  {
   "cell_type": "code",
   "execution_count": 9,
   "metadata": {
    "collapsed": false
   },
   "outputs": [],
   "source": [
    "import matplotlib\n",
    "import numpy as np\n",
    "import matplotlib.pyplot as plt\n",
    "%matplotlib inline\n",
    "# coding=utf-8"
   ]
  },
  {
   "cell_type": "markdown",
   "metadata": {},
   "source": [
    "# Ensayos pulsos BL-2"
   ]
  },
  {
   "cell_type": "markdown",
   "metadata": {},
   "source": [
    "Trato de reproducir las mediciones que se anlizan en `anl150807`. Los anchos temporales de los pulsos fueron:\n",
    "\n",
    "pulser= np.array([50e-9, 75e-9, 100E-9, 125E-9, 150E-9, 175E-9, 200E-9, 225E-9, 250e-9, 275e-9,\n",
    "                  3.0567943706e-07, 3.25173964034e-07, 3.47919077404e-07, 3.73028928851e-07, 3.98022673964e-07, 4.23560985145e-07 ])"
   ]
  },
  {
   "cell_type": "markdown",
   "metadata": {},
   "source": [
    "## Parámetros del generador de pulsos BL-2"
   ]
  },
  {
   "cell_type": "markdown",
   "metadata": {},
   "source": [
    "\n",
    "\n",
    "- Pulse out: usa salída negativa\n",
    "- reference: INT\n",
    "- frequency= 100 Hz\n",
    "\n",
    "Los ajustes de tiempos apuntan a minimizar un notorio fenómeno de Gibbs:\n",
    "\n",
    "- delay= 10 ms (single pulse)\n",
    "- riseTime= 10 ns\n",
    "- fallTime= 5 ns\n",
    "\n",
    "La corriente a la entrada de la electrónica de luís debe ser de $1\\mathrm{\\mu A}$ pico-pico. Como uso una resistencia de $100\\mathrm{k\\Omega}$ ($1\\times10^5\\mathrm{\\Omega}$), los pulsos deben ser de $100\\mathrm{m V}$ ($1\\times10^{-1}\\mathrm{V}$) pico-pico.\n",
    "\n",
    "- amplitude: ajusto perilla hasta 0,215 para lograr $100\\mathrm{m V}$ p-p"
   ]
  },
  {
   "cell_type": "markdown",
   "metadata": {},
   "source": [
    "`test.get_channel_scale('CH1'), test.get_channel_position('CH1'), test.get_channel_scale('CH2'), test.get_channel_position('CH2'), test.horizontal_main_scale(), test.horizontal_main_position(), test.trigger_level()`\n",
    "\n",
    "(0.01, 7.48, 0.2, -2.0, '1.0E-7', '1.76E-7', -0.0648)"
   ]
  },
  {
   "cell_type": "markdown",
   "metadata": {},
   "source": [
    "# Configuración TDS"
   ]
  },
  {
   "cell_type": "code",
   "execution_count": 10,
   "metadata": {
    "collapsed": false
   },
   "outputs": [
    {
     "name": "stdout",
     "output_type": "stream",
     "text": [
      "TEKTRONIX,TDS 2002B,C101891,CF:91.1CT FV:v22.11\n",
      "The autoreload extension is already loaded. To reload it, use:\n",
      "  %reload_ext autoreload\n"
     ]
    }
   ],
   "source": [
    "# import tek3 as tek3\n",
    "import tek3\n",
    "tds2002b = tek3.TekScope() # creo una instancia de tek3.TekScope\n",
    "import time\n",
    "\n",
    "# refresca de lo importado cada vez que se hace ejecución\n",
    "%load_ext autoreload\n",
    "%autoreload 2"
   ]
  },
  {
   "cell_type": "code",
   "execution_count": 11,
   "metadata": {
    "collapsed": false
   },
   "outputs": [],
   "source": [
    "# Inicialización de captura ante trigger\n",
    "tds2002b.write('INITIATE_CLEAR')\n",
    "tds2002b.set_data_encoding('RIBinary')\n",
    "tds2002b.write('ACQuire:MODe SAMple') # test.write('ACQuire:MODe PEAKdetect') lo descarto pues manual dice que puede verse mas ruidoso  \n",
    "tds2002b.write('ACQUIRE:STOPAFTER SEQUENCE')\n",
    "tds2002b.write('ACQuire:STATE RUN')"
   ]
  },
  {
   "cell_type": "code",
   "execution_count": 19,
   "metadata": {
    "collapsed": false
   },
   "outputs": [
    {
     "data": {
      "text/plain": [
       "(0.01, 7.48, 0.5, -2.52, '1.0E-7', '1.76E-7', -0.0696)"
      ]
     },
     "execution_count": 19,
     "metadata": {},
     "output_type": "execute_result"
    }
   ],
   "source": [
    "# Valores actuales ch1, ch2, trigger\n",
    "tds2002b.get_channel_scale('CH1'), tds2002b.get_channel_position('CH1'), tds2002b.get_channel_scale('CH2'), tds2002b.get_channel_position('CH2'), tds2002b.horizontal_main_scale(), tds2002b.horizontal_main_position(), tds2002b.trigger_level()"
   ]
  },
  {
   "cell_type": "code",
   "execution_count": 5,
   "metadata": {
    "collapsed": false
   },
   "outputs": [],
   "source": [
    "# Configuración ch1, ch2, trigger\n",
    "tds2002b.write('CH1:SCAle 0.01')\n",
    "tds2002b.write('CH1:POSition 7.48')\n",
    "tds2002b.write('CH2:SCAle 0.5')\n",
    "tds2002b.write('CH2:POSition -2.52')\n",
    "tds2002b.horizontal_main_scale(1.0E-7)\n",
    "tds2002b.horizontal_main_position(1.76E-7)\n",
    "trgLevel= -0.0696\n",
    "tds2002b.trigger_source('CH1') # canal donde monitoreo pulso BL-2\n",
    "tds2002b.trigger_slope('FALL')\n",
    "tds2002b.trigger_level(trgLevel)"
   ]
  },
  {
   "cell_type": "markdown",
   "metadata": {},
   "source": [
    "# Copio de PulTek"
   ]
  },
  {
   "cell_type": "code",
   "execution_count": 13,
   "metadata": {
    "collapsed": false
   },
   "outputs": [],
   "source": [
    "inst= tds2002b # declaro nombre intermendio del instrumento, espero colgar por dependencia de clase algún día.\n",
    "\n",
    "def escalas(inst):\n",
    "    # obtener una vez los límites verticales del canal\n",
    "    pos1 = inst.get_channel_position(1)\n",
    "    scale1 = inst.get_channel_scale(1)\n",
    "    pos2 = inst.get_channel_position(2)\n",
    "    scale2 = inst.get_channel_scale(2)\n",
    "    return pos1, scale1, pos2, scale2\n",
    "\n",
    "\n",
    "def param(inst):\n",
    "    '''\n",
    "    Grabo parámetros de la medición\n",
    "    '''\n",
    "    inst.load_setup() # Obtiene parámetros del osciloscopio\n",
    "    sets= inst.dico\n",
    "    [pos1, scale1, pos2, scale2]= escalas(inst)\n",
    "    sets['POSITION1']= pos1\n",
    "    sets['SCALE1']= scale1\n",
    "    sets['POSITION2']= pos2\n",
    "    sets['SCALE2']= scale2\n",
    "    sets['ELECTRONICA']= 'Luis'\n",
    "    return sets\n",
    "\n",
    "\n",
    "def lectura(inst, adquisiciones, tiempoInicial):\n",
    "    # la lectura en sí\n",
    "    ch1= np.empty([adquisiciones, inst.dataCount ], dtype ='int8')\n",
    "    ch2= np.empty([adquisiciones, inst.dataCount ], dtype ='int8')\n",
    "    zeit= inst.Xaxis()\n",
    "    for medicion in range(adquisiciones):\n",
    "        print('\\rmedición '+ str(medicion)+ ' de '+ str(adquisiciones), end=' ')\n",
    "        inst.set_data_source(1) # canal 2\n",
    "        ch1[medicion]= inst.singleAcq()\n",
    "        inst.set_data_source(2) # canal 2\n",
    "        ch2[medicion]= inst.singleAcq()\n",
    "    print('\\rmedición '+ str(medicion+ 1)+ ' de '+ str(adquisiciones))\n",
    "    print('Tiempo transcurrido= {:.1f} min'.format((time.time()- tiempoInicial)/60) ) # tiempo transcurrido en segundos\n",
    "    return zeit, ch1, ch2\n",
    "\n",
    "\n",
    "def flName(camara, tipo, N):\n",
    "    filePath= './data/'\n",
    "    fileDate= time.strftime('%y%m%d')\n",
    "    fileCamara= camara # 'n' nuestra = Campbelliana\n",
    "    fileN= N\n",
    "    fileExt= '.npy'\n",
    "    fileType= tipo\n",
    "    fileName= filePath+ fileType+ fileDate + fileCamara+ ('{:02n}'.format(fileN))+ fileExt\n",
    "    return fileName\n",
    "\n",
    "\n",
    "def adquiere(inst, medicionDia, settings, adquisiciones, descripcionDetector, descripcionArchivo):\n",
    "    '''\n",
    "    registra ambos canales en formato de multiples arrays\n",
    "    '''\n",
    "    tiempoInicial= time.time()\n",
    "    # ch2 =lectura(adquisiciones, puntosAdquisicion, dataOffset, tiempoInicial)\n",
    "    [zeit, ch1, ch2]= lectura(inst, adquisiciones, tiempoInicial)\n",
    "    # PULSER INVIERTO SIGNO CH1: Mantengo el ánalisis imperturbado\n",
    "    ch1*= -1\n",
    "    # graba    \n",
    "    np.savez_compressed(flName(descripcionDetector, descripcionArchivo, medicionDia), settings=settings, zeit=zeit, ch1=ch1, ch2=ch2)"
   ]
  },
  {
   "cell_type": "code",
   "execution_count": 23,
   "metadata": {
    "collapsed": false
   },
   "outputs": [
    {
     "name": "stdout",
     "output_type": "stream",
     "text": [
      "medición 1280 de 1280\n",
      "Tiempo transcurrido= 24.2 min\n"
     ]
    }
   ],
   "source": [
    "inst= tds2002b\n",
    "adquisiciones= 1280 # número de lecturas\n",
    "# adquisiciones= 10 # número de lecturas\n",
    "descripcionDetector= 'z'\n",
    "descripcionArchivo= 'pul'\n",
    "\n",
    "# settings= auxTDS2002B.param()\n",
    "settings= param(inst)\n",
    "\n",
    "for medicionDia in np.arange(7,8): # medición 9 a 11 (dos mediciones)\n",
    "    adquiere(inst, medicionDia, settings, adquisiciones, descripcionDetector, descripcionArchivo)"
   ]
  },
  {
   "cell_type": "markdown",
   "metadata": {},
   "source": [
    "## Journal"
   ]
  },
  {
   "cell_type": "markdown",
   "metadata": {},
   "source": [
    "Realicé mediciones `pul151005zxx.npy.npz` desde `xx=01` con un ancho de $50\\mathrm{ns}$ en incrementos de $25\\mathrm{ns}$ por adquisición."
   ]
  },
  {
   "cell_type": "markdown",
   "metadata": {},
   "source": [
    "Realicé mediciones `pul151006zxx.npy.npz` desde `xx=01` con un ancho de $175\\mathrm{ns}$ en incrementos de $25\\mathrm{ns}$ por adquisición."
   ]
  },
  {
   "cell_type": "markdown",
   "metadata": {},
   "source": [
    "Realicé mediciones `pul151007zxx.npy.npz`\n",
    "\n",
    "`xx=01` ancho de $62.5\\mathrm{ns}$\n",
    "\n",
    "`xx=02` ancho de $87.5\\mathrm{ns}$ ?\n",
    "\n",
    "`xx=03` ancho de $87.5\\mathrm{ns}$\n",
    "\n",
    "`xx=04` ancho de $112.5\\mathrm{ns}$\n",
    "\n",
    "`xx=05` ancho de $137.5\\mathrm{ns}$ ?\n"
   ]
  },
  {
   "cell_type": "markdown",
   "metadata": {},
   "source": [
    "Realicé mediciones `pul151008zxx.npy.npz`\n",
    "\n",
    "`xx=01` ancho de $137.5\\mathrm{ns}$\n",
    "\n",
    "`xx=02` ancho de $137.5\\mathrm{ns}$ (en otra escala para evitar corte por sobretiro)\n",
    "\n",
    "`xx=03` ancho de $162.5\\mathrm{ns}$\n",
    "\n",
    "\n",
    "Ahora con la alimentacion del estabilizador de tensión.\n",
    "\n",
    "`xx=04` ancho de $37.5\\mathrm{ns}$\n",
    "\n",
    "`xx=05` ancho de $50\\mathrm{ns}$\n",
    "\n",
    "`xx=06` ancho de $62.5\\mathrm{ns}$\n",
    "\n",
    "`xx=07` ancho de $75\\mathrm{ns}$\n",
    "\n",
    "`xx=08` ancho de $87.5\\mathrm{ns}$\n",
    "\n",
    "`xx=09` ancho de $100\\mathrm{ns}$\n",
    "\n",
    "`xx=10` ancho de $112.5\\mathrm{ns}$\n",
    "\n",
    "`xx=11` ancho de $125\\mathrm{ns}$\n",
    "\n",
    "`xx=12` ancho de $137.5\\mathrm{ns}$\n",
    "\n",
    "`xx=13` ancho de $150\\mathrm{ns}$"
   ]
  },
  {
   "cell_type": "markdown",
   "metadata": {},
   "source": [
    "Continuo adquisiciones con estabilizada `pul151009zxx.npy.npz`\n",
    "\n",
    "`xx=01` ancho de $162.5\\mathrm{ns}$\n",
    "\n",
    "`xx=02` ancho de $162.5\\mathrm{ns}$ (bis, hasta que estabilizó el nivel del pulsador)\n",
    "\n",
    "`xx=03` ancho de $175\\mathrm{ns}$\n",
    "\n",
    "`xx=04` ancho de $187.5\\mathrm{ns}$\n",
    "\n",
    "`xx=05` ancho de $200\\mathrm{ns}$\n",
    "\n",
    "`xx=06` ancho de $212.5\\mathrm{ns}$\n",
    "\n",
    "`xx=07` ancho de $225\\mathrm{ns}$"
   ]
  },
  {
   "cell_type": "code",
   "execution_count": null,
   "metadata": {
    "collapsed": false
   },
   "outputs": [],
   "source": []
  }
 ],
 "metadata": {
  "kernelspec": {
   "display_name": "Python 3",
   "language": "python",
   "name": "python3"
  },
  "language_info": {
   "codemirror_mode": {
    "name": "ipython",
    "version": 3
   },
   "file_extension": ".py",
   "mimetype": "text/x-python",
   "name": "python",
   "nbconvert_exporter": "python",
   "pygments_lexer": "ipython3",
   "version": "3.4.2"
  }
 },
 "nbformat": 4,
 "nbformat_minor": 0
}
