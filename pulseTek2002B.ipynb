{
 "cells": [
  {
   "cell_type": "code",
   "execution_count": 1,
   "metadata": {
    "collapsed": false
   },
   "outputs": [
    {
     "name": "stdout",
     "output_type": "stream",
     "text": [
      "Populating the interactive namespace from numpy and matplotlib\n",
      "TEKTRONIX,TDS 2002B,C101891,CF:91.1CT FV:v22.11\n"
     ]
    }
   ],
   "source": [
    "%pylab inline\n",
    "# coding=utf-8\n",
    "\n",
    "import tek3 # import tek3 as tek3 : utilidades de comunicación con Tek2002B\n",
    "import time # import time\n",
    "tds2002b = tek3.TekScope(\"/dev/usbtmc1\") # creo una instancia de tek3.TekScope\n",
    "\n",
    "# refresca lo importado de tek3 cada vez que se hace ejecución\n",
    "%load_ext autoreload\n",
    "%autoreload 2"
   ]
  },
  {
   "cell_type": "markdown",
   "metadata": {},
   "source": [
    "# Registro automático de picos"
   ]
  },
  {
   "cell_type": "code",
   "execution_count": 2,
   "metadata": {
    "collapsed": false
   },
   "outputs": [],
   "source": [
    "def initPulse(inst=test):\n",
    "    inst.write('INITIATE_CLEAR')\n",
    "    inst.write('HEADER OFF')\n",
    "    inst.set_data_encoding('RIBinary')\n",
    "    inst.write('ACQuire:MODe SAMple') # test.write('ACQuire:MODe PEAKdetect') lo descarto pues manual dice que puede verse mas ruidoso  \n",
    "    inst.write('ACQUIRE:STOPAFTER SEQUENCE')\n",
    "    inst.write('ACQuire:STATE RUN')\n",
    "    inst.write('CH1:POSition 3.0')\n",
    "    inst.write('CH1:SCAle 2E-2')\n",
    "    inst.write('CH2:POSition -2.0')\n",
    "    inst.write('CH2:SCAle 2E-1')\n",
    "    inst.horizontal_main_position(1.0E-7)\n",
    "    inst.horizontal_main_scale(1.0E-7)\n",
    "    inst.trigger_source('CH1')\n",
    "    trgLevel= -0.08\n",
    "    test.trigger_level(trgLevel)\n",
    "    \n",
    "    \n",
    "def escalas(inst=test):\n",
    "    # obtener una vez los límites verticales del canal\n",
    "    pos1 = inst.get_channel_position(1)\n",
    "    scale1 = inst.get_channel_scale(1)\n",
    "    pos2 = inst.get_channel_position(2)\n",
    "    scale2 = inst.get_channel_scale(2)\n",
    "    return pos1, scale1, pos2, scale2\n",
    "\n",
    "\n",
    "def flName(camara, tipo, N):\n",
    "    filePath= './data/'\n",
    "    fileDate= time.strftime('%y%m%d')\n",
    "    fileCamara= camara # 'n' nuestra = Campbelliana\n",
    "    fileN= N\n",
    "    fileExt= '.npy'\n",
    "    fileType= tipo\n",
    "    fileName= filePath+ fileType+ fileDate + fileCamara+ ('{:02n}'.format(fileN))+ fileExt\n",
    "    return fileName\n",
    "\n",
    "def param(osciloscopioTek):\n",
    "    '''\n",
    "    Grabo parámetros de la medición\n",
    "    '''\n",
    "    osciloscopioTek.load_setup() # Obtiene parámetros del osciloscopio\n",
    "    sets= osciloscopioTek.dico\n",
    "    [pos1, scale1, pos2, scale2]= escalas(osciloscopioTek)\n",
    "    sets['POSITION1']= pos1\n",
    "    sets['SCALE1']= scale1\n",
    "    sets['POSITION2']= pos2\n",
    "    sets['SCALE2']= scale2\n",
    "    sets['ELECTRONICA']= 'Luis'\n",
    "    return sets\n",
    "\n",
    "\n",
    "def paramSave(N, camara='CFP-25'):\n",
    "    '''\n",
    "    Grabo parámetros de la medición\n",
    "    '''\n",
    "    sets= param(camara)\n",
    "    save(flName(camara, 'sets', N), sets)\n",
    "    \n",
    "    \n",
    "def eins(channel):\n",
    "    ''' \n",
    "    Returns single channel as horizontal array \n",
    "    '''\n",
    "    test.set_data_source(channel)\n",
    "    Y= float16(test.bin_read())\n",
    "    return Y\n",
    "\n",
    "\n",
    "def readBuff2(self):\n",
    "    try:\n",
    "        return self.ask('CURVE?')\n",
    "    except TimeoutError:\n",
    "        print('Probably requested channel has no data')\n",
    "        raise\n",
    "        \n",
    "        \n",
    "def zwei():\n",
    "    '''\n",
    "    Returns both channels as horizontal array\n",
    "    '''\n",
    "    Y1= eins(1)\n",
    "    Y2= eins(2)\n",
    "    Meas2= np.vstack([Y1, Y2])\n",
    "    return Meas2\n",
    "\n",
    "\n",
    "def single():\n",
    "    '''\n",
    "    Queries both channels, restarts acquistion\n",
    "    '''\n",
    "    test.start_acq()\n",
    "    Meas2= zwei()\n",
    "    return Meas2\n",
    "\n",
    "\n",
    "def darstellungNurZwei(T, Meas2, sav= None):\n",
    "    '''\n",
    "    T: times vector\n",
    "    Meas2: Both channels 2D array\n",
    "    sav: plot filename (eps)\n",
    "    '''\n",
    "        \n",
    "    fig, (ax0, ax1) = plt.subplots(nrows=2, sharex=True)\n",
    "    fig.set_size_inches(10,8)\n",
    "    fig.subplots_adjust(hspace=0.000)\n",
    "\n",
    "    ax0.plot(T, Meas2[0,:], 'y')\n",
    "    # Make the y-axis label and tick labels match the line color.\n",
    "    ax0.set_ylabel('ch 1 [V]', color='y')\n",
    "    ax0.grid(True)\n",
    "\n",
    "    ax1.plot(T, Meas2[1,:], 'c')\n",
    "    ax1.set_ylabel('ch 2 [V]', color='c')\n",
    "    ax1.set_xlabel('tiempo [s]')\n",
    "    ax1.grid(True)\n",
    "    \n",
    "    if (sav):\n",
    "        plt.savefig('./data/'+ sav+ '.eps')\n",
    "    else:\n",
    "        plt.show()\n",
    "        \n",
    "        \n",
    "def darstellungNurZwei(T, Meas2, sav= None):\n",
    "    '''\n",
    "    T: times vector\n",
    "    Meas2: Both channels 2D array\n",
    "    sav: plot filename (eps)\n",
    "    '''\n",
    "        \n",
    "    fig, (ax0, ax1) = plt.subplots(nrows=2, sharex=True)\n",
    "    fig.set_size_inches(10,8)\n",
    "    fig.subplots_adjust(hspace=0.000)\n",
    "\n",
    "    ax0.plot(T, Meas2[0,:], 'y')\n",
    "    # Make the y-axis label and tick labels match the line color.\n",
    "    ax0.set_ylabel('ch 1 [V]', color='y')\n",
    "    ax0.grid(True)\n",
    "\n",
    "    ax1.plot(T, Meas2[1,:], 'c')\n",
    "    ax1.set_ylabel('ch 2 [V]', color='c')\n",
    "    ax1.set_xlabel('tiempo [s]')\n",
    "    ax1.grid(True)\n",
    "    \n",
    "    if (sav):\n",
    "        plt.savefig('./data/'+ sav+ '.eps')\n",
    "    else:\n",
    "        plt.show()\n",
    "        \n",
    "        \n",
    "def acqDartellung(nombre, inst=test, graf=False):\n",
    "    zeit= tek3.TekScope.Xaxis(inst)\n",
    "    data= zeit\n",
    "    print('\\n')\n",
    "    for count in range(nombre): #\n",
    "        while(test.textAsk('BUSY?')=='1'):\n",
    "            time.sleep(.5)\n",
    "        M2= single()\n",
    "        data= np.vstack([data,M2])\n",
    "        if (graf):\n",
    "            darstellungNurZwei(zeit, M2)\n",
    "        print('\\rN= '+ str(count+ 1), end=' ')\n",
    "    print('\\n')\n",
    "    return data\n",
    "\n",
    "\n",
    "def prom(data, prop):\n",
    "    '''\n",
    "    (array, float) -> array\n",
    "    \n",
    "    Obtiene el promedio de la primer fracción prop de ambos canales de todas las mediciones en data\n",
    "    grProm[0]: ch1, grProm[1]: ch2\n",
    "\n",
    "    '''\n",
    "    messungenZahl= data.shape\n",
    "    erstePunkten= int(messungenZahl[1]* prop)\n",
    "    prom= np.zeros([int((messungenZahl[0]- 1)/ 2), 2])\n",
    "    for i in range(1, messungenZahl[0], 2):\n",
    "        ix= int((i-1)/2)\n",
    "        prom[ix,0]= (data[i][0:erstePunkten-1]).mean()\n",
    "        prom[ix,1]= (data[i+1][0:erstePunkten-1]).mean()\n",
    "    grProm= np.array([ (prom[:,0]).mean(), (prom[:,1]).mean() ])\n",
    "    return grProm\n",
    "\n",
    "\n",
    "class archie:\n",
    "    \"\"\"Nombre archivo - NO FUNCA AUN, NO PUEDO VARIAR EXTERNAMENTE tipo\"\"\"\n",
    "\n",
    "    def __init__(self, tipo, N, camara):\n",
    "        \"\"\" (archie, int, str, str, str) -> NoneType\n",
    "\n",
    "        Un nombre de archivo con ruta, cámara, fecha y número \n",
    "\n",
    "        >>> archie = CashRegister(5, 5, 5, 5, 5)\n",
    "        >>> archie.N\n",
    "        '5'\n",
    "        >>> archie.camara\n",
    "        'n'\n",
    "        >>> archie.path\n",
    "        './data/'\n",
    "        >>> register.date\n",
    "        '150430'\n",
    "        \"\"\"\n",
    "        self.tipo= tipo\n",
    "        self.N=('{:02n}'.format(N))\n",
    "        self.camara = camara\n",
    "        self.path = './data/'\n",
    "        self.date = time.strftime('%y%m%d')\n",
    "        self.ext= '.npy'\n",
    "        self.fileName= self.tipo+ self.date+ self.camara+ self.N+ self.ext"
   ]
  },
  {
   "cell_type": "markdown",
   "metadata": {},
   "source": [
    "# Lectura rápida, graba ints comprimidos"
   ]
  },
  {
   "cell_type": "code",
   "execution_count": 3,
   "metadata": {
    "collapsed": false
   },
   "outputs": [],
   "source": [
    "def ptsAdq():\n",
    "    # correr una vez para obtener parámetros del buffer\n",
    "    buff2 = readBuff2(test) # esta bien la herencia?\n",
    "    dataPointsCharacters= int(buff2[1:2])\n",
    "    dataOffset= 2+ dataPointsCharacters\n",
    "    return (int(buff2[2:2+ dataPointsCharacters])), dataOffset # número de lecturas en cada adquisición\n",
    "\n",
    "\n",
    "def rapi(dataCount, dataOffset):\n",
    "    test.start_acq()\n",
    "    while(test.textAsk('BUSY?')=='1'):\n",
    "        time.sleep(1E-3)\n",
    "    # return (np.frombuffer(readBuff2(test), dtype = np.dtype('int8').newbyteorder('<'), count= dataCount, offset= dataOffset) )  \n",
    "    buff2 = readBuff2(test) # esta bien la herencia?\n",
    "    return ( np.frombuffer(buff2, dtype = np.dtype('int8').newbyteorder('<'), count= dataCount, offset= dataOffset) )\n",
    "\n",
    "\n",
    "def lectura(adquisiciones, puntosAdquisicion, dataOffset, tiempoInicial):\n",
    "    # la lectura en sí\n",
    "    ch1= np.empty([adquisiciones,puntosAdquisicion], dtype ='int8')\n",
    "    ch2= np.empty([adquisiciones,puntosAdquisicion], dtype ='int8')\n",
    "    zeit= test.temps() # zeit\n",
    "    # zeit= tek3.TekScope.Xaxis(test) # zeit\n",
    "    for medicion in range(adquisiciones):\n",
    "        print('\\rmedición '+ str(medicion)+ ' de '+ str(adquisiciones), end=' ')\n",
    "        test.set_data_source(1) # canal 2\n",
    "        ch1[medicion]= rapi(puntosAdquisicion, dataOffset)\n",
    "        test.set_data_source(2) # canal 2\n",
    "        ch2[medicion]= rapi(puntosAdquisicion, dataOffset)\n",
    "    print('\\rmedición '+ str(medicion+ 1)+ ' de '+ str(adquisiciones))\n",
    "    print('Tiempo transcurrido= {:.1f} min'.format((time.time()- tiempoInicial)/60) ) # tiempo transcurrido en segundos\n",
    "    return zeit, ch1, ch2\n",
    "\n",
    "\n",
    "def adquiere(medicionDia, settings, adquisiciones, descripcionDetector, descripcionArchivo, puntosAdquisicion, dataOffset, trgLevel= -0.058):\n",
    "    '''\n",
    "    registra ambos canales en formato de multiples arrays\n",
    "    '''\n",
    "\n",
    "    tiempoInicial= time.time()\n",
    "\n",
    "    # ch2 =lectura(adquisiciones, puntosAdquisicion, dataOffset, tiempoInicial)\n",
    "    [zeit, ch1, ch2]= lectura(adquisiciones, puntosAdquisicion, dataOffset, tiempoInicial)\n",
    "    \n",
    "    # PULSER INVIERTO SIGNO CH1: Mantengo el ánalisis imperturbado\n",
    "    ch1*= -1\n",
    "\n",
    "    # graba    \n",
    "    np.savez_compressed(flName(descripcionDetector, descripcionArchivo, medicionDia), settings=settings, zeit=zeit, ch1=ch1, ch2=ch2)"
   ]
  },
  {
   "cell_type": "markdown",
   "metadata": {},
   "source": [
    "# Consulta al osciloscopio del estado actual"
   ]
  },
  {
   "cell_type": "code",
   "execution_count": 4,
   "metadata": {
    "collapsed": false
   },
   "outputs": [
    {
     "data": {
      "text/plain": [
       "[0.02, 3.0, 0.01, 0.0, '1.0E-7', '3.16E-7', -0.04]"
      ]
     },
     "execution_count": 4,
     "metadata": {},
     "output_type": "execute_result"
    }
   ],
   "source": [
    "[ch1S, ch1p, ch2s, ch2p, hS, hP, trig]= [tds2002b.get_channel_scale('CH1'), tds2002b.get_channel_position('CH1'), tds2002b.get_channel_scale('CH2'), tds2002b.get_channel_position('CH2'), tds2002b.horizontal_main_scale(), tds2002b.horizontal_main_position(), tds2002b.trigger_level()]\n",
    "[ch1S, ch1p, ch2s, ch2p, hS, hP, trig]"
   ]
  },
  {
   "cell_type": "markdown",
   "metadata": {},
   "source": [
    "# Adquisición con generador de pulsos"
   ]
  },
  {
   "cell_type": "code",
   "execution_count": 5,
   "metadata": {
    "collapsed": false
   },
   "outputs": [],
   "source": [
    "# Secuencia principal\n",
    "tds2002b.write('INITIATE_CLEAR')\n",
    "tds2002b.write('HEADER OFF')\n",
    "tds2002b.set_data_encoding('RIBinary')\n",
    "tds2002b.write('ACQuire:MODe SAMple') # test.write('ACQuire:MODe PEAKdetect') lo descarto pues manual dice que puede verse mas ruidoso  \n",
    "tds2002b.write('ACQUIRE:STOPAFTER SEQuence')\n",
    "tds2002b.write('ACQuire:STATE RUN')\n",
    "tds2002b.write('CH1:COUPling DC')\n",
    "tds2002b.write('CH2:COUPling DC')"
   ]
  },
  {
   "cell_type": "code",
   "execution_count": 6,
   "metadata": {
    "collapsed": true
   },
   "outputs": [],
   "source": [
    "# generador pulsos\n",
    "tds2002b.write('CH1:SCAle 0.02')\n",
    "tds2002b.write('CH1:POSition 3.0')\n",
    "tds2002b.write('CH2:SCAle 0.01')\n",
    "tds2002b.write('CH2:POSition 0.0')\n",
    "tds2002b.horizontal_main_scale(1.0E-7)\n",
    "tds2002b.horizontal_main_position(3.16E-7)\n",
    "tds2002b.trigger_source('CH1')\n",
    "tds2002b.trigger_level(-0.04) # [V]"
   ]
  },
  {
   "cell_type": "code",
   "execution_count": 7,
   "metadata": {
    "collapsed": false
   },
   "outputs": [
    {
     "ename": "TypeError",
     "evalue": "ptsAdq() takes 0 positional arguments but 1 was given",
     "output_type": "error",
     "traceback": [
      "\u001b[0;31m---------------------------------------------------------------------------\u001b[0m",
      "\u001b[0;31mTypeError\u001b[0m                                 Traceback (most recent call last)",
      "\u001b[0;32m<ipython-input-7-8e3829156cfc>\u001b[0m in \u001b[0;36m<module>\u001b[0;34m()\u001b[0m\n\u001b[1;32m      1\u001b[0m \u001b[0msettings\u001b[0m\u001b[0;34m=\u001b[0m \u001b[0mparam\u001b[0m\u001b[0;34m(\u001b[0m\u001b[0mtds2002b\u001b[0m\u001b[0;34m)\u001b[0m\u001b[0;34m\u001b[0m\u001b[0m\n\u001b[0;32m----> 2\u001b[0;31m \u001b[0;34m[\u001b[0m\u001b[0mpuntosAdquisicion\u001b[0m\u001b[0;34m,\u001b[0m \u001b[0mdataOffset\u001b[0m\u001b[0;34m]\u001b[0m \u001b[0;34m=\u001b[0m \u001b[0mptsAdq\u001b[0m\u001b[0;34m(\u001b[0m\u001b[0mtds2002b\u001b[0m\u001b[0;34m)\u001b[0m \u001b[0;31m# puntos por cada adquisición, headbits en cada adquisición\u001b[0m\u001b[0;34m\u001b[0m\u001b[0m\n\u001b[0m\u001b[1;32m      3\u001b[0m \u001b[0;34m\u001b[0m\u001b[0m\n\u001b[1;32m      4\u001b[0m \u001b[0mdescripcionDetector\u001b[0m\u001b[0;34m=\u001b[0m \u001b[0;34m'z'\u001b[0m\u001b[0;34m\u001b[0m\u001b[0m\n\u001b[1;32m      5\u001b[0m \u001b[0mdescripcionArchivo\u001b[0m\u001b[0;34m=\u001b[0m \u001b[0;34m'pul'\u001b[0m\u001b[0;34m\u001b[0m\u001b[0m\n",
      "\u001b[0;31mTypeError\u001b[0m: ptsAdq() takes 0 positional arguments but 1 was given"
     ]
    }
   ],
   "source": [
    "settings= param(tds2002b)\n",
    "[puntosAdquisicion, dataOffset] = ptsAdq(tds2002b) # puntos por cada adquisición, headbits en cada adquisición\n",
    "\n",
    "descripcionDetector= 'z'\n",
    "descripcionArchivo= 'pul'\n",
    "adquisiciones= 1*1280 # número de lecturas"
   ]
  },
  {
   "cell_type": "code",
   "execution_count": null,
   "metadata": {
    "collapsed": true
   },
   "outputs": [],
   "source": [
    "for medicionDia in np.arange(1,2): # medición 1 a 2 (dos mediciones)\n",
    "    adquiere(medicionDia, settings, adquisiciones, descripcionDetector, descripcionArchivo, puntosAdquisicion, dataOffset)"
   ]
  },
  {
   "cell_type": "markdown",
   "metadata": {},
   "source": [
    "# Ensayos"
   ]
  },
  {
   "cell_type": "code",
   "execution_count": 10,
   "metadata": {
    "collapsed": false
   },
   "outputs": [],
   "source": [
    "test.write('HEADER OFF')"
   ]
  },
  {
   "cell_type": "markdown",
   "metadata": {},
   "source": [
    "### Lectura simple"
   ]
  },
  {
   "cell_type": "code",
   "execution_count": 11,
   "metadata": {
    "collapsed": false
   },
   "outputs": [
    {
     "data": {
      "text/plain": [
       "{':HARDCOPY:BUTTON': 'SAVESALL',\n",
       " ':MATH:FFT:VERTICAL:POSITION': '0.0E0',\n",
       " ':CURSOR:VBARS:UNITS': 'SECONDS',\n",
       " 'STOPAFTER': 'SEQUENCE',\n",
       " ':DISPLAY:FORMAT': 'YT',\n",
       " ':TRIGGER:MAIN:MODE': 'NORMAL',\n",
       " 'SOURCE': 'CH2',\n",
       " ':MEASUREMENT:MEAS5:TYPE': 'FREQUENCY',\n",
       " 'STATE': '0',\n",
       " 'INKSAVER': 'ON',\n",
       " 'COUPLING': 'DC',\n",
       " ':VERBOSE': '1',\n",
       " 'CURRENTPROBE': '1.0E1',\n",
       " 'IDPRINT': 'DEFLT',\n",
       " 'DATEPRINT': 'DEFLT',\n",
       " 'FORMAT': 'EPSIMAGE',\n",
       " ':CH1:PROBE': '1.0E0',\n",
       " 'LAYOUT': 'PORTRAIT',\n",
       " 'SOURCE1': 'CH1',\n",
       " 'DESTINATION': 'REFA',\n",
       " ':PICTBRIDGE:PAPERSIZE': 'DEFLT',\n",
       " ':HORIZONTAL:VIEW': 'MAIN',\n",
       " ':ACQUIRE:MODE': 'SAMPLE',\n",
       " ':AUTORANGE:SETTINGS': 'BOTH',\n",
       " 'BANDWIDTH': 'OFF',\n",
       " ':SAVE:IMAGE:FILEFORMAT': 'EPSIMAGE',\n",
       " ':LANGUAGE': 'SPANISH',\n",
       " 'WIDTH:POLARITY': 'POSITIVE',\n",
       " 'YUNIT': '\"V\"',\n",
       " 'TYPE': 'EDGE',\n",
       " ':MEASUREMENT:MEAS1:TYPE': 'PK2PK',\n",
       " 'SYNC': 'FIELD',\n",
       " 'STYLE': 'VECTORS',\n",
       " 'CH2': '1',\n",
       " 'WIDTH': '1.0E-3',\n",
       " 'STOP': '2500',\n",
       " 'PERSISTENCE': '0',\n",
       " ':MEASUREMENT:MEAS2:TYPE': 'PERIOD',\n",
       " 'STANDARD': 'NTSC',\n",
       " ':CURSOR:HBARS:POSITION1': '-1.0E-1',\n",
       " 'PRINTQUAL': 'DEFLT',\n",
       " 'SCALE1': 0.02,\n",
       " ':TRIGGER:MAIN:VIDEO:SOURCE': 'CH1',\n",
       " 'REFA': '0',\n",
       " ':DATA:ENCDG': 'RIBINARY',\n",
       " ':MEASUREMENT:MEAS4:TYPE': 'PK2PK',\n",
       " ':TRIGGER:MAIN:PULSE:SOURCE': 'CH1',\n",
       " 'SLOPE': 'RISE',\n",
       " 'SCALE2': 0.5,\n",
       " ':TRIGGER:MAIN:EDGE:SOURCE': 'CH1',\n",
       " 'POSITION2': -2.0,\n",
       " 'POSITION': '4.75E-7',\n",
       " ':MEASUREMENT:METHOD': 'AUTO',\n",
       " 'HOLDOFF:VALUE': '5.0E-7',\n",
       " 'SCALE': '1.0E0',\n",
       " 'VERTICAL:POSITION': '0.0E0',\n",
       " ':LOCK': 'NONE',\n",
       " 'REFB': '0',\n",
       " 'MATH': '0',\n",
       " 'POLARITY': 'NORMAL',\n",
       " 'WHEN': 'EQUAL',\n",
       " ':TRIGGER:MAIN:LEVEL': '-4.96E-2',\n",
       " 'POSITION1': 2.0,\n",
       " 'NUMAVG': '128',\n",
       " 'START': '1',\n",
       " ':MEASUREMENT:IMMED:TYPE': 'PERIOD',\n",
       " 'CONTRAST': '54',\n",
       " 'PORT': 'USB',\n",
       " ':CH2:PROBE': '1.0E0',\n",
       " ':SELECT:CH1': '1',\n",
       " 'LINE': '1',\n",
       " 'SELECT:SOURCE': 'CH1',\n",
       " ':CURSOR:FUNCTION': 'OFF',\n",
       " 'IMAGESIZE': 'DEFLT',\n",
       " 'PAPERTYPE': 'DEFLT',\n",
       " 'ELECTRONICA': 'Luis',\n",
       " 'MAIN:SCALE': '1.0E-7',\n",
       " ':MEASUREMENT:MEAS3:TYPE': 'NWIDTH',\n",
       " ':HORIZONTAL:DELAY:SCALE': '5.0E-9',\n",
       " ':MATH:DEFINE': '\"CH1-CH2\"',\n",
       " ':MATH:FFT:HORIZONTAL:POSITION': '5.0E1',\n",
       " 'INVERT': 'OFF'}"
      ]
     },
     "execution_count": 11,
     "metadata": {},
     "output_type": "execute_result"
    }
   ],
   "source": [
    "settings= param()\n",
    "settings"
   ]
  },
  {
   "cell_type": "code",
   "execution_count": 6,
   "metadata": {
    "collapsed": false
   },
   "outputs": [
    {
     "ename": "NameError",
     "evalue": "name 'settings' is not defined",
     "output_type": "error",
     "traceback": [
      "\u001b[0;31m---------------------------------------------------------------------------\u001b[0m\n\u001b[0;31mNameError\u001b[0m                                 Traceback (most recent call last)",
      "\u001b[0;32m<ipython-input-6-819ddd13abdf>\u001b[0m in \u001b[0;36m<module>\u001b[0;34m()\u001b[0m\n\u001b[0;32m----> 1\u001b[0;31m \u001b[0mnp\u001b[0m\u001b[0;34m.\u001b[0m\u001b[0mfloat\u001b[0m\u001b[0;34m(\u001b[0m\u001b[0msettings\u001b[0m\u001b[0;34m[\u001b[0m\u001b[0;34m'POSITION1'\u001b[0m\u001b[0;34m]\u001b[0m\u001b[0;34m)\u001b[0m\u001b[0;34m\u001b[0m\u001b[0m\n\u001b[0m",
      "\u001b[0;31mNameError\u001b[0m: name 'settings' is not defined"
     ]
    }
   ],
   "source": [
    "np.float(settings['POSITION1'])"
   ]
  },
  {
   "cell_type": "code",
   "execution_count": 7,
   "metadata": {
    "collapsed": false
   },
   "outputs": [
    {
     "ename": "ValueError",
     "evalue": "invalid literal for int() with base 10: b'C'",
     "output_type": "error",
     "traceback": [
      "\u001b[0;31m---------------------------------------------------------------------------\u001b[0m\n\u001b[0;31mValueError\u001b[0m                                Traceback (most recent call last)",
      "\u001b[0;32m<ipython-input-7-362ec988f134>\u001b[0m in \u001b[0;36m<module>\u001b[0;34m()\u001b[0m\n\u001b[0;32m----> 1\u001b[0;31m \u001b[0;34m[\u001b[0m\u001b[0mpuntosAdquisicion\u001b[0m\u001b[0;34m,\u001b[0m \u001b[0mdataOffset\u001b[0m\u001b[0;34m]\u001b[0m \u001b[0;34m=\u001b[0m \u001b[0mptsAdq\u001b[0m\u001b[0;34m(\u001b[0m\u001b[0;34m)\u001b[0m \u001b[0;31m# puntos por cada adquisición, headbits en cada adquisición\u001b[0m\u001b[0;34m\u001b[0m\u001b[0m\n\u001b[0m\u001b[1;32m      2\u001b[0m \u001b[0;34m[\u001b[0m\u001b[0mzeit\u001b[0m\u001b[0;34m,\u001b[0m \u001b[0mch1\u001b[0m\u001b[0;34m,\u001b[0m \u001b[0mch2\u001b[0m\u001b[0;34m]\u001b[0m\u001b[0;34m=\u001b[0m\u001b[0mlectura\u001b[0m\u001b[0;34m(\u001b[0m\u001b[0;36m1\u001b[0m\u001b[0;34m,\u001b[0m \u001b[0mpuntosAdquisicion\u001b[0m\u001b[0;34m,\u001b[0m \u001b[0mdataOffset\u001b[0m\u001b[0;34m,\u001b[0m \u001b[0;36m0\u001b[0m\u001b[0;34m)\u001b[0m\u001b[0;34m\u001b[0m\u001b[0m\n",
      "\u001b[0;32m<ipython-input-3-aee0265d6495>\u001b[0m in \u001b[0;36mptsAdq\u001b[0;34m()\u001b[0m\n\u001b[1;32m      2\u001b[0m     \u001b[0;31m# correr una vez para obtener parámetros del buffer\u001b[0m\u001b[0;34m\u001b[0m\u001b[0;34m\u001b[0m\u001b[0m\n\u001b[1;32m      3\u001b[0m     \u001b[0mbuff2\u001b[0m \u001b[0;34m=\u001b[0m \u001b[0mreadBuff2\u001b[0m\u001b[0;34m(\u001b[0m\u001b[0mtest\u001b[0m\u001b[0;34m)\u001b[0m \u001b[0;31m# esta bien la herencia?\u001b[0m\u001b[0;34m\u001b[0m\u001b[0m\n\u001b[0;32m----> 4\u001b[0;31m     \u001b[0mdataPointsCharacters\u001b[0m\u001b[0;34m=\u001b[0m \u001b[0mint\u001b[0m\u001b[0;34m(\u001b[0m\u001b[0mbuff2\u001b[0m\u001b[0;34m[\u001b[0m\u001b[0;36m1\u001b[0m\u001b[0;34m:\u001b[0m\u001b[0;36m2\u001b[0m\u001b[0;34m]\u001b[0m\u001b[0;34m)\u001b[0m\u001b[0;34m\u001b[0m\u001b[0m\n\u001b[0m\u001b[1;32m      5\u001b[0m     \u001b[0mdataOffset\u001b[0m\u001b[0;34m=\u001b[0m \u001b[0;36m2\u001b[0m\u001b[0;34m+\u001b[0m \u001b[0mdataPointsCharacters\u001b[0m\u001b[0;34m\u001b[0m\u001b[0m\n\u001b[1;32m      6\u001b[0m     \u001b[0;32mreturn\u001b[0m \u001b[0;34m(\u001b[0m\u001b[0mint\u001b[0m\u001b[0;34m(\u001b[0m\u001b[0mbuff2\u001b[0m\u001b[0;34m[\u001b[0m\u001b[0;36m2\u001b[0m\u001b[0;34m:\u001b[0m\u001b[0;36m2\u001b[0m\u001b[0;34m+\u001b[0m \u001b[0mdataPointsCharacters\u001b[0m\u001b[0;34m]\u001b[0m\u001b[0;34m)\u001b[0m\u001b[0;34m)\u001b[0m\u001b[0;34m,\u001b[0m \u001b[0mdataOffset\u001b[0m \u001b[0;31m# número de lecturas en cada adquisición\u001b[0m\u001b[0;34m\u001b[0m\u001b[0m\n",
      "\u001b[0;31mValueError\u001b[0m: invalid literal for int() with base 10: b'C'"
     ]
    }
   ],
   "source": [
    "[puntosAdquisicion, dataOffset] = ptsAdq() # puntos por cada adquisición, headbits en cada adquisición\n",
    "[zeit, ch1, ch2]=lectura(1, puntosAdquisicion, dataOffset, 0)"
   ]
  },
  {
   "cell_type": "code",
   "execution_count": 18,
   "metadata": {
    "collapsed": false
   },
   "outputs": [],
   "source": [
    "cosaCh1= ((4/100)* ch1[0]- np.float(settings['POSITION1']) )* np.float(settings['SCALE1'])\n",
    "cosaCh2= ((4/100)* ch2[0]- np.float(settings['POSITION2']) )* np.float(settings['SCALE2'])"
   ]
  },
  {
   "cell_type": "code",
   "execution_count": 19,
   "metadata": {
    "collapsed": false
   },
   "outputs": [
    {
     "data": {
      "text/plain": [
       "[<matplotlib.lines.Line2D at 0x7f9353f5ada0>]"
      ]
     },
     "execution_count": 19,
     "metadata": {},
     "output_type": "execute_result"
    },
    {
     "data": {
      "image/png": "[encoded data removed]",
      "text/plain": [
       "<matplotlib.figure.Figure at 0x7f9353f5a550>"
      ]
     },
     "metadata": {},
     "output_type": "display_data"
    }
   ],
   "source": [
    "plt.plot(cosaCh1)\n",
    "plt.plot(cosaCh2)"
   ]
  },
  {
   "cell_type": "code",
   "execution_count": 83,
   "metadata": {
    "collapsed": false
   },
   "outputs": [
    {
     "data": {
      "text/plain": [
       "[<matplotlib.lines.Line2D at 0x7f0c75995cc0>]"
      ]
     },
     "execution_count": 83,
     "metadata": {},
     "output_type": "execute_result"
    },
    {
     "data": {
      "image/png": "[encoded data removed]",
      "text/plain": [
       "<matplotlib.figure.Figure at 0x7f0c75a1a550>"
      ]
     },
     "metadata": {},
     "output_type": "display_data"
    }
   ],
   "source": [
    "ch1_nega= ch1[0]* (-1)\n",
    "cosa_nega= ((4/100)* ch1_nega+ np.float(settings['POSITION1']) )* np.float(settings['SCALE1'])\n",
    "plt.plot(cosa_nega)"
   ]
  },
  {
   "cell_type": "markdown",
   "metadata": {},
   "source": [
    "## Análisis"
   ]
  },
  {
   "cell_type": "code",
   "execution_count": 6,
   "metadata": {
    "collapsed": false
   },
   "outputs": [
    {
     "data": {
      "text/plain": [
       "(0.02, 2.0, 0.5, -2.0, '1.0E-7', '2.56E-7', -0.0496)"
      ]
     },
     "execution_count": 6,
     "metadata": {},
     "output_type": "execute_result"
    }
   ],
   "source": [
    "test.get_channel_scale('CH1'), test.get_channel_position('CH1'), test.get_channel_scale('CH2'), test.get_channel_position('CH2'), test.horizontal_main_scale(), test.horizontal_main_position(), test.trigger_level()"
   ]
  },
  {
   "cell_type": "code",
   "execution_count": 5,
   "metadata": {
    "collapsed": false
   },
   "outputs": [],
   "source": [
    "settings= param()"
   ]
  },
  {
   "cell_type": "code",
   "execution_count": 7,
   "metadata": {
    "collapsed": false
   },
   "outputs": [
    {
     "data": {
      "text/plain": [
       "'1.0E-7'"
      ]
     },
     "execution_count": 7,
     "metadata": {},
     "output_type": "execute_result"
    }
   ],
   "source": [
    "test.horizontal_main_scale()"
   ]
  },
  {
   "cell_type": "code",
   "execution_count": 4,
   "metadata": {
    "collapsed": false
   },
   "outputs": [
    {
     "data": {
      "text/plain": [
       "'2.0E-7'"
      ]
     },
     "execution_count": 4,
     "metadata": {},
     "output_type": "execute_result"
    }
   ],
   "source": [
    "test.horizontal_main_position()"
   ]
  },
  {
   "cell_type": "code",
   "execution_count": 6,
   "metadata": {
    "collapsed": false
   },
   "outputs": [],
   "source": [
    "test.horizontal_main_position(2.0E-7)\n",
    "test.horizontal_main_scale(1.0E-7)"
   ]
  },
  {
   "cell_type": "code",
   "execution_count": 8,
   "metadata": {
    "collapsed": false
   },
   "outputs": [],
   "source": [
    "test.write('INITIATE_CLEAR')\n",
    "test.set_data_encoding('RIBinary')\n",
    "test.write('ACQuire:MODe SAMple') # test.write('ACQuire:MODe PEAKdetect') lo descarto pues manual dice que puede verse mas ruidoso  \n",
    "test.write('ACQUIRE:STOPAFTER SEQUENCE')\n",
    "test.write('ACQuire:STATE RUN')\n",
    "test.write('CH1:POSition 3.0')\n",
    "test.write('CH1:SCAle 5E-2')\n",
    "test.write('CH2:POSition -3.0')\n",
    "test.write('CH2:SCAle 2E-1')\n",
    "test.horizontal_main_position(2.0E-7)\n",
    "test.horizontal_main_scale(1.0E-7)\n",
    "test.trigger_source('CH1')\n",
    "trgLevel= -0.1\n",
    "test.trigger_level(trgLevel)"
   ]
  },
  {
   "cell_type": "code",
   "execution_count": 13,
   "metadata": {
    "collapsed": false
   },
   "outputs": [],
   "source": [
    "[puntosAdquisicion, dataOffset] = ptsAdq() # puntos por cada adquisición, headbits en cada adquisición"
   ]
  },
  {
   "cell_type": "code",
   "execution_count": 9,
   "metadata": {
    "collapsed": false
   },
   "outputs": [
    {
     "data": {
      "text/plain": [
       "(0.02, 3.0)"
      ]
     },
     "execution_count": 9,
     "metadata": {},
     "output_type": "execute_result"
    }
   ],
   "source": [
    "test.get_channel_scale('CH1'), test.get_channel_position('CH1')"
   ]
  },
  {
   "cell_type": "code",
   "execution_count": 18,
   "metadata": {
    "collapsed": false
   },
   "outputs": [
    {
     "data": {
      "text/plain": [
       "-13"
      ]
     },
     "execution_count": 18,
     "metadata": {},
     "output_type": "execute_result"
    }
   ],
   "source": [
    "aou=13\n",
    "aou*=-1\n",
    "aou"
   ]
  },
  {
   "cell_type": "code",
   "execution_count": 12,
   "metadata": {
    "collapsed": false
   },
   "outputs": [],
   "source": [
    "test.write('CH1:POSition 4.0')\n"
   ]
  },
  {
   "cell_type": "code",
   "execution_count": 13,
   "metadata": {
    "collapsed": false
   },
   "outputs": [
    {
     "name": "stdout",
     "output_type": "stream",
     "text": [
      "medición 1 de 1\n",
      "Tiempo transcurrido= 0.0 min\n"
     ]
    }
   ],
   "source": [
    "test.write('INITIATE_CLEAR')\n",
    "test.set_data_encoding('RIBinary')\n",
    "test.write('ACQuire:MODe SAMple') # test.write('ACQuire:MODe PEAKdetect') lo descarto pues manual dice que puede verse mas ruidoso  \n",
    "test.write('ACQUIRE:STOPAFTER SEQUENCE')\n",
    "test.write('ACQuire:STATE RUN')\n",
    "test.write('CH1:SCAle 0.02')\n",
    "test.write('CH1:POSition 4.0')\n",
    "test.write('CH2:SCAle 0.5')\n",
    "test.write('CH2:POSition -2.0')\n",
    "test.horizontal_main_scale(1.0E-7)\n",
    "test.horizontal_main_position(0)\n",
    "trgLevel= -0.05\n",
    "test.trigger_source('CH1')\n",
    "test.trigger_level(trgLevel)\n",
    "\n",
    "# adquisiciones= 1280 # número de lecturas\n",
    "adquisiciones= 1 # número de lecturas\n",
    "\n",
    "descripcionDetector= 'z'\n",
    "descripcionArchivo= 'pul'\n",
    "\n",
    "settings= param()\n",
    "[puntosAdquisicion, dataOffset] = ptsAdq() # puntos por cada adquisición, headbits en cada adquisición\n",
    "\n",
    "for medicionDia in np.arange(1,2): # medición 1 a 2 (dos mediciones)\n",
    "    adquiere(medicionDia, settings, adquisiciones, descripcionDetector, descripcionArchivo, puntosAdquisicion, dataOffset)"
   ]
  },
  {
   "cell_type": "code",
   "execution_count": 17,
   "metadata": {
    "collapsed": false
   },
   "outputs": [
    {
     "data": {
      "text/plain": [
       "-4.96e-07"
      ]
     },
     "execution_count": 17,
     "metadata": {},
     "output_type": "execute_result"
    }
   ],
   "source": [
    "test.get_out_waveform_horizontal_zero()"
   ]
  },
  {
   "cell_type": "code",
   "execution_count": 19,
   "metadata": {
    "collapsed": false
   },
   "outputs": [],
   "source": [
    "test.horizontal_main_position('0')"
   ]
  },
  {
   "cell_type": "code",
   "execution_count": 20,
   "metadata": {
    "collapsed": false
   },
   "outputs": [
    {
     "data": {
      "text/plain": [
       "'0.0E0'"
      ]
     },
     "execution_count": 20,
     "metadata": {},
     "output_type": "execute_result"
    }
   ],
   "source": [
    "test.horizontal_main_position()"
   ]
  },
  {
   "cell_type": "code",
   "execution_count": 21,
   "metadata": {
    "collapsed": false
   },
   "outputs": [
    {
     "data": {
      "text/plain": [
       "'1.0E-7'"
      ]
     },
     "execution_count": 21,
     "metadata": {},
     "output_type": "execute_result"
    }
   ],
   "source": [
    "test.horizontal_main_scale()"
   ]
  },
  {
   "cell_type": "code",
   "execution_count": 37,
   "metadata": {
    "collapsed": false
   },
   "outputs": [
    {
     "data": {
      "text/plain": [
       "'4.0E-10'"
      ]
     },
     "execution_count": 37,
     "metadata": {},
     "output_type": "execute_result"
    }
   ],
   "source": [
    "xincr= test.textAsk('WFMPre:XINcr?')\n",
    "xincr"
   ]
  },
  {
   "cell_type": "code",
   "execution_count": 36,
   "metadata": {
    "collapsed": false
   },
   "outputs": [
    {
     "data": {
      "text/plain": [
       "'-5.0E-7'"
      ]
     },
     "execution_count": 36,
     "metadata": {},
     "output_type": "execute_result"
    }
   ],
   "source": [
    "xzero= test.textAsk('WFMPre:XZEro?')\n",
    "xzero"
   ]
  },
  {
   "cell_type": "code",
   "execution_count": 30,
   "metadata": {
    "collapsed": false
   },
   "outputs": [
    {
     "data": {
      "text/plain": [
       "5e-07"
      ]
     },
     "execution_count": 30,
     "metadata": {},
     "output_type": "execute_result"
    }
   ],
   "source": [
    "float(xzero)+ 2500*float(xincr)"
   ]
  },
  {
   "cell_type": "code",
   "execution_count": 31,
   "metadata": {
    "collapsed": false
   },
   "outputs": [
    {
     "data": {
      "text/plain": [
       "-4.996e-07"
      ]
     },
     "execution_count": 31,
     "metadata": {},
     "output_type": "execute_result"
    }
   ],
   "source": [
    "float(xzero)+ 1*float(xincr)"
   ]
  },
  {
   "cell_type": "code",
   "execution_count": 33,
   "metadata": {
    "collapsed": false
   },
   "outputs": [
    {
     "data": {
      "text/plain": [
       "2500"
      ]
     },
     "execution_count": 33,
     "metadata": {},
     "output_type": "execute_result"
    }
   ],
   "source": [
    "test.get_horizontal_record_length()"
   ]
  },
  {
   "cell_type": "code",
   "execution_count": 34,
   "metadata": {
    "collapsed": false
   },
   "outputs": [],
   "source": [
    "tiempos= [1,2]"
   ]
  },
  {
   "cell_type": "code",
   "execution_count": 35,
   "metadata": {
    "collapsed": false
   },
   "outputs": [
    {
     "data": {
      "text/plain": [
       "1"
      ]
     },
     "execution_count": 35,
     "metadata": {},
     "output_type": "execute_result"
    }
   ],
   "source": [
    "tiempos[0]"
   ]
  },
  {
   "cell_type": "code",
   "execution_count": 53,
   "metadata": {
    "collapsed": false
   },
   "outputs": [
    {
     "data": {
      "text/plain": [
       "-4.9999999999999998e-07"
      ]
     },
     "execution_count": 53,
     "metadata": {},
     "output_type": "execute_result"
    }
   ],
   "source": [
    "temps=float(xzero)+arange(2500)*float(xincr)\n",
    "temps[0]"
   ]
  },
  {
   "cell_type": "code",
   "execution_count": 52,
   "metadata": {
    "collapsed": false
   },
   "outputs": [
    {
     "data": {
      "text/plain": [
       "4.988000000000001e-07"
      ]
     },
     "execution_count": 52,
     "metadata": {},
     "output_type": "execute_result"
    }
   ],
   "source": [
    "temps[2497]"
   ]
  },
  {
   "cell_type": "code",
   "execution_count": 54,
   "metadata": {
    "collapsed": false
   },
   "outputs": [
    {
     "data": {
      "text/plain": [
       "4.9960000000000016e-07"
      ]
     },
     "execution_count": 54,
     "metadata": {},
     "output_type": "execute_result"
    }
   ],
   "source": [
    "temps[2499]"
   ]
  },
  {
   "cell_type": "code",
   "execution_count": 55,
   "metadata": {
    "collapsed": false
   },
   "outputs": [
    {
     "data": {
      "text/plain": [
       "0.0"
      ]
     },
     "execution_count": 55,
     "metadata": {},
     "output_type": "execute_result"
    }
   ],
   "source": [
    "np.round(temps[2499],3)"
   ]
  },
  {
   "cell_type": "code",
   "execution_count": 59,
   "metadata": {
    "collapsed": false
   },
   "outputs": [
    {
     "name": "stdout",
     "output_type": "stream",
     "text": [
      "%s\n"
     ]
    }
   ],
   "source": [
    "print('%s'.format(temps[2499]))"
   ]
  },
  {
   "cell_type": "code",
   "execution_count": 69,
   "metadata": {
    "collapsed": false
   },
   "outputs": [
    {
     "name": "stdout",
     "output_type": "stream",
     "text": [
      "5.00e-07\n"
     ]
    }
   ],
   "source": [
    "print('{:4.2e}'.format(temps[2499]))"
   ]
  },
  {
   "cell_type": "code",
   "execution_count": null,
   "metadata": {
    "collapsed": false
   },
   "outputs": [],
   "source": [
    "def temps(self):\n",
    "    xincr= self.get_out_waveform_horizontal_sampling_interval()\n",
    "    xzero= self.get_out_waveform_horizontal_zero()\n",
    "    lesTemps= xzero+ np.arange(2500)* xincr\n",
    "    return lesTemps"
   ]
  },
  {
   "cell_type": "code",
   "execution_count": 21,
   "metadata": {
    "collapsed": false
   },
   "outputs": [
    {
     "data": {
      "text/plain": [
       "4e-10"
      ]
     },
     "execution_count": 21,
     "metadata": {},
     "output_type": "execute_result"
    }
   ],
   "source": [
    "test.get_out_waveform_horizontal_sampling_interval()"
   ]
  },
  {
   "cell_type": "code",
   "execution_count": null,
   "metadata": {
    "collapsed": false
   },
   "outputs": [],
   "source": []
  }
 ],
 "metadata": {
  "kernelspec": {
   "display_name": "Python 3",
   "language": "python",
   "name": "python3"
  },
  "language_info": {
   "codemirror_mode": {
    "name": "ipython",
    "version": 3
   },
   "file_extension": ".py",
   "mimetype": "text/x-python",
   "name": "python",
   "nbconvert_exporter": "python",
   "pygments_lexer": "ipython3",
   "version": "3.5.3"
  }
 },
 "nbformat": 4,
 "nbformat_minor": 0
}
