{
 "cells": [
  {
   "cell_type": "code",
   "execution_count": 3,
   "metadata": {
    "collapsed": false
   },
   "outputs": [
    {
     "name": "stdout",
     "output_type": "stream",
     "text": [
      "Populating the interactive namespace from numpy and matplotlib\n",
      "TEKTRONIX,TDS 2002B,C101891,CF:91.1CT FV:v22.11\n",
      "The autoreload extension is already loaded. To reload it, use:\n",
      "  %reload_ext autoreload\n"
     ]
    }
   ],
   "source": [
    "%pylab inline\n",
    "# coding=utf-8\n",
    "\n",
    "import tek3 # import tek3 as tek3 : utilidades de comunicación con Tek2002B\n",
    "import time # import time\n",
    "tds2002b = tek3.TekScope(\"/dev/usbtmc1\") # creo una instancia de tek3.TekScope\n",
    "\n",
    "# refresca lo importado de tek3 cada vez que se hace ejecución\n",
    "%load_ext autoreload\n",
    "%autoreload 2"
   ]
  },
  {
   "cell_type": "markdown",
   "metadata": {},
   "source": [
    "# Funciones de lectura y archivado"
   ]
  },
  {
   "cell_type": "code",
   "execution_count": 4,
   "metadata": {
    "collapsed": false
   },
   "outputs": [],
   "source": [
    "def flName(camara, tipo, N):\n",
    "    filePath= './data/'\n",
    "    fileDate= time.strftime('%y%m%d')\n",
    "    fileCamara= camara # 'n' nuestra = Campbelliana\n",
    "    fileN= N\n",
    "    fileExt= '.npy'\n",
    "    fileType= tipo\n",
    "    fileName= filePath+ fileType+ fileDate + fileCamara+ ('{:02n}'.format(fileN))+ fileExt\n",
    "    return fileName\n",
    "\n",
    "\n",
    "def escalas(osciloscopioTek):\n",
    "    # obtener una vez los límites verticales del canal\n",
    "    pos1 = osciloscopioTek.get_channel_position(1)\n",
    "    scale1 = osciloscopioTek.get_channel_scale(1)\n",
    "    pos2 = osciloscopioTek.get_channel_position(2)\n",
    "    scale2 = osciloscopioTek.get_channel_scale(2)\n",
    "    return pos1, scale1, pos2, scale2\n",
    "\n",
    "\n",
    "def param(osciloscopioTek):\n",
    "    '''\n",
    "    Grabo parámetros de la medición\n",
    "    '''\n",
    "    osciloscopioTek.load_setup() # Obtiene parámetros del osciloscopio\n",
    "    sets= osciloscopioTek.dico\n",
    "    [pos1, scale1, pos2, scale2]= escalas(osciloscopioTek)\n",
    "    sets['POSITION1']= pos1\n",
    "    sets['SCALE1']= scale1\n",
    "    sets['POSITION2']= pos2\n",
    "    sets['SCALE2']= scale2\n",
    "    sets['ELECTRONICA']= 'Luis'\n",
    "    return sets\n",
    "\n",
    "def readBuff2(self):\n",
    "    try:\n",
    "        return self.ask('CURVE?')\n",
    "    except TimeoutError:\n",
    "        print('Probably requested channel has no data')\n",
    "        raise\n",
    "\n",
    "def ptsAdq(osciloscopioTek):\n",
    "    # correr una vez para obtener parámetros del buffer\n",
    "    buff2 = readBuff2(osciloscopioTek) # esta bien la herencia?\n",
    "    dataPointsCharacters= int(buff2[1:2])\n",
    "    dataOffset= 2+ dataPointsCharacters\n",
    "    return (int(buff2[2:2+ dataPointsCharacters])), dataOffset # número de lecturas en cada adquisición\n",
    "\n",
    "\n",
    "def rapi(osciloscopioTek, dataCount, dataOffset):\n",
    "    osciloscopioTek.start_acq()\n",
    "    while(osciloscopioTek.textAsk('BUSY?')=='1'):\n",
    "        time.sleep(1E-3)\n",
    "    buff2 = readBuff2(osciloscopioTek) # esta bien la herencia?\n",
    "    return ( np.frombuffer(buff2, dtype = np.dtype('int8').newbyteorder('<'), count= dataCount, offset= dataOffset) )\n",
    "\n",
    "\n",
    "def lectura(osciloscopioTek, adquisiciones, puntosAdquisicion, dataOffset, tiempoInicial):\n",
    "    # la lectura en sí\n",
    "    ch1= np.empty([adquisiciones,puntosAdquisicion], dtype ='int8')\n",
    "    ch2= np.empty([adquisiciones,puntosAdquisicion], dtype ='int8')\n",
    "    zeit= tek3.TekScope.Xaxis(osciloscopioTek) # zeit\n",
    "    for medicion in range(adquisiciones):\n",
    "        print('\\rmedición '+ str(medicion)+ ' de '+ str(adquisiciones), end=' ')\n",
    "        osciloscopioTek.set_data_source(1) # canal 2\n",
    "        ch1[medicion]= rapi(osciloscopioTek, puntosAdquisicion, dataOffset)\n",
    "        osciloscopioTek.set_data_source(2) # canal 2\n",
    "        ch2[medicion]= rapi(osciloscopioTek, puntosAdquisicion, dataOffset)\n",
    "    print('\\rmedición '+ str(medicion+ 1)+ ' de '+ str(adquisiciones))\n",
    "    print('Tiempo transcurrido= {:.1f} min'.format((time.time()- tiempoInicial)/60) ) # tiempo transcurrido en segundos\n",
    "    return zeit, ch1, ch2\n",
    "\n",
    "\n",
    "def adquiere(osciloscopioTek, medicionDia, settings, adquisiciones, descripcionDetector, descripcionArchivo, puntosAdquisicion, dataOffset, trgLevel= -0.058):\n",
    "    '''\n",
    "    registra ambos canales en formato de multiples arrays\n",
    "    '''\n",
    "    tiempoInicial= time.time()\n",
    "    # ch2 =lectura(adquisiciones, puntosAdquisicion, dataOffset, tiempoInicial)\n",
    "    [zeit, ch1, ch2]= lectura(osciloscopioTek, adquisiciones, puntosAdquisicion, dataOffset, tiempoInicial)\n",
    "    # PULSER INVIERTO SIGNO CH1: Mantengo el ánalisis imperturbado\n",
    "    ch1*= -1\n",
    "    # graba    \n",
    "    np.savez_compressed(flName(descripcionDetector, descripcionArchivo, medicionDia), settings=settings, zeit=zeit, ch1=ch1, ch2=ch2)"
   ]
  },
  {
   "cell_type": "markdown",
   "metadata": {},
   "source": [
    "# Configuración previa a primer adquisición"
   ]
  },
  {
   "cell_type": "code",
   "execution_count": 5,
   "metadata": {
    "collapsed": false
   },
   "outputs": [],
   "source": [
    "# Secuencia principal\n",
    "tds2002b.write('INITIATE_CLEAR')\n",
    "tds2002b.write('HEADER OFF')\n",
    "tds2002b.set_data_encoding('RIBinary')\n",
    "tds2002b.write('ACQuire:MODe SAMple') # test.write('ACQuire:MODe PEAKdetect') lo descarto pues manual dice que puede verse mas ruidoso  \n",
    "tds2002b.write('ACQUIRE:STOPAFTER SEQuence')\n",
    "tds2002b.write('ACQuire:STATE RUN')\n",
    "tds2002b.write('CH1:COUPling DC')\n",
    "tds2002b.write('CH2:COUPling DC')"
   ]
  },
  {
   "cell_type": "code",
   "execution_count": 6,
   "metadata": {
    "collapsed": false
   },
   "outputs": [],
   "source": [
    "# Cámaras\n",
    "tds2002b.write('CH1:SCAle 0.05')  # FC-165 180226\n",
    "# tds2002b.write('CH1:SCAle 0.02')  # FC-165 171220\n",
    "# tds2002b.write('CH1:SCAle 0.01')\n",
    "\n",
    "tds2002b.write('CH1:POSition -1.04')  # FC-165 171220\n",
    "# tds2002b.write('CH1:POSition -2.0')\n",
    "\n",
    "tds2002b.write('CH2:SCAle 1.0') # FC-165 180226\n",
    "# tds2002b.write('CH2:SCAle 0.5') # FC-165 171220\n",
    "# tds2002b.write('CH2:SCAle 1.0') # CFP-035 161007\n",
    "# tds2002b.write('CH2:SCAle 0.5') # Ensayo DC-045 160926\n",
    "\n",
    "tds2002b.write('CH2:POSition -3.04') # FC-165 171220\n",
    "# tds2002b.write('CH2:POSition -2.00')\n",
    "\n",
    "tds2002b.horizontal_main_scale(1.0E-7)  # FC-165 171220\n",
    "# tds2002b.horizontal_main_scale(2.5E-7)  # Ensayo DC-045 160926\n",
    "\n",
    "# tds2002b.horizontal_main_position(2.0E-7) # FC-165 171220\n",
    "# tds2002b.horizontal_main_position(2.0E-8) # 2.5E-7 para pul, lo ensayo para acq\n",
    "# tds2002b.horizontal_main_position(1.0E-6)  # Ensayo DC-045 160926\n",
    "# tds2002b.horizontal_main_position(5.0E-7)  # Ensayo CFP-035 161007\n",
    "\n",
    "tds2002b.trigger_source('CH2')\n",
    "tds2002b.trigger_level(1.2) # [V] FC-165 180226\n",
    "# tds2002b.trigger_level(0.26) # [V] ensayo FC-165 171220\n",
    "# tds2002b.trigger_level(1.96) # 1.96 [V] nominal para CFP-35 con electrónica modernizada 151016\n",
    "# tds2002b.trigger_level(1.4) # Ensayo DC-045 160926\n",
    "#tds2002b.trigger_level(1.0) # 1.96 [V] FC-165 161013"
   ]
  },
  {
   "cell_type": "code",
   "execution_count": 7,
   "metadata": {
    "collapsed": true
   },
   "outputs": [],
   "source": [
    "# generador pulsos\n",
    "tds2002b.write('CH1:SCAle 0.02')\n",
    "tds2002b.write('CH1:POSition 3.0')\n",
    "tds2002b.write('CH2:SCAle 0.01')\n",
    "tds2002b.write('CH2:POSition 0.0')\n",
    "tds2002b.horizontal_main_scale(1.0E-7)\n",
    "tds2002b.horizontal_main_position(3.16E-7)\n",
    "tds2002b.trigger_source('CH1')\n",
    "tds2002b.trigger_level(-0.04) # [V]"
   ]
  },
  {
   "cell_type": "code",
   "execution_count": 8,
   "metadata": {
    "collapsed": false
   },
   "outputs": [],
   "source": [
    "settings= param(tds2002b)\n",
    "[puntosAdquisicion, dataOffset] = ptsAdq(tds2002b) # puntos por cada adquisición, headbits en cada adquisición"
   ]
  },
  {
   "cell_type": "markdown",
   "metadata": {},
   "source": [
    "# Secuencia a ejecutar en cada adquisición"
   ]
  },
  {
   "cell_type": "code",
   "execution_count": 6,
   "metadata": {
    "collapsed": false
   },
   "outputs": [
    {
     "name": "stdout",
     "output_type": "stream",
     "text": [
      "medición 1280 de 1280\n",
      "Tiempo transcurrido= 28.4 min\n"
     ]
    }
   ],
   "source": [
    "descripcionDetector= 'z'\n",
    "descripcionArchivo= 'pul'\n",
    "# descripcionArchivo= 'acq'\n",
    "adquisiciones= 1*1280 # número de lecturas\n",
    "\n",
    "for medicionDia in np.arange(1,2): # medición 1 a 2 (dos mediciones)\n",
    "    adquiere(tds2002b, medicionDia, settings, adquisiciones, descripcionDetector, descripcionArchivo, puntosAdquisicion, dataOffset)"
   ]
  },
  {
   "cell_type": "markdown",
   "metadata": {},
   "source": [
    "# Ensayos"
   ]
  },
  {
   "cell_type": "code",
   "execution_count": 6,
   "metadata": {
    "collapsed": false
   },
   "outputs": [
    {
     "data": {
      "text/plain": [
       "[0.02, -1.04, 0.5, -3.04, '1.0E-7', '2.0E-7', 0.26]"
      ]
     },
     "execution_count": 6,
     "metadata": {},
     "output_type": "execute_result"
    }
   ],
   "source": [
    "# tds2002b.horizontal_main_position(0)\n",
    "[ch1S, ch1p, ch2s, ch2p, hS, hP, trig]= [tds2002b.get_channel_scale('CH1'), tds2002b.get_channel_position('CH1'), tds2002b.get_channel_scale('CH2'), tds2002b.get_channel_position('CH2'), tds2002b.horizontal_main_scale(), tds2002b.horizontal_main_position(), tds2002b.trigger_level()]\n",
    "[ch1S, ch1p, ch2s, ch2p, hS, hP, trig]"
   ]
  },
  {
   "cell_type": "code",
   "execution_count": 2,
   "metadata": {
    "collapsed": false
   },
   "outputs": [
    {
     "data": {
      "text/plain": [
       "False"
      ]
     },
     "execution_count": 2,
     "metadata": {},
     "output_type": "execute_result"
    }
   ],
   "source": [
    "tds2002b.textAsk('BUSY?')=='1' "
   ]
  },
  {
   "cell_type": "code",
   "execution_count": 6,
   "metadata": {
    "collapsed": false
   },
   "outputs": [
    {
     "data": {
      "text/plain": [
       "({':ACQUIRE:MODE': 'SAMPLE',\n",
       "  ':AUTORANGE:SETTINGS': 'BOTH',\n",
       "  ':CH1:PROBE': '1.0E0',\n",
       "  ':CH2:PROBE': '1.0E0',\n",
       "  ':CURSOR:FUNCTION': 'VBARS',\n",
       "  ':CURSOR:HBARS:POSITION1': '6.0E-1',\n",
       "  ':CURSOR:VBARS:UNITS': 'SECONDS',\n",
       "  ':DATA:ENCDG': 'RIBINARY',\n",
       "  ':DISPLAY:FORMAT': 'YT',\n",
       "  ':HARDCOPY:BUTTON': 'SAVESALL',\n",
       "  ':HORIZONTAL:DELAY:SCALE': '5.0E-9',\n",
       "  ':HORIZONTAL:VIEW': 'MAIN',\n",
       "  ':LANGUAGE': 'SPANISH',\n",
       "  ':LOCK': 'NONE',\n",
       "  ':MATH:DEFINE': '\"CH1-CH2\"',\n",
       "  ':MATH:FFT:HORIZONTAL:POSITION': '5.0E1',\n",
       "  ':MATH:FFT:VERTICAL:POSITION': '0.0E0',\n",
       "  ':MEASUREMENT:IMMED:TYPE': 'PERIOD',\n",
       "  ':MEASUREMENT:MEAS1:TYPE': 'CRMS',\n",
       "  ':MEASUREMENT:MEAS2:TYPE': 'FREQUENCY',\n",
       "  ':MEASUREMENT:MEAS3:TYPE': 'NWIDTH',\n",
       "  ':MEASUREMENT:MEAS4:TYPE': 'PK2PK',\n",
       "  ':MEASUREMENT:MEAS5:TYPE': 'FREQUENCY',\n",
       "  ':MEASUREMENT:METHOD': 'AUTO',\n",
       "  ':PICTBRIDGE:PAPERSIZE': 'DEFLT',\n",
       "  ':SAVE:IMAGE:FILEFORMAT': 'EPSIMAGE',\n",
       "  ':SELECT:CH1': '1',\n",
       "  ':TRIGGER:MAIN:EDGE:SOURCE': 'CH1',\n",
       "  ':TRIGGER:MAIN:LEVEL': '-1.12E-3',\n",
       "  ':TRIGGER:MAIN:MODE': 'AUTO',\n",
       "  ':TRIGGER:MAIN:PULSE:SOURCE': 'CH1',\n",
       "  ':TRIGGER:MAIN:VIDEO:SOURCE': 'CH1',\n",
       "  ':VERBOSE': '1',\n",
       "  'BANDWIDTH': 'OFF',\n",
       "  'CH2': '1',\n",
       "  'CONTRAST': '54',\n",
       "  'COUPLING': 'AC',\n",
       "  'CURRENTPROBE': '1.0E1',\n",
       "  'DATEPRINT': 'DEFLT',\n",
       "  'DESTINATION': 'REFA',\n",
       "  'ELECTRONICA': 'Luis',\n",
       "  'FORMAT': 'EPSIMAGE',\n",
       "  'HOLDOFF:VALUE': '5.0E-7',\n",
       "  'IDPRINT': 'DEFLT',\n",
       "  'IMAGESIZE': 'DEFLT',\n",
       "  'INKSAVER': 'ON',\n",
       "  'INVERT': 'OFF',\n",
       "  'LAYOUT': 'PORTRAIT',\n",
       "  'LINE': '1',\n",
       "  'MAIN:SCALE': '5.0E-6',\n",
       "  'MATH': '0',\n",
       "  'NUMAVG': '64',\n",
       "  'PAPERTYPE': 'DEFLT',\n",
       "  'PERSISTENCE': '0',\n",
       "  'POLARITY': 'NORMAL',\n",
       "  'PORT': 'USB',\n",
       "  'POSITION': '3.2E-8',\n",
       "  'POSITION1': 0.52,\n",
       "  'POSITION2': -3.16,\n",
       "  'PRINTQUAL': 'DEFLT',\n",
       "  'REFA': '0',\n",
       "  'REFB': '0',\n",
       "  'SCALE': '1.0E0',\n",
       "  'SCALE1': 0.002,\n",
       "  'SCALE2': 0.5,\n",
       "  'SELECT:SOURCE': 'CH2',\n",
       "  'SLOPE': 'RISE',\n",
       "  'SOURCE': 'CH2',\n",
       "  'SOURCE1': 'CH1',\n",
       "  'STANDARD': 'NTSC',\n",
       "  'START': '1',\n",
       "  'STATE': '0',\n",
       "  'STOP': '2500',\n",
       "  'STOPAFTER': 'RUNSTOP',\n",
       "  'STYLE': 'VECTORS',\n",
       "  'SYNC': 'FIELD',\n",
       "  'TYPE': 'EDGE',\n",
       "  'VERTICAL:POSITION': '0.0E0',\n",
       "  'WHEN': 'EQUAL',\n",
       "  'WIDTH': '1.0E-3',\n",
       "  'WIDTH:POLARITY': 'POSITIVE',\n",
       "  'YUNIT': '\"V\"'},\n",
       " 2500,\n",
       " 6)"
      ]
     },
     "execution_count": 6,
     "metadata": {},
     "output_type": "execute_result"
    }
   ],
   "source": [
    "settings= param(tds2002b)\n",
    "[puntosAdquisicion, dataOffset] = ptsAdq(tds2002b) # puntos por cada adquisición, headbits en cada adquisición\n",
    "settings, puntosAdquisicion, dataOffset"
   ]
  },
  {
   "cell_type": "code",
   "execution_count": 4,
   "metadata": {
    "collapsed": true
   },
   "outputs": [],
   "source": [
    "l = tds2002b.textAsk('SET?')"
   ]
  },
  {
   "cell_type": "code",
   "execution_count": 5,
   "metadata": {
    "collapsed": true
   },
   "outputs": [],
   "source": [
    "lok= [e.split(' ') for e in l.split(';')[1:]]"
   ]
  },
  {
   "cell_type": "code",
   "execution_count": 6,
   "metadata": {
    "collapsed": false
   },
   "outputs": [
    {
     "data": {
      "text/plain": [
       "[[':VERBOSE', '1'],\n",
       " [':DATA:ENCDG', 'RIBINARY'],\n",
       " ['DESTINATION', 'REFA'],\n",
       " ['SOURCE', 'CH2'],\n",
       " ['START', '1'],\n",
       " ['STOP', '2500'],\n",
       " ['WIDTH', '1'],\n",
       " [':LOCK', 'NONE'],\n",
       " [':DISPLAY:FORMAT', 'YT'],\n",
       " ['STYLE', 'VECTORS'],\n",
       " ['PERSISTENCE', '0'],\n",
       " ['CONTRAST', '54'],\n",
       " ['INVERT', 'OFF'],\n",
       " [':ACQUIRE:MODE', 'SAMPLE'],\n",
       " ['NUMAVG', '64'],\n",
       " ['STATE', '1'],\n",
       " ['STOPAFTER', 'RUNSTOP'],\n",
       " [':CH1:PROBE', '1.0E0'],\n",
       " ['CURRENTPROBE', '1.0E1'],\n",
       " ['SCALE', '2.0E-3'],\n",
       " ['POSITION', '5.2E-1'],\n",
       " ['COUPLING', 'AC'],\n",
       " ['BANDWIDTH', 'OFF'],\n",
       " ['INVERT', 'OFF'],\n",
       " ['YUNIT', '\"V\"'],\n",
       " [':CH2:PROBE', '1.0E0'],\n",
       " ['CURRENTPROBE', '1.0E1'],\n",
       " ['SCALE', '5.0E-1'],\n",
       " ['POSITION', '-3.16E0'],\n",
       " ['COUPLING', 'AC'],\n",
       " ['BANDWIDTH', 'OFF'],\n",
       " ['INVERT', 'OFF'],\n",
       " ['YUNIT', '\"V\"'],\n",
       " [':HORIZONTAL:VIEW', 'MAIN'],\n",
       " ['MAIN:SCALE', '5.0E-6'],\n",
       " ['POSITION', '1.08E-7'],\n",
       " [':HORIZONTAL:DELAY:SCALE', '5.0E-9'],\n",
       " ['POSITION', '3.2E-8'],\n",
       " [':TRIGGER:MAIN:MODE', 'AUTO'],\n",
       " ['TYPE', 'EDGE'],\n",
       " ['HOLDOFF:VALUE', '5.0E-7'],\n",
       " [':TRIGGER:MAIN:EDGE:SOURCE', 'CH1'],\n",
       " ['COUPLING', 'AC'],\n",
       " ['SLOPE', 'RISE'],\n",
       " [':TRIGGER:MAIN:VIDEO:SOURCE', 'CH1'],\n",
       " ['SYNC', 'FIELD'],\n",
       " ['POLARITY', 'NORMAL'],\n",
       " ['LINE', '1'],\n",
       " ['STANDARD', 'NTSC'],\n",
       " [':TRIGGER:MAIN:PULSE:SOURCE', 'CH1'],\n",
       " ['WIDTH:POLARITY', 'POSITIVE'],\n",
       " ['WHEN', 'EQUAL'],\n",
       " ['WIDTH', '1.0E-3'],\n",
       " [':TRIGGER:MAIN:LEVEL', '-1.12E-3'],\n",
       " [':SELECT:CH1', '1'],\n",
       " ['CH2', '0'],\n",
       " ['MATH', '0'],\n",
       " ['REFA', '0'],\n",
       " ['REFB', '0'],\n",
       " [':CURSOR:FUNCTION', 'VBARS'],\n",
       " ['SELECT:SOURCE', 'CH2'],\n",
       " [':CURSOR:VBARS:UNITS', 'SECONDS'],\n",
       " ['POSITION1', '2.0E-6'],\n",
       " ['POSITION2', '-4.4E-6'],\n",
       " [':CURSOR:HBARS:POSITION1', '6.0E-1'],\n",
       " ['POSITION2', '2.1E0'],\n",
       " [':MEASUREMENT:MEAS1:TYPE', 'CRMS'],\n",
       " ['SOURCE', 'CH1'],\n",
       " [':MEASUREMENT:MEAS2:TYPE', 'FREQUENCY'],\n",
       " ['SOURCE', 'CH1'],\n",
       " [':MEASUREMENT:MEAS3:TYPE', 'NWIDTH'],\n",
       " ['SOURCE', 'CH1'],\n",
       " [':MEASUREMENT:MEAS4:TYPE', 'PK2PK'],\n",
       " ['SOURCE', 'CH2'],\n",
       " [':MEASUREMENT:MEAS5:TYPE', 'FREQUENCY'],\n",
       " ['SOURCE', 'CH2'],\n",
       " [':MEASUREMENT:IMMED:TYPE', 'PERIOD'],\n",
       " ['SOURCE1', 'CH1'],\n",
       " [':MEASUREMENT:METHOD', 'AUTO'],\n",
       " [':MATH:DEFINE', '\"CH1', '-', 'CH2\"'],\n",
       " ['VERTICAL:POSITION', '0.0E0'],\n",
       " ['SCALE', '5.0E-1'],\n",
       " [':MATH:FFT:HORIZONTAL:POSITION', '5.0E1'],\n",
       " ['SCALE', '1.0E0'],\n",
       " [':MATH:FFT:VERTICAL:POSITION', '0.0E0'],\n",
       " ['SCALE', '1.0E0'],\n",
       " [':HARDCOPY:BUTTON', 'SAVESALL'],\n",
       " ['FORMAT', 'EPSIMAGE'],\n",
       " ['PORT', 'USB'],\n",
       " ['LAYOUT', 'PORTRAIT'],\n",
       " ['INKSAVER', 'ON'],\n",
       " [':PICTBRIDGE:PAPERSIZE', 'DEFLT'],\n",
       " ['IMAGESIZE', 'DEFLT'],\n",
       " ['PAPERTYPE', 'DEFLT'],\n",
       " ['PRINTQUAL', 'DEFLT'],\n",
       " ['DATEPRINT', 'DEFLT'],\n",
       " ['IDPRINT', 'DEFLT'],\n",
       " [':LANGUAGE', 'SPANISH'],\n",
       " [':AUTORANGE:SETTINGS', 'BOTH'],\n",
       " [':SAVE:IMAGE:FILEFORMAT', 'EPSIMAGE']]"
      ]
     },
     "execution_count": 6,
     "metadata": {},
     "output_type": "execute_result"
    }
   ],
   "source": [
    "lok"
   ]
  },
  {
   "cell_type": "code",
   "execution_count": null,
   "metadata": {
    "collapsed": true
   },
   "outputs": [],
   "source": []
  }
 ],
 "metadata": {
  "kernelspec": {
   "display_name": "Python 3",
   "language": "python",
   "name": "python3"
  },
  "language_info": {
   "codemirror_mode": {
    "name": "ipython",
    "version": 3
   },
   "file_extension": ".py",
   "mimetype": "text/x-python",
   "name": "python",
   "nbconvert_exporter": "python",
   "pygments_lexer": "ipython3",
   "version": "3.5.3"
  }
 },
 "nbformat": 4,
 "nbformat_minor": 0
}
