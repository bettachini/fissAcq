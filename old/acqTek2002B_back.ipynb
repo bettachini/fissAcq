{
 "metadata": {
  "name": "",
  "signature": "sha256:2fb944385bf28e0274a2f75324fbce6ea998e8e10026b7a92722484c2d65599e"
 },
 "nbformat": 3,
 "nbformat_minor": 0,
 "worksheets": [
  {
   "cells": [
    {
     "cell_type": "code",
     "collapsed": false,
     "input": [
      "%pylab inline\n",
      "# coding=utf-8\n",
      "\n",
      "import tek3 as tek3\n",
      "\n",
      "test = tek3.TekScope(\"/dev/usbtmc0\")\n",
      "\n",
      "import time\n",
      "\n",
      "# refresca de lo importado cada vez que se hace ejecuci\u00f3n\n",
      "%load_ext autoreload\n",
      "%autoreload 2\n",
      "\n",
      "# import json\n",
      "# import matplotlib.pyplot as plot"
     ],
     "language": "python",
     "metadata": {},
     "outputs": [
      {
       "output_type": "stream",
       "stream": "stdout",
       "text": [
        "Populating the interactive namespace from numpy and matplotlib\n",
        "\n"
       ]
      }
     ],
     "prompt_number": 1
    },
    {
     "cell_type": "heading",
     "level": 1,
     "metadata": {},
     "source": [
      "Registro autom\u00e1tico de picos"
     ]
    },
    {
     "cell_type": "code",
     "collapsed": false,
     "input": [
      "# (-2.0, 0.005, -3.0, 1.0)\n",
      "# test.write('CH1:POSition -2')\n",
      "# test.write('CH1:SCAle 5E-3')\n",
      "# test.horizontal_main_scale()"
     ],
     "language": "python",
     "metadata": {},
     "outputs": [],
     "prompt_number": 2
    },
    {
     "cell_type": "code",
     "collapsed": false,
     "input": [
      "# [pos1, scale1, pos2, scale2]= escalas()\n",
      "# pos1, scale1, pos2, scale2"
     ],
     "language": "python",
     "metadata": {},
     "outputs": [],
     "prompt_number": 3
    },
    {
     "cell_type": "code",
     "collapsed": false,
     "input": [
      "def init(inst=test):\n",
      "    inst.write('INITIATE_CLEAR')\n",
      "    inst.set_data_encoding('RIBinary')\n",
      "    inst.write('ACQuire:MODe SAMple') # test.write('ACQuire:MODe PEAKdetect') lo descarto pues manual dice que puede verse mas ruidoso  \n",
      "    inst.write('ACQUIRE:STOPAFTER SEQUENCE')\n",
      "    inst.write('ACQuire:STATE RUN')\n",
      "    inst.write('CH1:POSition -2')\n",
      "    inst.write('CH1:SCAle 5E-3')\n",
      "    inst.write('CH2:POSition -3')\n",
      "    # inst.write('CH2:SCAle 1')\n",
      "    inst.write('CH2:SCAle 0.5') # Para detector Centronic FC-165 y CFC-35 desde 150601\n",
      "    inst.horizontal_main_position(0)\n",
      "    inst.horizontal_main_scale(2.5E-7)"
     ],
     "language": "python",
     "metadata": {},
     "outputs": [],
     "prompt_number": 4
    },
    {
     "cell_type": "code",
     "collapsed": false,
     "input": [
      "def escalas(inst=test):\n",
      "    # obtener una vez los l\u00edmites verticales del canal\n",
      "    pos1 = inst.get_channel_position(1)\n",
      "    scale1 = inst.get_channel_scale(1)\n",
      "    pos2 = inst.get_channel_position(2)\n",
      "    scale2 = inst.get_channel_scale(2)\n",
      "    return pos1, scale1, pos2, scale2"
     ],
     "language": "python",
     "metadata": {},
     "outputs": [],
     "prompt_number": 5
    },
    {
     "cell_type": "code",
     "collapsed": false,
     "input": [
      "def flName(camara, tipo, N):\n",
      "    filePath= './data/'\n",
      "    fileDate= time.strftime('%y%m%d')\n",
      "    fileCamara= camara # 'n' nuestra = Campbelliana\n",
      "    fileN= N\n",
      "    fileExt= '.npy'\n",
      "    fileType= tipo\n",
      "    fileName= filePath+ fileType+ fileDate + fileCamara+ ('{:02n}'.format(fileN))+ fileExt\n",
      "    return fileName"
     ],
     "language": "python",
     "metadata": {},
     "outputs": [],
     "prompt_number": 6
    },
    {
     "cell_type": "code",
     "collapsed": false,
     "input": [
      "def param(camara='CFP-35'):\n",
      "    '''\n",
      "    Grabo par\u00e1metros de la medici\u00f3n\n",
      "    '''\n",
      "    test.load_setup() # Obtiene par\u00e1metros del osciloscopio\n",
      "    sets= test.dico\n",
      "    [pos1, scale1, pos2, scale2]= escalas()\n",
      "    sets['POSITION1']= pos1\n",
      "    sets['SCALE1']= scale1\n",
      "    sets['POSITION2']= pos2\n",
      "    sets['SCALE2']= scale2\n",
      "    sets['ELECTRONICA']= 'Luis'\n",
      "    sets['FUENTE']= 'Canberra 3002'\n",
      "#     sets['FUENTE']= 'Canberra 3002'\n",
      "    sets['HV']= '400' # [V] diferencia potencial fuente\n",
      "    sets['CAMARA']= camara\n",
      "    sets['PRESION_AR']= '2.725' # [kgf/cm^2] (rel) 150528\n",
      "    sets['PRESION_N2']= '0.075' # [kgf/cm^2] (rel)  150528\n",
      "    sets['ESPECTRO']= 'x' # archivo de espectro mas reciente\n",
      "\n",
      "    return sets"
     ],
     "language": "python",
     "metadata": {},
     "outputs": [],
     "prompt_number": 7
    },
    {
     "cell_type": "code",
     "collapsed": false,
     "input": [
      "def paramSave(N, camara='CFP-25'):\n",
      "    '''\n",
      "    Grabo par\u00e1metros de la medici\u00f3n\n",
      "    '''\n",
      "    sets= param(camara)\n",
      "\n",
      "    save(flName(camara, 'sets', N), sets)"
     ],
     "language": "python",
     "metadata": {},
     "outputs": [],
     "prompt_number": 8
    },
    {
     "cell_type": "code",
     "collapsed": false,
     "input": [
      "def eins(channel):\n",
      "    ''' \n",
      "    Returns single channel as horizontal array \n",
      "    '''\n",
      "    test.set_data_source(channel)\n",
      "    Y= float16(test.bin_read())\n",
      "    return Y"
     ],
     "language": "python",
     "metadata": {},
     "outputs": [],
     "prompt_number": 9
    },
    {
     "cell_type": "code",
     "collapsed": false,
     "input": [
      "def readBuff2(self):\n",
      "    try:\n",
      "        return self.ask('CURVE?')\n",
      "    except TimeoutError:\n",
      "        print('Probably requested channel has no data')\n",
      "        raise"
     ],
     "language": "python",
     "metadata": {},
     "outputs": [],
     "prompt_number": 10
    },
    {
     "cell_type": "code",
     "collapsed": false,
     "input": [
      "def zwei():\n",
      "    '''\n",
      "    Returns both channels as horizontal array\n",
      "    '''\n",
      "    Y1= eins(1)\n",
      "    Y2= eins(2)\n",
      "    Meas2= np.vstack([Y1, Y2])\n",
      "    return Meas2"
     ],
     "language": "python",
     "metadata": {},
     "outputs": [],
     "prompt_number": 11
    },
    {
     "cell_type": "code",
     "collapsed": false,
     "input": [
      "def single():\n",
      "    '''\n",
      "    Queries both channels, restarts acquistion\n",
      "    '''\n",
      "    test.start_acq()\n",
      "    Meas2= zwei()\n",
      "    return Meas2"
     ],
     "language": "python",
     "metadata": {},
     "outputs": [],
     "prompt_number": 12
    },
    {
     "cell_type": "code",
     "collapsed": false,
     "input": [
      "def darstellungNurZwei(T, Meas2, sav= None):\n",
      "    '''\n",
      "    T: times vector\n",
      "    Meas2: Both channels 2D array\n",
      "    sav: plot filename (eps)\n",
      "    '''\n",
      "        \n",
      "    fig, (ax0, ax1) = plt.subplots(nrows=2, sharex=True)\n",
      "    fig.set_size_inches(10,8)\n",
      "    fig.subplots_adjust(hspace=0.000)\n",
      "\n",
      "    ax0.plot(T, Meas2[0,:], 'y')\n",
      "    # Make the y-axis label and tick labels match the line color.\n",
      "    ax0.set_ylabel('ch 1 [V]', color='y')\n",
      "    ax0.grid(True)\n",
      "\n",
      "    ax1.plot(T, Meas2[1,:], 'c')\n",
      "    ax1.set_ylabel('ch 2 [V]', color='c')\n",
      "    ax1.set_xlabel('tiempo [s]')\n",
      "    ax1.grid(True)\n",
      "    \n",
      "    if (sav):\n",
      "        plt.savefig('./data/'+ sav+ '.eps')\n",
      "    else:\n",
      "        plt.show()"
     ],
     "language": "python",
     "metadata": {},
     "outputs": [],
     "prompt_number": 13
    },
    {
     "cell_type": "code",
     "collapsed": false,
     "input": [
      "def acqDartellung(nombre, inst=test, graf=False):\n",
      "    zeit= tek3.TekScope.Xaxis(inst)\n",
      "    data= zeit\n",
      "    print('\\n')\n",
      "    for count in range(nombre): #\n",
      "        while(test.textAsk('BUSY?')=='1'):\n",
      "            time.sleep(.5)\n",
      "        M2= single()\n",
      "        data= np.vstack([data,M2])\n",
      "        if (graf):\n",
      "            darstellungNurZwei(zeit, M2)\n",
      "        print('\\rN= '+ str(count+ 1), end=' ')\n",
      "    print('\\n')\n",
      "    return data"
     ],
     "language": "python",
     "metadata": {},
     "outputs": [],
     "prompt_number": 14
    },
    {
     "cell_type": "code",
     "collapsed": false,
     "input": [
      "def prom(data, prop):\n",
      "    '''\n",
      "    (array, float) -> array\n",
      "    \n",
      "    Obtiene el promedio de la primer fracci\u00f3n prop de ambos canales de todas las mediciones en data\n",
      "    grProm[0]: ch1, grProm[1]: ch2\n",
      "\n",
      "    '''\n",
      "    messungenZahl= data.shape\n",
      "    erstePunkten= int(messungenZahl[1]* prop)\n",
      "    prom= np.zeros([int((messungenZahl[0]- 1)/ 2), 2])\n",
      "    for i in range(1, messungenZahl[0], 2):\n",
      "        ix= int((i-1)/2)\n",
      "        prom[ix,0]= (data[i][0:erstePunkten-1]).mean()\n",
      "        prom[ix,1]= (data[i+1][0:erstePunkten-1]).mean()\n",
      "    grProm= np.array([ (prom[:,0]).mean(), (prom[:,1]).mean() ])\n",
      "    return grProm"
     ],
     "language": "python",
     "metadata": {},
     "outputs": [],
     "prompt_number": 15
    },
    {
     "cell_type": "code",
     "collapsed": false,
     "input": [
      "class archie:\n",
      "    \"\"\"Nombre archivo - NO FUNCA AUN, NO PUEDO VARIAR EXTERNAMENTE tipo\"\"\"\n",
      "\n",
      "    def __init__(self, tipo, N, camara):\n",
      "        \"\"\" (archie, int, str, str, str) -> NoneType\n",
      "\n",
      "        Un nombre de archivo con ruta, c\u00e1mara, fecha y n\u00famero \n",
      "\n",
      "        >>> archie = CashRegister(5, 5, 5, 5, 5)\n",
      "        >>> archie.N\n",
      "        '5'\n",
      "        >>> archie.camara\n",
      "        'n'\n",
      "        >>> archie.path\n",
      "        './data/'\n",
      "        >>> register.date\n",
      "        '150430'\n",
      "        \"\"\"\n",
      "        self.tipo= tipo\n",
      "        self.N=('{:02n}'.format(N))\n",
      "        self.camara = camara\n",
      "        self.path = './data/'\n",
      "        self.date = time.strftime('%y%m%d')\n",
      "        self.ext= '.npy'\n",
      "        self.fileName= self.tipo+ self.date+ self.camara+ self.N+ self.ext"
     ],
     "language": "python",
     "metadata": {},
     "outputs": [],
     "prompt_number": 16
    },
    {
     "cell_type": "heading",
     "level": 1,
     "metadata": {},
     "source": [
      "Lectura r\u00e1pida, graba ints comprimidos"
     ]
    },
    {
     "cell_type": "code",
     "collapsed": false,
     "input": [
      "def ptsAdq():\n",
      "    # correr una vez para obtener par\u00e1metros del buffer\n",
      "    buff2 = readBuff2(test) # esta bien la herencia?\n",
      "    dataPointsCharacters= int(buff2[1:2])\n",
      "    dataOffset= 2+ dataPointsCharacters\n",
      "    return (int(buff2[2:2+ dataPointsCharacters])), dataOffset # n\u00famero de lecturas en cada adquisici\u00f3n"
     ],
     "language": "python",
     "metadata": {},
     "outputs": [],
     "prompt_number": 17
    },
    {
     "cell_type": "code",
     "collapsed": false,
     "input": [
      "def rapi(dataCount, dataOffset):\n",
      "    test.start_acq()\n",
      "    while(test.textAsk('BUSY?')=='1'):\n",
      "        time.sleep(1E-3)\n",
      "    # return (np.frombuffer(readBuff2(test), dtype = np.dtype('int8').newbyteorder('<'), count= dataCount, offset= dataOffset) )  \n",
      "    buff2 = readBuff2(test) # esta bien la herencia?\n",
      "    return ( np.frombuffer(buff2, dtype = np.dtype('int8').newbyteorder('<'), count= dataCount, offset= dataOffset) )"
     ],
     "language": "python",
     "metadata": {},
     "outputs": [],
     "prompt_number": 18
    },
    {
     "cell_type": "code",
     "collapsed": false,
     "input": [
      "def lectura(adquisiciones, puntosAdquisicion, dataOffset, tiempoInicial):\n",
      "    # la lectura en s\u00ed\n",
      "    ch1= np.empty([adquisiciones,puntosAdquisicion], dtype ='int8')\n",
      "    ch2= np.empty([adquisiciones,puntosAdquisicion], dtype ='int8')\n",
      "    zeit= tek3.TekScope.Xaxis(test) # zeit\n",
      "    for medicion in range(adquisiciones):\n",
      "        print('\\rmedici\u00f3n '+ str(medicion)+ ' de '+ str(adquisiciones), end=' ')\n",
      "        test.set_data_source(1) # canal 2\n",
      "        ch1[medicion]= rapi(puntosAdquisicion, dataOffset)\n",
      "        test.set_data_source(2) # canal 2\n",
      "        ch2[medicion]= rapi(puntosAdquisicion, dataOffset)\n",
      "    print('\\rmedici\u00f3n '+ str(medicion+ 1)+ ' de '+ str(adquisiciones))\n",
      "    print('Tiempo transcurrido= {:.1f} min'.format((time.time()- tiempoInicial)/60) ) # tiempo transcurrido en segundos\n",
      "    return zeit, ch1, ch2"
     ],
     "language": "python",
     "metadata": {},
     "outputs": [],
     "prompt_number": 19
    },
    {
     "cell_type": "code",
     "collapsed": false,
     "input": [
      "def adquiere(medicionDia, settings, adquisiciones, descripcionDetector, descripcionArchivo, puntosAdquisicion, dataOffset):\n",
      "    '''\n",
      "    registra ambos canales en formato de multiples arrays\n",
      "    '''\n",
      "\n",
      "    tiempoInicial= time.time()\n",
      "\n",
      "    # Trigger [NO ESTA TERMINADO]\n",
      "    # trgInicial= 1.52\n",
      "    trgInicial= 0.6\n",
      "    trgPaso= 0.25\n",
      "    trgFinal= trgInicial\n",
      "    trg= np.arange(trgInicial, trgFinal+trgPaso, trgPaso)\n",
      "    test.trigger_source('CH2')\n",
      "    for trgLevel in trg:\n",
      "        test.trigger_level(trgLevel)\n",
      "        nivelTrigger= test.trigger_level()\n",
      "        print('El nivel de trigger es '+ str(nivelTrigger)+ 'V')\n",
      "\n",
      "    # ch2 =lectura(adquisiciones, puntosAdquisicion, dataOffset, tiempoInicial)\n",
      "    [zeit, ch1, ch2]= lectura(adquisiciones, puntosAdquisicion, dataOffset, tiempoInicial)\n",
      "\n",
      "    # graba    \n",
      "    np.savez_compressed(flName(descripcionDetector, descripcionArchivo, medicionDia), settings=settings, zeit=zeit, ch1=ch1, ch2=ch2)"
     ],
     "language": "python",
     "metadata": {},
     "outputs": [],
     "prompt_number": 20
    },
    {
     "cell_type": "heading",
     "level": 1,
     "metadata": {},
     "source": [
      "Adquisici\u00f3n con electr\u00f3nica Luis"
     ]
    },
    {
     "cell_type": "code",
     "collapsed": false,
     "input": [
      "tipoMedicion= 'luis'\n",
      "\n",
      "# secuencia\n",
      "if (tipoMedicion=='luis'):\n",
      "    init()\n",
      "elif(tipoMedicion=='pre'):\n",
      "    initPre()\n",
      "else:\n",
      "    print('\u00bfCuis?')\n",
      "settings= param()\n",
      "\n",
      "adquisiciones= 128* 20* 2 # n\u00famero de lecturas\n",
      "\n",
      "descripcionDetector= 'z' # experimental, n usual\n",
      "descripcionArchivo= 'acq' # experimental, acq usual\n",
      "\n",
      "# paramSave(medicionDia, descripcionDetector) # grabo archivo experimental de parametros con offsets y escalas de ambos canales\n",
      "[puntosAdquisicion, dataOffset] = ptsAdq() # puntos por cada adquisici\u00f3n, headbits en cada adquisici\u00f3n\n",
      "\n",
      "for medicionDia in np.arange(14,15): # medici\u00f3n 9 a 11 (dos mediciones)\n",
      "    adquiere(medicionDia, settings, adquisiciones, descripcionDetector, descripcionArchivo, puntosAdquisicion, dataOffset)"
     ],
     "language": "python",
     "metadata": {},
     "outputs": [
      {
       "ename": "IndexError",
       "evalue": "list index out of range",
       "output_type": "pyerr",
       "traceback": [
        "\u001b[0;31m---------------------------------------------------------------------------\u001b[0m\n\u001b[0;31mIndexError\u001b[0m                                Traceback (most recent call last)",
        "\u001b[0;32m<ipython-input-28-59d7d2db5f32>\u001b[0m in \u001b[0;36m<module>\u001b[0;34m()\u001b[0m\n\u001b[1;32m      8\u001b[0m \u001b[0;32melse\u001b[0m\u001b[0;34m:\u001b[0m\u001b[0;34m\u001b[0m\u001b[0m\n\u001b[1;32m      9\u001b[0m     \u001b[0mprint\u001b[0m\u001b[0;34m(\u001b[0m\u001b[0;34m'\u00bfCuis?'\u001b[0m\u001b[0;34m)\u001b[0m\u001b[0;34m\u001b[0m\u001b[0m\n\u001b[0;32m---> 10\u001b[0;31m \u001b[0msettings\u001b[0m\u001b[0;34m=\u001b[0m \u001b[0mparam\u001b[0m\u001b[0;34m(\u001b[0m\u001b[0;34m)\u001b[0m\u001b[0;34m\u001b[0m\u001b[0m\n\u001b[0m\u001b[1;32m     11\u001b[0m \u001b[0;34m\u001b[0m\u001b[0m\n\u001b[1;32m     12\u001b[0m \u001b[0madquisiciones\u001b[0m\u001b[0;34m=\u001b[0m \u001b[0;36m128\u001b[0m\u001b[0;34m*\u001b[0m \u001b[0;36m20\u001b[0m\u001b[0;34m*\u001b[0m \u001b[0;36m2\u001b[0m \u001b[0;31m# n\u00famero de lecturas\u001b[0m\u001b[0;34m\u001b[0m\u001b[0m\n",
        "\u001b[0;32m<ipython-input-7-555d6d58dfba>\u001b[0m in \u001b[0;36mparam\u001b[0;34m(camara)\u001b[0m\n\u001b[1;32m      3\u001b[0m     \u001b[0mGrabo\u001b[0m \u001b[0mpar\u00e1metros\u001b[0m \u001b[0mde\u001b[0m \u001b[0mla\u001b[0m \u001b[0mmedici\u00f3n\u001b[0m\u001b[0;34m\u001b[0m\u001b[0m\n\u001b[1;32m      4\u001b[0m     '''\n\u001b[0;32m----> 5\u001b[0;31m     \u001b[0mtest\u001b[0m\u001b[0;34m.\u001b[0m\u001b[0mload_setup\u001b[0m\u001b[0;34m(\u001b[0m\u001b[0;34m)\u001b[0m \u001b[0;31m# Obtiene par\u00e1metros del osciloscopio\u001b[0m\u001b[0;34m\u001b[0m\u001b[0m\n\u001b[0m\u001b[1;32m      6\u001b[0m     \u001b[0msets\u001b[0m\u001b[0;34m=\u001b[0m \u001b[0mtest\u001b[0m\u001b[0;34m.\u001b[0m\u001b[0mdico\u001b[0m\u001b[0;34m\u001b[0m\u001b[0m\n\u001b[1;32m      7\u001b[0m     \u001b[0;34m[\u001b[0m\u001b[0mpos1\u001b[0m\u001b[0;34m,\u001b[0m \u001b[0mscale1\u001b[0m\u001b[0;34m,\u001b[0m \u001b[0mpos2\u001b[0m\u001b[0;34m,\u001b[0m \u001b[0mscale2\u001b[0m\u001b[0;34m]\u001b[0m\u001b[0;34m=\u001b[0m \u001b[0mescalas\u001b[0m\u001b[0;34m(\u001b[0m\u001b[0;34m)\u001b[0m\u001b[0;34m\u001b[0m\u001b[0m\n",
        "\u001b[0;32m/oldhome/vbettachini/documents/cnea/campbell/acquisition/tek3.py\u001b[0m in \u001b[0;36mload_setup\u001b[0;34m(self)\u001b[0m\n\u001b[1;32m    165\u001b[0m         \u001b[0;31m# l = (self.ask('SET?') ).decode().rstrip('\\n')\u001b[0m\u001b[0;34m\u001b[0m\u001b[0;34m\u001b[0m\u001b[0m\n\u001b[1;32m    166\u001b[0m         \u001b[0mlok\u001b[0m\u001b[0;34m=\u001b[0m \u001b[0;34m[\u001b[0m\u001b[0me\u001b[0m\u001b[0;34m.\u001b[0m\u001b[0msplit\u001b[0m\u001b[0;34m(\u001b[0m\u001b[0;34m' '\u001b[0m\u001b[0;34m)\u001b[0m \u001b[0;32mfor\u001b[0m \u001b[0me\u001b[0m \u001b[0;32min\u001b[0m \u001b[0ml\u001b[0m\u001b[0;34m.\u001b[0m\u001b[0msplit\u001b[0m\u001b[0;34m(\u001b[0m\u001b[0;34m';'\u001b[0m\u001b[0;34m)\u001b[0m\u001b[0;34m[\u001b[0m\u001b[0;36m1\u001b[0m\u001b[0;34m:\u001b[0m\u001b[0;34m]\u001b[0m\u001b[0;34m]\u001b[0m\u001b[0;34m\u001b[0m\u001b[0m\n\u001b[0;32m--> 167\u001b[0;31m         \u001b[0;32mif\u001b[0m \u001b[0;34m(\u001b[0m\u001b[0mlen\u001b[0m\u001b[0;34m(\u001b[0m\u001b[0mlok\u001b[0m\u001b[0;34m[\u001b[0m\u001b[0;36m79\u001b[0m\u001b[0;34m]\u001b[0m\u001b[0;34m)\u001b[0m\u001b[0;34m>\u001b[0m\u001b[0;36m2\u001b[0m\u001b[0;34m)\u001b[0m\u001b[0;34m:\u001b[0m  \u001b[0;31m# line [79] can have 4 instead of 2 elements e.g. [':MATH:DEFINE', '\"CH1', '-', 'CH2\"']\u001b[0m\u001b[0;34m\u001b[0m\u001b[0m\n\u001b[0m\u001b[1;32m    168\u001b[0m             \u001b[0maux\u001b[0m\u001b[0;34m=\u001b[0m \u001b[0mlok\u001b[0m\u001b[0;34m[\u001b[0m\u001b[0;36m79\u001b[0m\u001b[0;34m]\u001b[0m\u001b[0;34m[\u001b[0m\u001b[0;36m1\u001b[0m\u001b[0;34m]\u001b[0m\u001b[0;34m+\u001b[0m \u001b[0mlok\u001b[0m\u001b[0;34m[\u001b[0m\u001b[0;36m79\u001b[0m\u001b[0;34m]\u001b[0m\u001b[0;34m[\u001b[0m\u001b[0;36m2\u001b[0m\u001b[0;34m]\u001b[0m\u001b[0;34m+\u001b[0m \u001b[0mlok\u001b[0m\u001b[0;34m[\u001b[0m\u001b[0;36m79\u001b[0m\u001b[0;34m]\u001b[0m\u001b[0;34m[\u001b[0m\u001b[0;36m3\u001b[0m\u001b[0;34m]\u001b[0m\u001b[0;34m\u001b[0m\u001b[0m\n\u001b[1;32m    169\u001b[0m             \u001b[0mlok\u001b[0m\u001b[0;34m[\u001b[0m\u001b[0;36m79\u001b[0m\u001b[0;34m]\u001b[0m\u001b[0;34m=\u001b[0m \u001b[0;34m[\u001b[0m\u001b[0mlok\u001b[0m\u001b[0;34m[\u001b[0m\u001b[0;36m79\u001b[0m\u001b[0;34m]\u001b[0m\u001b[0;34m[\u001b[0m\u001b[0;36m0\u001b[0m\u001b[0;34m]\u001b[0m\u001b[0;34m,\u001b[0m \u001b[0maux\u001b[0m\u001b[0;34m]\u001b[0m\u001b[0;34m\u001b[0m\u001b[0m\n",
        "\u001b[0;31mIndexError\u001b[0m: list index out of range"
       ]
      }
     ],
     "prompt_number": 28
    },
    {
     "cell_type": "heading",
     "level": 1,
     "metadata": {},
     "source": [
      "Medici\u00f3n con pre-amplificador"
     ]
    },
    {
     "cell_type": "code",
     "collapsed": false,
     "input": [
      "def initPre(inst=test):\n",
      "# def initPre(pos1, scale1, pos2, scale2, inst=test):\n",
      "    inst.write('INITIATE_CLEAR')\n",
      "    inst.set_data_encoding('RIBinary')\n",
      "    test.write('ACQuire:MODe SAMple') # test.write('ACQuire:MODe PEAKdetect') lo descarto pues manual dice que puede verse mas ruidoso  \n",
      "    inst.write('ACQUIRE:STOPAFTER SEQUENCE')\n",
      "    test.write('ACQuire:STATE RUN')   \n",
      "    # test.write('CH1:SCALE 2E-3')\n",
      "    # test.write('CH1:POSITION -25')\n",
      "    # test.write('CH2:SCALE 4E-2')\n",
      "    # test.write('CH1:POSITION -50')"
     ],
     "language": "python",
     "metadata": {},
     "outputs": []
    },
    {
     "cell_type": "code",
     "collapsed": false,
     "input": [
      "# registra ambos canales en formato de multiples arrays\n",
      "# parametros\n",
      "medicionDia= 1 # numero de medicion en el dia\n",
      "# adquisiciones= 128* 1 # n\u00famero de lecturas\n",
      "adquisiciones= 1 # n\u00famero de lecturas\n",
      "descripcionDetector= 'z' # experimental, n usual\n",
      "descripcionArchivo= 'pre' # experimental, acq usual\n",
      "tipoMedicion= 'pre'\n",
      "\n",
      "# secuencia\n",
      "tiempoInicial= time.time()\n",
      "if (tipoMedicion=='luis'):\n",
      "    init()\n",
      "elif(tipoMedicion=='pre'):\n",
      "    initPre()\n",
      "else:\n",
      "    print('\u00bfCuis?')\n",
      "    \n",
      "settings= param()\n",
      "# paramSave(medicionDia, descripcionDetector) # grabo archivo experimental de parametros con offsets y escalas de ambos canales\n",
      "[puntosAdquisicion, dataOffset] = ptsAdq() # puntos por cada adquisici\u00f3n, headbits en cada adquisici\u00f3n\n",
      "\n",
      "# Trigger [NO ESTA TERMINADO]\n",
      "trgPaso= 0.25\n",
      "trgInicial= 1.52\n",
      "trgFinal= trgInicial\n",
      "trg= np.arange(trgInicial, trgFinal+trgPaso, trgPaso)\n",
      "test.trigger_source('CH2')\n",
      "for trgLevel in trg:\n",
      "    test.trigger_level(trgLevel)\n",
      "    nivelTrigger= test.trigger_level()\n",
      "    print('El nivel de trigger es '+ str(nivelTrigger)+ 'V')\n",
      "\n",
      "# ch2 =lectura(adquisiciones, puntosAdquisicion, dataOffset, tiempoInicial)\n",
      "[zeit, ch1, ch2]= lectura(adquisiciones, puntosAdquisicion, dataOffset, tiempoInicial)\n",
      "\n",
      "# graba    \n",
      "np.savez_compressed(flName(descripcionDetector, descripcionArchivo, medicionDia), settings=settings, zeit=zeit, ch1=ch1, ch2=ch2)"
     ],
     "language": "python",
     "metadata": {},
     "outputs": []
    },
    {
     "cell_type": "heading",
     "level": 1,
     "metadata": {},
     "source": [
      "Adquisici\u00f3n pre-amp"
     ]
    },
    {
     "cell_type": "code",
     "collapsed": false,
     "input": [
      "# initPre()\n",
      "[pos1, scale1, pos2, scale2]= escalas()\n",
      "pos1, scale1, pos2, scale2"
     ],
     "language": "python",
     "metadata": {},
     "outputs": []
    },
    {
     "cell_type": "code",
     "collapsed": false,
     "input": [
      "# test.textAsk('CH1:POS?') # divisiones\n",
      "# test.textAsk('CH1:OFFS?')\n",
      "test.write('CH2:POS -3') # divisiones"
     ],
     "language": "python",
     "metadata": {},
     "outputs": []
    },
    {
     "cell_type": "code",
     "collapsed": false,
     "input": [
      "[pos1, scale1, pos2, scale2]= [-25.0, 0.002, -50.0, 0.04]"
     ],
     "language": "python",
     "metadata": {},
     "outputs": []
    },
    {
     "cell_type": "code",
     "collapsed": false,
     "input": [
      "int(scale1)"
     ],
     "language": "python",
     "metadata": {},
     "outputs": []
    },
    {
     "cell_type": "heading",
     "level": 2,
     "metadata": {},
     "source": [
      "Reconstruir voltajes a partir de archivo sets offsets y escalas de ambos canales"
     ]
    },
    {
     "cell_type": "code",
     "collapsed": false,
     "input": [
      "# lee settings de file\n",
      "npzData= np.load('./data/exp150519x05.npy.npz')\n",
      "culik= npzData['settings']\n",
      "textDico= culik.item()\n",
      "# conversi\u00f3n a voltaje\n",
      "[pos1, scale1, pos2, scale2]= textDico['POSITION1'], textDico['SCALE1'], textDico['POSITION2'], textDico['SCALE2']"
     ],
     "language": "python",
     "metadata": {},
     "outputs": [],
     "prompt_number": 18
    },
    {
     "cell_type": "code",
     "collapsed": false,
     "input": [
      "# Levanta gr\u00e1fica de tensi\u00f3n vs T\n",
      "# FLUC= npzData['ch1']\n",
      "AMC= npzData['ch2']\n",
      "T= npzData['zeit']\n",
      "for i in range(AMC.shape[0]):\n",
      "    # Y1 = float16((res2 - pos1)* scale1)\n",
      "    amc= float16((AMC[i] - pos2)* scale2)\n",
      "    plt.plot(T, amc)"
     ],
     "language": "python",
     "metadata": {},
     "outputs": [
      {
       "metadata": {},
       "output_type": "display_data",
       "png": "[encoded data removed]",
       "text": [
        "<matplotlib.figure.Figure at 0x7f03b4689b70>"
       ]
      }
     ],
     "prompt_number": 19
    },
    {
     "cell_type": "code",
     "collapsed": false,
     "input": [
      "T"
     ],
     "language": "python",
     "metadata": {},
     "outputs": [
      {
       "metadata": {},
       "output_type": "pyout",
       "prompt_number": 20,
       "text": [
        "array([ -1.25000000e-06,  -1.24900000e-06,  -1.24800000e-06, ...,\n",
        "         1.24700000e-06,   1.24800000e-06,   1.24900000e-06])"
       ]
      }
     ],
     "prompt_number": 20
    },
    {
     "cell_type": "heading",
     "level": 1,
     "metadata": {},
     "source": [
      "Secuencia antig\u00fca de lectura"
     ]
    },
    {
     "cell_type": "code",
     "collapsed": false,
     "input": [
      "# Adquisiciones individuales\n",
      "test.write('ACQuire:MODe SAMple')\n",
      "test.write('ACQUIRE:STOPAFTER SEQUENCE')\n",
      "test.write('ACQuire:STATE RUN')\n",
      "test.write('CH2:SCALE 1')\n",
      "adquisiciones= 40\n",
      "\n",
      "N= 3 # numero de medici\u00f3n en el d\u00eda\n",
      "\n",
      "tiempoInicial= time.time()\n",
      "for i in range(6, 7): # determina el nivel de trigger\n",
      "    trg= 0.25* i\n",
      "    test.trigger_level(trg)\n",
      "    nivelTrigger= test.trigger_level()\n",
      "    print('El nivel de trigger es '+ str(nivelTrigger)+ 'V')\n",
      "    paramSave(N, 'n')\n",
      "    acq= acqDartellung(adquisiciones)\n",
      "    np.save(flName('n', 'acq', N), acq)\n",
      "    N+= 1\n",
      "print('Tiempo transcurrido= {:.1f} min'.format((time.time()- tiempoInicial)/60) ) # tiempo transcurrido en segundos"
     ],
     "language": "python",
     "metadata": {},
     "outputs": [
      {
       "output_type": "stream",
       "stream": "stdout",
       "text": [
        "El nivel de trigger es 1.52V\n",
        "\n"
       ]
      },
      {
       "output_type": "stream",
       "stream": "stdout",
       "text": [
        "\n",
        "\r",
        "N= 1"
       ]
      },
      {
       "output_type": "stream",
       "stream": "stdout",
       "text": [
        " \r",
        "N= 2"
       ]
      },
      {
       "output_type": "stream",
       "stream": "stdout",
       "text": [
        " \r",
        "N= 3"
       ]
      },
      {
       "output_type": "stream",
       "stream": "stdout",
       "text": [
        " \r",
        "N= 4"
       ]
      },
      {
       "output_type": "stream",
       "stream": "stdout",
       "text": [
        " \r",
        "N= 5"
       ]
      },
      {
       "output_type": "stream",
       "stream": "stdout",
       "text": [
        " \r",
        "N= 6"
       ]
      },
      {
       "output_type": "stream",
       "stream": "stdout",
       "text": [
        " \r",
        "N= 7"
       ]
      },
      {
       "output_type": "stream",
       "stream": "stdout",
       "text": [
        " \r",
        "N= 8"
       ]
      },
      {
       "output_type": "stream",
       "stream": "stdout",
       "text": [
        " \r",
        "N= 9"
       ]
      },
      {
       "output_type": "stream",
       "stream": "stdout",
       "text": [
        " \r",
        "N= 10"
       ]
      },
      {
       "output_type": "stream",
       "stream": "stdout",
       "text": [
        " \r",
        "N= 11"
       ]
      },
      {
       "output_type": "stream",
       "stream": "stdout",
       "text": [
        " \r",
        "N= 12"
       ]
      },
      {
       "output_type": "stream",
       "stream": "stdout",
       "text": [
        " \r",
        "N= 13"
       ]
      },
      {
       "output_type": "stream",
       "stream": "stdout",
       "text": [
        " \r",
        "N= 14"
       ]
      },
      {
       "output_type": "stream",
       "stream": "stdout",
       "text": [
        " \r",
        "N= 15"
       ]
      },
      {
       "output_type": "stream",
       "stream": "stdout",
       "text": [
        " \r",
        "N= 16"
       ]
      },
      {
       "output_type": "stream",
       "stream": "stdout",
       "text": [
        " \r",
        "N= 17"
       ]
      },
      {
       "output_type": "stream",
       "stream": "stdout",
       "text": [
        " \r",
        "N= 18"
       ]
      },
      {
       "output_type": "stream",
       "stream": "stdout",
       "text": [
        " \r",
        "N= 19"
       ]
      },
      {
       "output_type": "stream",
       "stream": "stdout",
       "text": [
        " \r",
        "N= 20"
       ]
      },
      {
       "output_type": "stream",
       "stream": "stdout",
       "text": [
        " \r",
        "N= 21"
       ]
      },
      {
       "output_type": "stream",
       "stream": "stdout",
       "text": [
        " \r",
        "N= 22"
       ]
      },
      {
       "output_type": "stream",
       "stream": "stdout",
       "text": [
        " \r",
        "N= 23"
       ]
      },
      {
       "output_type": "stream",
       "stream": "stdout",
       "text": [
        " \r",
        "N= 24"
       ]
      },
      {
       "output_type": "stream",
       "stream": "stdout",
       "text": [
        " \r",
        "N= 25"
       ]
      },
      {
       "output_type": "stream",
       "stream": "stdout",
       "text": [
        " \r",
        "N= 26"
       ]
      },
      {
       "output_type": "stream",
       "stream": "stdout",
       "text": [
        " \r",
        "N= 27"
       ]
      },
      {
       "output_type": "stream",
       "stream": "stdout",
       "text": [
        " \r",
        "N= 28"
       ]
      },
      {
       "output_type": "stream",
       "stream": "stdout",
       "text": [
        " \r",
        "N= 29"
       ]
      },
      {
       "output_type": "stream",
       "stream": "stdout",
       "text": [
        " \r",
        "N= 30"
       ]
      },
      {
       "output_type": "stream",
       "stream": "stdout",
       "text": [
        " \r",
        "N= 31"
       ]
      },
      {
       "output_type": "stream",
       "stream": "stdout",
       "text": [
        " \r",
        "N= 32"
       ]
      },
      {
       "output_type": "stream",
       "stream": "stdout",
       "text": [
        " \r",
        "N= 33"
       ]
      },
      {
       "output_type": "stream",
       "stream": "stdout",
       "text": [
        " \r",
        "N= 34"
       ]
      },
      {
       "output_type": "stream",
       "stream": "stdout",
       "text": [
        " \r",
        "N= 35"
       ]
      },
      {
       "output_type": "stream",
       "stream": "stdout",
       "text": [
        " \r",
        "N= 36"
       ]
      },
      {
       "output_type": "stream",
       "stream": "stdout",
       "text": [
        " \r",
        "N= 37"
       ]
      },
      {
       "output_type": "stream",
       "stream": "stdout",
       "text": [
        " \r",
        "N= 38"
       ]
      },
      {
       "output_type": "stream",
       "stream": "stdout",
       "text": [
        " \r",
        "N= 39"
       ]
      },
      {
       "output_type": "stream",
       "stream": "stdout",
       "text": [
        " \r",
        "N= 40"
       ]
      },
      {
       "output_type": "stream",
       "stream": "stdout",
       "text": [
        " \n",
        "\n",
        "Tiempo transcurrido= 0.9 min\n"
       ]
      }
     ],
     "prompt_number": 19
    },
    {
     "cell_type": "heading",
     "level": 1,
     "metadata": {},
     "source": [
      "Otros ensayos"
     ]
    },
    {
     "cell_type": "code",
     "collapsed": false,
     "input": [
      "# init()\n",
      "test.ask('TRIGger:MAIn:LEVel?')"
     ],
     "language": "python",
     "metadata": {},
     "outputs": [
      {
       "metadata": {},
       "output_type": "pyout",
       "prompt_number": 11,
       "text": [
        "b'2.08E0\\n'"
       ]
      }
     ],
     "prompt_number": 11
    },
    {
     "cell_type": "code",
     "collapsed": false,
     "input": [
      "np.arange(6,7)\n",
      "1.5/0.25"
     ],
     "language": "python",
     "metadata": {},
     "outputs": [
      {
       "metadata": {},
       "output_type": "pyout",
       "prompt_number": 15,
       "text": [
        "6.0"
       ]
      }
     ],
     "prompt_number": 15
    },
    {
     "cell_type": "heading",
     "level": 1,
     "metadata": {},
     "source": [
      "Levanta risetime del osciloscopio, promedio de 128 "
     ]
    },
    {
     "cell_type": "code",
     "collapsed": false,
     "input": [
      "# Levanta risetime del osciloscopio, promedio de 128 \n",
      "adquisicionesNumero= 50 # por cada nivel de trigger\n",
      "\n",
      "trgInicial= 1.52 # nivel de trigger\n",
      "# trgInicial= 1.0 # nivel de trigger\n",
      "trfFinal= 1.52\n",
      "# trfFinal= 3.5\n",
      "trfPaso= 0.25\n",
      "\n",
      "init()\n",
      "test.trigger_source('CH2')\n",
      "test.write('ACQuire:MODe AVErage')\n",
      "test.write('ACQuire:NUMAVg 128')\n",
      "test.write('MEASUrement:IMMed:SOUrce CH2')\n",
      "test.write('MEASUrement:IMMed:TYPe RISe')\n",
      "\n",
      "trgRange= arange(trgInicial, trfFinal+ trfPaso, trfPaso) # incluye trfFinal en rango\n",
      "trgSiz= trgRange.size\n",
      "triggers= np.empty([trgSiz, 1])\n",
      "risetimes= np.empty([trgSiz, adquisicionesNumero])\n",
      "\n",
      "for trg in range(trgSiz):\n",
      "    # print(trgRange[trg]) # trigger buscado\n",
      "    test.trigger_level(trgRange[trg])\n",
      "    nivelTrigger= test.trigger_level()\n",
      "    triggers[trg]= nivelTrigger\n",
      "    print('Trigger en '+ str(nivelTrigger)+ 'V')\n",
      "    for i in range(adquisicionesNumero):\n",
      "        print('\\rN= '+ str(i+1), end=' ')\n",
      "        test.write('ACQuire:STATE RUN')\n",
      "        while (test.textAsk('BUSY?')=='1'):\n",
      "            time.sleep(1.5)\n",
      "        risetimes[trg, i]= float(test.ask('MEASUrement:IMMed:VALue?'))\n",
      "    print('\\n')\n",
      "print('FINALIZADO')"
     ],
     "language": "python",
     "metadata": {},
     "outputs": [
      {
       "output_type": "stream",
       "stream": "stdout",
       "text": [
        "Trigger en 1.52V\n",
        "\r",
        "N= 1 \r",
        "N= 2"
       ]
      },
      {
       "output_type": "stream",
       "stream": "stdout",
       "text": [
        " \r",
        "N= 3"
       ]
      },
      {
       "output_type": "stream",
       "stream": "stdout",
       "text": [
        " \r",
        "N= 4"
       ]
      },
      {
       "output_type": "stream",
       "stream": "stdout",
       "text": [
        " \r",
        "N= 5"
       ]
      },
      {
       "output_type": "stream",
       "stream": "stdout",
       "text": [
        " \r",
        "N= 6"
       ]
      },
      {
       "output_type": "stream",
       "stream": "stdout",
       "text": [
        " \r",
        "N= 7"
       ]
      },
      {
       "output_type": "stream",
       "stream": "stdout",
       "text": [
        " \r",
        "N= 8"
       ]
      },
      {
       "output_type": "stream",
       "stream": "stdout",
       "text": [
        " \r",
        "N= 9"
       ]
      },
      {
       "output_type": "stream",
       "stream": "stdout",
       "text": [
        " \r",
        "N= 10"
       ]
      },
      {
       "output_type": "stream",
       "stream": "stdout",
       "text": [
        " \r",
        "N= 11"
       ]
      },
      {
       "output_type": "stream",
       "stream": "stdout",
       "text": [
        " \r",
        "N= 12"
       ]
      },
      {
       "output_type": "stream",
       "stream": "stdout",
       "text": [
        " \r",
        "N= 13"
       ]
      },
      {
       "output_type": "stream",
       "stream": "stdout",
       "text": [
        " \r",
        "N= 14"
       ]
      },
      {
       "output_type": "stream",
       "stream": "stdout",
       "text": [
        " \r",
        "N= 15"
       ]
      },
      {
       "output_type": "stream",
       "stream": "stdout",
       "text": [
        " \r",
        "N= 16"
       ]
      },
      {
       "output_type": "stream",
       "stream": "stdout",
       "text": [
        " \r",
        "N= 17"
       ]
      },
      {
       "output_type": "stream",
       "stream": "stdout",
       "text": [
        " \r",
        "N= 18"
       ]
      },
      {
       "output_type": "stream",
       "stream": "stdout",
       "text": [
        " \r",
        "N= 19"
       ]
      },
      {
       "output_type": "stream",
       "stream": "stdout",
       "text": [
        " \r",
        "N= 20"
       ]
      },
      {
       "output_type": "stream",
       "stream": "stdout",
       "text": [
        " \r",
        "N= 21"
       ]
      },
      {
       "output_type": "stream",
       "stream": "stdout",
       "text": [
        " \r",
        "N= 22"
       ]
      },
      {
       "output_type": "stream",
       "stream": "stdout",
       "text": [
        " \r",
        "N= 23"
       ]
      },
      {
       "output_type": "stream",
       "stream": "stdout",
       "text": [
        " \r",
        "N= 24"
       ]
      },
      {
       "output_type": "stream",
       "stream": "stdout",
       "text": [
        " \r",
        "N= 25"
       ]
      },
      {
       "output_type": "stream",
       "stream": "stdout",
       "text": [
        " \r",
        "N= 26"
       ]
      },
      {
       "output_type": "stream",
       "stream": "stdout",
       "text": [
        " \r",
        "N= 27"
       ]
      },
      {
       "output_type": "stream",
       "stream": "stdout",
       "text": [
        " \r",
        "N= 28"
       ]
      },
      {
       "output_type": "stream",
       "stream": "stdout",
       "text": [
        " \r",
        "N= 29"
       ]
      },
      {
       "output_type": "stream",
       "stream": "stdout",
       "text": [
        " \r",
        "N= 30"
       ]
      },
      {
       "output_type": "stream",
       "stream": "stdout",
       "text": [
        " \r",
        "N= 31"
       ]
      },
      {
       "output_type": "stream",
       "stream": "stdout",
       "text": [
        " \r",
        "N= 32"
       ]
      },
      {
       "output_type": "stream",
       "stream": "stdout",
       "text": [
        " \r",
        "N= 33"
       ]
      },
      {
       "output_type": "stream",
       "stream": "stdout",
       "text": [
        " \r",
        "N= 34"
       ]
      },
      {
       "output_type": "stream",
       "stream": "stdout",
       "text": [
        " \r",
        "N= 35"
       ]
      },
      {
       "output_type": "stream",
       "stream": "stdout",
       "text": [
        " \r",
        "N= 36"
       ]
      },
      {
       "output_type": "stream",
       "stream": "stdout",
       "text": [
        " \r",
        "N= 37"
       ]
      },
      {
       "output_type": "stream",
       "stream": "stdout",
       "text": [
        " \r",
        "N= 38"
       ]
      },
      {
       "output_type": "stream",
       "stream": "stdout",
       "text": [
        " \r",
        "N= 39"
       ]
      },
      {
       "output_type": "stream",
       "stream": "stdout",
       "text": [
        " \r",
        "N= 40"
       ]
      },
      {
       "output_type": "stream",
       "stream": "stdout",
       "text": [
        " \r",
        "N= 41"
       ]
      },
      {
       "output_type": "stream",
       "stream": "stdout",
       "text": [
        " \r",
        "N= 42"
       ]
      },
      {
       "output_type": "stream",
       "stream": "stdout",
       "text": [
        " \r",
        "N= 43"
       ]
      },
      {
       "output_type": "stream",
       "stream": "stdout",
       "text": [
        " \r",
        "N= 44"
       ]
      },
      {
       "output_type": "stream",
       "stream": "stdout",
       "text": [
        " \r",
        "N= 45"
       ]
      },
      {
       "output_type": "stream",
       "stream": "stdout",
       "text": [
        " \r",
        "N= 46"
       ]
      },
      {
       "output_type": "stream",
       "stream": "stdout",
       "text": [
        " \r",
        "N= 47"
       ]
      },
      {
       "output_type": "stream",
       "stream": "stdout",
       "text": [
        " \r",
        "N= 48"
       ]
      },
      {
       "output_type": "stream",
       "stream": "stdout",
       "text": [
        " \r",
        "N= 49"
       ]
      },
      {
       "output_type": "stream",
       "stream": "stdout",
       "text": [
        " \r",
        "N= 50"
       ]
      },
      {
       "output_type": "stream",
       "stream": "stdout",
       "text": [
        " \n"
       ]
      },
      {
       "output_type": "stream",
       "stream": "stdout",
       "text": [
        "\n",
        "FINALIZADO\n"
       ]
      }
     ],
     "prompt_number": 62
    },
    {
     "cell_type": "code",
     "collapsed": false,
     "input": [
      "risetimes.mean(), risetimes.std()"
     ],
     "language": "python",
     "metadata": {},
     "outputs": [
      {
       "metadata": {},
       "output_type": "pyout",
       "prompt_number": 65,
       "text": [
        "(2.03904e-07, 1.0168500381078831e-09)"
       ]
      }
     ],
     "prompt_number": 65
    },
    {
     "cell_type": "code",
     "collapsed": false,
     "input": [
      "save('./data/trg150505n01.npy', triggers)"
     ],
     "language": "python",
     "metadata": {},
     "outputs": [],
     "prompt_number": 23
    },
    {
     "cell_type": "heading",
     "level": 1,
     "metadata": {},
     "source": [
      "Lectura de par\u00e1metros Tektronix desde archivo set"
     ]
    },
    {
     "cell_type": "code",
     "collapsed": false,
     "input": [
      "# set -> dict para verificar \n",
      "dico= np.load('./data/sets150505n13.npy')\n",
      "textDico= dico.item()"
     ],
     "language": "python",
     "metadata": {},
     "outputs": [
      {
       "metadata": {},
       "output_type": "pyout",
       "prompt_number": 11,
       "text": [
        "{':MEASUREMENT:IMMED:TYPE': 'RISE',\n",
        " 'IMAGESIZE': 'DEFLT',\n",
        " ':CURSOR:HBARS:POSITION1': '1.032E1',\n",
        " 'PRESION_N2': '0',\n",
        " 'CH2': '1',\n",
        " 'CURRENTPROBE': '1.0E1',\n",
        " ':TRIGGER:MAIN:LEVEL': '3.28E0',\n",
        " 'WHEN': 'NOTEQUAL',\n",
        " ':HARDCOPY:BUTTON': 'SAVESALL',\n",
        " ':SAVE:IMAGE:FILEFORMAT': 'EPSIMAGE',\n",
        " 'HV': '400',\n",
        " 'CONTRAST': '54',\n",
        " 'NUMAVG': '128',\n",
        " 'LINE': '1',\n",
        " 'TYPE': 'EDGE',\n",
        " 'REFB': '0',\n",
        " 'ESPECTRO': '160504v1',\n",
        " ':MEASUREMENT:MEAS2:TYPE': 'NONE',\n",
        " 'INVERT': 'OFF',\n",
        " 'LAYOUT': 'PORTRAIT',\n",
        " 'PAPERTYPE': 'DEFLT',\n",
        " ':CURSOR:FUNCTION': 'HBARS',\n",
        " ':MATH:FFT:HORIZONTAL:POSITION': '5.0E1',\n",
        " 'STYLE': 'VECTORS',\n",
        " 'SELECT:SOURCE': 'CH2',\n",
        " 'CAMARA': 'Campbelliano',\n",
        " 'BANDWIDTH': 'ON',\n",
        " 'POLARITY': 'NORMAL',\n",
        " 'SCALE': '1.0E0',\n",
        " 'FUENTE': 'Canberra2025',\n",
        " 'SLOPE': 'RISE',\n",
        " 'HOLDOFF:VALUE': '5.0E-7',\n",
        " 'STOP': '2500',\n",
        " ':MATH:DEFINE': '\"CH1+CH2\"',\n",
        " 'PRINTQUAL': 'DEFLT',\n",
        " 'PERSISTENCE': '0',\n",
        " 'FORMAT': 'EPSIMAGE',\n",
        " 'SOURCE': 'CH1',\n",
        " ':AUTORANGE:SETTINGS': 'BOTH',\n",
        " ':DATA:ENCDG': 'RIBINARY',\n",
        " 'STATE': '0',\n",
        " ':CH2:PROBE': '1.0E0',\n",
        " 'POSITION': '8.0E-8',\n",
        " ':MEASUREMENT:MEAS3:TYPE': 'NONE',\n",
        " 'STANDARD': 'NTSC',\n",
        " 'POSITION2': '2.96E0',\n",
        " 'YUNIT': '\"V\"',\n",
        " ':DISPLAY:FORMAT': 'YT',\n",
        " ':VERBOSE': '1',\n",
        " ':MEASUREMENT:MEAS1:TYPE': 'RISE',\n",
        " 'INKSAVER': 'ON',\n",
        " ':LANGUAGE': 'SPANISH',\n",
        " 'SYNC': 'FIELD',\n",
        " ':TRIGGER:MAIN:VIDEO:SOURCE': 'CH2',\n",
        " 'COUPLING': 'DC',\n",
        " ':MEASUREMENT:METHOD': 'AUTO',\n",
        " ':TRIGGER:MAIN:MODE': 'NORMAL',\n",
        " 'IDPRINT': 'DEFLT',\n",
        " ':LOCK': 'NONE',\n",
        " ':MATH:FFT:VERTICAL:POSITION': '0.0E0',\n",
        " 'ELECTRONICA': 'Luis',\n",
        " 'WIDTH': '1.03E-3',\n",
        " 'PORT': 'USB',\n",
        " 'MAIN:SCALE': '1.0E-7',\n",
        " 'SOURCE1': 'CH2',\n",
        " 'STOPAFTER': 'SEQUENCE',\n",
        " ':TRIGGER:MAIN:EDGE:SOURCE': 'CH2',\n",
        " 'MATH': '0',\n",
        " ':CURSOR:VBARS:UNITS': 'SECONDS',\n",
        " 'START': '1',\n",
        " ':MEASUREMENT:MEAS5:TYPE': 'NONE',\n",
        " 'WIDTH:POLARITY': 'POSITIVE',\n",
        " ':PICTBRIDGE:PAPERSIZE': 'DEFLT',\n",
        " ':HORIZONTAL:DELAY:SCALE': '1.0E-8',\n",
        " 'REFA': '0',\n",
        " ':HORIZONTAL:VIEW': 'MAIN',\n",
        " ':TRIGGER:MAIN:PULSE:SOURCE': 'CH2',\n",
        " 'DATEPRINT': 'DEFLT',\n",
        " ':ACQUIRE:MODE': 'SAMPLE',\n",
        " 'VERTICAL:POSITION': '0.0E0',\n",
        " 'DESTINATION': 'REFA',\n",
        " 'POSITION1': '-4.16E-7',\n",
        " ':CH1:PROBE': '1.0E0',\n",
        " ':SELECT:CH1': '1',\n",
        " ':MEASUREMENT:MEAS4:TYPE': 'NONE',\n",
        " 'PRESION_AR': '3.005'}"
       ]
      }
     ],
     "prompt_number": 11
    },
    {
     "cell_type": "code",
     "collapsed": false,
     "input": [
      "test.load_setup() # Obtiene par\u00e1metros del osciloscopio\n",
      "sets= test.dico\n",
      "sets"
     ],
     "language": "python",
     "metadata": {},
     "outputs": [
      {
       "metadata": {},
       "output_type": "pyout",
       "prompt_number": 106,
       "text": [
        "{'START': '1',\n",
        " 'STOP': '2500',\n",
        " 'MATH': '0',\n",
        " 'CH2': '1',\n",
        " 'LAYOUT': 'PORTRAIT',\n",
        " ':LOCK': 'NONE',\n",
        " ':MATH:FFT:VERTICAL:POSITION': '0.0E0',\n",
        " 'LINE': '1',\n",
        " ':TRIGGER:MAIN:MODE': 'NORMAL',\n",
        " 'MAIN:SCALE': '5.0E-7',\n",
        " 'SOURCE': 'CH1',\n",
        " 'FORMAT': 'EPSIMAGE',\n",
        " ':DISPLAY:FORMAT': 'YT',\n",
        " 'IDPRINT': 'DEFLT',\n",
        " 'SYNC': 'FIELD',\n",
        " ':SELECT:CH1': '1',\n",
        " 'POSITION': '0.0E0',\n",
        " 'BANDWIDTH': 'OFF',\n",
        " 'HOLDOFF:VALUE': '5.0E-7',\n",
        " 'REFB': '0',\n",
        " ':AUTORANGE:SETTINGS': 'BOTH',\n",
        " ':TRIGGER:MAIN:LEVEL': '1.52E0',\n",
        " 'SCALE': '1.0E0',\n",
        " ':HARDCOPY:BUTTON': 'SAVESALL',\n",
        " 'REFA': '0',\n",
        " 'STANDARD': 'NTSC',\n",
        " 'CONTRAST': '54',\n",
        " 'SOURCE1': 'CH2',\n",
        " 'STATE': '0',\n",
        " ':CURSOR:HBARS:POSITION1': '4.16E0',\n",
        " 'SELECT:SOURCE': 'CH2',\n",
        " ':MATH:DEFINE': '\"CH1+CH2\"',\n",
        " 'DESTINATION': 'REFA',\n",
        " ':MEASUREMENT:MEAS2:TYPE': 'NONE',\n",
        " 'INVERT': 'OFF',\n",
        " ':TRIGGER:MAIN:VIDEO:SOURCE': 'CH2',\n",
        " 'SLOPE': 'RISE',\n",
        " 'CURRENTPROBE': '1.0E1',\n",
        " ':TRIGGER:MAIN:PULSE:SOURCE': 'CH2',\n",
        " 'NUMAVG': '128',\n",
        " 'POSITION2': '4.8E-1',\n",
        " ':HORIZONTAL:DELAY:SCALE': '1.0E-8',\n",
        " ':ACQUIRE:MODE': 'SAMPLE',\n",
        " 'POSITION1': '-1.66E-6',\n",
        " ':MATH:FFT:HORIZONTAL:POSITION': '5.0E1',\n",
        " ':VERBOSE': '1',\n",
        " ':LANGUAGE': 'SPANISH',\n",
        " ':MEASUREMENT:MEAS3:TYPE': 'NONE',\n",
        " 'DATEPRINT': 'DEFLT',\n",
        " 'TYPE': 'EDGE',\n",
        " 'STOPAFTER': 'SEQUENCE',\n",
        " 'VERTICAL:POSITION': '0.0E0',\n",
        " 'PRINTQUAL': 'DEFLT',\n",
        " 'INKSAVER': 'ON',\n",
        " ':MEASUREMENT:MEAS4:TYPE': 'NONE',\n",
        " 'STYLE': 'VECTORS',\n",
        " ':CH1:PROBE': '1.0E0',\n",
        " 'PAPERTYPE': 'DEFLT',\n",
        " ':MEASUREMENT:MEAS1:TYPE': 'RISE',\n",
        " 'IMAGESIZE': 'DEFLT',\n",
        " 'WIDTH:POLARITY': 'POSITIVE',\n",
        " ':CURSOR:FUNCTION': 'OFF',\n",
        " ':MEASUREMENT:IMMED:TYPE': 'RISE',\n",
        " 'WHEN': 'NOTEQUAL',\n",
        " ':TRIGGER:MAIN:EDGE:SOURCE': 'CH2',\n",
        " ':CH2:PROBE': '1.0E0',\n",
        " ':DATA:ENCDG': 'RIBINARY',\n",
        " 'PERSISTENCE': '0',\n",
        " 'YUNIT': '\"V\"',\n",
        " 'WIDTH': '1.03E-3',\n",
        " ':MEASUREMENT:MEAS5:TYPE': 'NONE',\n",
        " ':SAVE:IMAGE:FILEFORMAT': 'EPSIMAGE',\n",
        " 'PORT': 'USB',\n",
        " ':CURSOR:VBARS:UNITS': 'SECONDS',\n",
        " 'COUPLING': 'DC',\n",
        " ':HORIZONTAL:VIEW': 'MAIN',\n",
        " ':PICTBRIDGE:PAPERSIZE': 'DEFLT',\n",
        " 'POLARITY': 'NORMAL',\n",
        " ':MEASUREMENT:METHOD': 'AUTO'}"
       ]
      }
     ],
     "prompt_number": 106
    },
    {
     "cell_type": "markdown",
     "metadata": {},
     "source": [
      "#Ensayos"
     ]
    },
    {
     "cell_type": "code",
     "collapsed": false,
     "input": [
      "data = [('red', 1), ('blue', 1), ('red', 2), ('blue', 2)]\n",
      "type(sets)"
     ],
     "language": "python",
     "metadata": {},
     "outputs": [
      {
       "metadata": {},
       "output_type": "pyout",
       "prompt_number": 19,
       "text": [
        "dict"
       ]
      }
     ],
     "prompt_number": 19
    },
    {
     "cell_type": "code",
     "collapsed": false,
     "input": [
      "# Levanto lecturas y las guardo\n",
      "test.trigger_level(0.25)\n",
      "# Mide y graba mediciones\n",
      "acq= acqDartellung(128)\n",
      "todayNum= 13\n",
      "\n",
      "np.save(filePath+ 'acq'+ fileName+ '.npy',acq)"
     ],
     "language": "python",
     "metadata": {},
     "outputs": [
      {
       "output_type": "stream",
       "stream": "stdout",
       "text": [
        "trigger set to 2.50E-01 V\n",
        "\r",
        "N= 1"
       ]
      },
      {
       "output_type": "stream",
       "stream": "stdout",
       "text": [
        "\r",
        "N= 2"
       ]
      },
      {
       "output_type": "stream",
       "stream": "stdout",
       "text": [
        "\r",
        "N= 3"
       ]
      },
      {
       "output_type": "stream",
       "stream": "stdout",
       "text": [
        "\r",
        "N= 4"
       ]
      },
      {
       "output_type": "stream",
       "stream": "stdout",
       "text": [
        "\r",
        "N= 5"
       ]
      },
      {
       "output_type": "stream",
       "stream": "stdout",
       "text": [
        "\r",
        "N= 6"
       ]
      },
      {
       "output_type": "stream",
       "stream": "stdout",
       "text": [
        "\r",
        "N= 7"
       ]
      },
      {
       "output_type": "stream",
       "stream": "stdout",
       "text": [
        "\r",
        "N= 8"
       ]
      },
      {
       "output_type": "stream",
       "stream": "stdout",
       "text": [
        "\r",
        "N= 9"
       ]
      },
      {
       "output_type": "stream",
       "stream": "stdout",
       "text": [
        "\r",
        "N= 10"
       ]
      },
      {
       "output_type": "stream",
       "stream": "stdout",
       "text": [
        "\r",
        "N= 11"
       ]
      },
      {
       "output_type": "stream",
       "stream": "stdout",
       "text": [
        "\r",
        "N= 12"
       ]
      },
      {
       "output_type": "stream",
       "stream": "stdout",
       "text": [
        "\r",
        "N= 13"
       ]
      },
      {
       "output_type": "stream",
       "stream": "stdout",
       "text": [
        "\r",
        "N= 14"
       ]
      },
      {
       "output_type": "stream",
       "stream": "stdout",
       "text": [
        "\r",
        "N= 15"
       ]
      },
      {
       "output_type": "stream",
       "stream": "stdout",
       "text": [
        "\r",
        "N= 16"
       ]
      },
      {
       "output_type": "stream",
       "stream": "stdout",
       "text": [
        "\r",
        "N= 17"
       ]
      },
      {
       "output_type": "stream",
       "stream": "stdout",
       "text": [
        "\r",
        "N= 18"
       ]
      },
      {
       "output_type": "stream",
       "stream": "stdout",
       "text": [
        "\r",
        "N= 19"
       ]
      },
      {
       "output_type": "stream",
       "stream": "stdout",
       "text": [
        "\r",
        "N= 20"
       ]
      },
      {
       "output_type": "stream",
       "stream": "stdout",
       "text": [
        "\r",
        "N= 21"
       ]
      },
      {
       "output_type": "stream",
       "stream": "stdout",
       "text": [
        "\r",
        "N= 22"
       ]
      },
      {
       "output_type": "stream",
       "stream": "stdout",
       "text": [
        "\r",
        "N= 23"
       ]
      },
      {
       "output_type": "stream",
       "stream": "stdout",
       "text": [
        "\r",
        "N= 24"
       ]
      },
      {
       "output_type": "stream",
       "stream": "stdout",
       "text": [
        "\r",
        "N= 25"
       ]
      },
      {
       "output_type": "stream",
       "stream": "stdout",
       "text": [
        "\r",
        "N= 26"
       ]
      },
      {
       "output_type": "stream",
       "stream": "stdout",
       "text": [
        "\r",
        "N= 27"
       ]
      },
      {
       "output_type": "stream",
       "stream": "stdout",
       "text": [
        "\r",
        "N= 28"
       ]
      },
      {
       "output_type": "stream",
       "stream": "stdout",
       "text": [
        "\r",
        "N= 29"
       ]
      },
      {
       "output_type": "stream",
       "stream": "stdout",
       "text": [
        "\r",
        "N= 30"
       ]
      },
      {
       "output_type": "stream",
       "stream": "stdout",
       "text": [
        "\r",
        "N= 31"
       ]
      },
      {
       "output_type": "stream",
       "stream": "stdout",
       "text": [
        "\r",
        "N= 32"
       ]
      },
      {
       "output_type": "stream",
       "stream": "stdout",
       "text": [
        "\r",
        "N= 33"
       ]
      },
      {
       "output_type": "stream",
       "stream": "stdout",
       "text": [
        "\r",
        "N= 34"
       ]
      },
      {
       "output_type": "stream",
       "stream": "stdout",
       "text": [
        "\r",
        "N= 35"
       ]
      },
      {
       "output_type": "stream",
       "stream": "stdout",
       "text": [
        "\r",
        "N= 36"
       ]
      },
      {
       "output_type": "stream",
       "stream": "stdout",
       "text": [
        "\r",
        "N= 37"
       ]
      },
      {
       "output_type": "stream",
       "stream": "stdout",
       "text": [
        "\r",
        "N= 38"
       ]
      },
      {
       "output_type": "stream",
       "stream": "stdout",
       "text": [
        "\r",
        "N= 39"
       ]
      },
      {
       "output_type": "stream",
       "stream": "stdout",
       "text": [
        "\r",
        "N= 40"
       ]
      },
      {
       "output_type": "stream",
       "stream": "stdout",
       "text": [
        "\r",
        "N= 41"
       ]
      },
      {
       "output_type": "stream",
       "stream": "stdout",
       "text": [
        "\r",
        "N= 42"
       ]
      },
      {
       "output_type": "stream",
       "stream": "stdout",
       "text": [
        "\r",
        "N= 43"
       ]
      },
      {
       "output_type": "stream",
       "stream": "stdout",
       "text": [
        "\r",
        "N= 44"
       ]
      },
      {
       "output_type": "stream",
       "stream": "stdout",
       "text": [
        "\r",
        "N= 45"
       ]
      },
      {
       "output_type": "stream",
       "stream": "stdout",
       "text": [
        "\r",
        "N= 46"
       ]
      },
      {
       "output_type": "stream",
       "stream": "stdout",
       "text": [
        "\r",
        "N= 47"
       ]
      },
      {
       "output_type": "stream",
       "stream": "stdout",
       "text": [
        "\r",
        "N= 48"
       ]
      },
      {
       "output_type": "stream",
       "stream": "stdout",
       "text": [
        "\r",
        "N= 49"
       ]
      },
      {
       "output_type": "stream",
       "stream": "stdout",
       "text": [
        "\r",
        "N= 50"
       ]
      },
      {
       "output_type": "stream",
       "stream": "stdout",
       "text": [
        "\r",
        "N= 51"
       ]
      },
      {
       "output_type": "stream",
       "stream": "stdout",
       "text": [
        "\r",
        "N= 52"
       ]
      },
      {
       "output_type": "stream",
       "stream": "stdout",
       "text": [
        "\r",
        "N= 53"
       ]
      },
      {
       "output_type": "stream",
       "stream": "stdout",
       "text": [
        "\r",
        "N= 54"
       ]
      },
      {
       "output_type": "stream",
       "stream": "stdout",
       "text": [
        "\r",
        "N= 55"
       ]
      },
      {
       "output_type": "stream",
       "stream": "stdout",
       "text": [
        "\r",
        "N= 56"
       ]
      },
      {
       "output_type": "stream",
       "stream": "stdout",
       "text": [
        "\r",
        "N= 57"
       ]
      },
      {
       "output_type": "stream",
       "stream": "stdout",
       "text": [
        "\r",
        "N= 58"
       ]
      },
      {
       "output_type": "stream",
       "stream": "stdout",
       "text": [
        "\r",
        "N= 59"
       ]
      },
      {
       "output_type": "stream",
       "stream": "stdout",
       "text": [
        "\r",
        "N= 60"
       ]
      },
      {
       "output_type": "stream",
       "stream": "stdout",
       "text": [
        "\r",
        "N= 61"
       ]
      },
      {
       "output_type": "stream",
       "stream": "stdout",
       "text": [
        "\r",
        "N= 62"
       ]
      },
      {
       "output_type": "stream",
       "stream": "stdout",
       "text": [
        "\r",
        "N= 63"
       ]
      },
      {
       "output_type": "stream",
       "stream": "stdout",
       "text": [
        "\r",
        "N= 64"
       ]
      },
      {
       "output_type": "stream",
       "stream": "stdout",
       "text": [
        "\r",
        "N= 65"
       ]
      },
      {
       "output_type": "stream",
       "stream": "stdout",
       "text": [
        "\r",
        "N= 66"
       ]
      },
      {
       "output_type": "stream",
       "stream": "stdout",
       "text": [
        "\r",
        "N= 67"
       ]
      },
      {
       "output_type": "stream",
       "stream": "stdout",
       "text": [
        "\r",
        "N= 68"
       ]
      },
      {
       "output_type": "stream",
       "stream": "stdout",
       "text": [
        "\r",
        "N= 69"
       ]
      },
      {
       "output_type": "stream",
       "stream": "stdout",
       "text": [
        "\r",
        "N= 70"
       ]
      },
      {
       "output_type": "stream",
       "stream": "stdout",
       "text": [
        "\r",
        "N= 71"
       ]
      },
      {
       "output_type": "stream",
       "stream": "stdout",
       "text": [
        "\r",
        "N= 72"
       ]
      },
      {
       "output_type": "stream",
       "stream": "stdout",
       "text": [
        "\r",
        "N= 73"
       ]
      },
      {
       "output_type": "stream",
       "stream": "stdout",
       "text": [
        "\r",
        "N= 74"
       ]
      },
      {
       "output_type": "stream",
       "stream": "stdout",
       "text": [
        "\r",
        "N= 75"
       ]
      },
      {
       "output_type": "stream",
       "stream": "stdout",
       "text": [
        "\r",
        "N= 76"
       ]
      },
      {
       "output_type": "stream",
       "stream": "stdout",
       "text": [
        "\r",
        "N= 77"
       ]
      },
      {
       "output_type": "stream",
       "stream": "stdout",
       "text": [
        "\r",
        "N= 78"
       ]
      },
      {
       "output_type": "stream",
       "stream": "stdout",
       "text": [
        "\r",
        "N= 79"
       ]
      },
      {
       "output_type": "stream",
       "stream": "stdout",
       "text": [
        "\r",
        "N= 80"
       ]
      },
      {
       "output_type": "stream",
       "stream": "stdout",
       "text": [
        "\r",
        "N= 81"
       ]
      },
      {
       "output_type": "stream",
       "stream": "stdout",
       "text": [
        "\r",
        "N= 82"
       ]
      },
      {
       "output_type": "stream",
       "stream": "stdout",
       "text": [
        "\r",
        "N= 83"
       ]
      },
      {
       "output_type": "stream",
       "stream": "stdout",
       "text": [
        "\r",
        "N= 84"
       ]
      },
      {
       "output_type": "stream",
       "stream": "stdout",
       "text": [
        "\r",
        "N= 85"
       ]
      },
      {
       "output_type": "stream",
       "stream": "stdout",
       "text": [
        "\r",
        "N= 86"
       ]
      },
      {
       "output_type": "stream",
       "stream": "stdout",
       "text": [
        "\r",
        "N= 87"
       ]
      },
      {
       "output_type": "stream",
       "stream": "stdout",
       "text": [
        "\r",
        "N= 88"
       ]
      },
      {
       "output_type": "stream",
       "stream": "stdout",
       "text": [
        "\r",
        "N= 89"
       ]
      },
      {
       "output_type": "stream",
       "stream": "stdout",
       "text": [
        "\r",
        "N= 90"
       ]
      },
      {
       "output_type": "stream",
       "stream": "stdout",
       "text": [
        "\r",
        "N= 91"
       ]
      },
      {
       "output_type": "stream",
       "stream": "stdout",
       "text": [
        "\r",
        "N= 92"
       ]
      },
      {
       "output_type": "stream",
       "stream": "stdout",
       "text": [
        "\r",
        "N= 93"
       ]
      },
      {
       "output_type": "stream",
       "stream": "stdout",
       "text": [
        "\r",
        "N= 94"
       ]
      },
      {
       "output_type": "stream",
       "stream": "stdout",
       "text": [
        "\r",
        "N= 95"
       ]
      },
      {
       "output_type": "stream",
       "stream": "stdout",
       "text": [
        "\r",
        "N= 96"
       ]
      },
      {
       "output_type": "stream",
       "stream": "stdout",
       "text": [
        "\r",
        "N= 97"
       ]
      },
      {
       "output_type": "stream",
       "stream": "stdout",
       "text": [
        "\r",
        "N= 98"
       ]
      },
      {
       "output_type": "stream",
       "stream": "stdout",
       "text": [
        "\r",
        "N= 99"
       ]
      },
      {
       "output_type": "stream",
       "stream": "stdout",
       "text": [
        "\r",
        "N= 100"
       ]
      },
      {
       "output_type": "stream",
       "stream": "stdout",
       "text": [
        "\r",
        "N= 101"
       ]
      },
      {
       "output_type": "stream",
       "stream": "stdout",
       "text": [
        "\r",
        "N= 102"
       ]
      },
      {
       "output_type": "stream",
       "stream": "stdout",
       "text": [
        "\r",
        "N= 103"
       ]
      },
      {
       "output_type": "stream",
       "stream": "stdout",
       "text": [
        "\r",
        "N= 104"
       ]
      },
      {
       "output_type": "stream",
       "stream": "stdout",
       "text": [
        "\r",
        "N= 105"
       ]
      },
      {
       "output_type": "stream",
       "stream": "stdout",
       "text": [
        "\r",
        "N= 106"
       ]
      },
      {
       "output_type": "stream",
       "stream": "stdout",
       "text": [
        "\r",
        "N= 107"
       ]
      },
      {
       "output_type": "stream",
       "stream": "stdout",
       "text": [
        "\r",
        "N= 108"
       ]
      },
      {
       "output_type": "stream",
       "stream": "stdout",
       "text": [
        "\r",
        "N= 109"
       ]
      },
      {
       "output_type": "stream",
       "stream": "stdout",
       "text": [
        "\r",
        "N= 110"
       ]
      },
      {
       "output_type": "stream",
       "stream": "stdout",
       "text": [
        "\r",
        "N= 111"
       ]
      },
      {
       "output_type": "stream",
       "stream": "stdout",
       "text": [
        "\r",
        "N= 112"
       ]
      },
      {
       "output_type": "stream",
       "stream": "stdout",
       "text": [
        "\r",
        "N= 113"
       ]
      },
      {
       "output_type": "stream",
       "stream": "stdout",
       "text": [
        "\r",
        "N= 114"
       ]
      },
      {
       "output_type": "stream",
       "stream": "stdout",
       "text": [
        "\r",
        "N= 115"
       ]
      },
      {
       "output_type": "stream",
       "stream": "stdout",
       "text": [
        "\r",
        "N= 116"
       ]
      },
      {
       "output_type": "stream",
       "stream": "stdout",
       "text": [
        "\r",
        "N= 117"
       ]
      },
      {
       "output_type": "stream",
       "stream": "stdout",
       "text": [
        "\r",
        "N= 118"
       ]
      },
      {
       "output_type": "stream",
       "stream": "stdout",
       "text": [
        "\r",
        "N= 119"
       ]
      },
      {
       "output_type": "stream",
       "stream": "stdout",
       "text": [
        "\r",
        "N= 120"
       ]
      },
      {
       "output_type": "stream",
       "stream": "stdout",
       "text": [
        "\r",
        "N= 121"
       ]
      },
      {
       "output_type": "stream",
       "stream": "stdout",
       "text": [
        "\r",
        "N= 122"
       ]
      },
      {
       "output_type": "stream",
       "stream": "stdout",
       "text": [
        "\r",
        "N= 123"
       ]
      },
      {
       "output_type": "stream",
       "stream": "stdout",
       "text": [
        "\r",
        "N= 124"
       ]
      },
      {
       "output_type": "stream",
       "stream": "stdout",
       "text": [
        "\r",
        "N= 125"
       ]
      },
      {
       "output_type": "stream",
       "stream": "stdout",
       "text": [
        "\r",
        "N= 126"
       ]
      },
      {
       "output_type": "stream",
       "stream": "stdout",
       "text": [
        "\r",
        "N= 127"
       ]
      },
      {
       "output_type": "stream",
       "stream": "stdout",
       "text": [
        "\r",
        "N= 128"
       ]
      }
     ],
     "prompt_number": 62
    },
    {
     "cell_type": "code",
     "collapsed": false,
     "input": [
      "# Levanta ambos canales en pantalla\n",
      "ap= test.Xaxis()\n",
      "ch1= eins(1)\n",
      "ap= np.vstack([ap,ch1])\n",
      "ch2= eins(2)\n",
      "ap= np.vstack([ap,ch2])\n",
      "\n",
      "darstellungNurZwei(ap[0], Meas2, sav=False)"
     ],
     "language": "python",
     "metadata": {},
     "outputs": [
      {
       "ename": "NameError",
       "evalue": "name 'T' is not defined",
       "output_type": "pyerr",
       "traceback": [
        "\u001b[0;31m---------------------------------------------------------------------------\u001b[0m\n\u001b[0;31mNameError\u001b[0m                                 Traceback (most recent call last)",
        "\u001b[0;32m<ipython-input-11-5dc57cd44bb1>\u001b[0m in \u001b[0;36m<module>\u001b[0;34m()\u001b[0m\n\u001b[1;32m      6\u001b[0m \u001b[0map\u001b[0m\u001b[0;34m=\u001b[0m \u001b[0mnp\u001b[0m\u001b[0;34m.\u001b[0m\u001b[0mvstack\u001b[0m\u001b[0;34m(\u001b[0m\u001b[0;34m[\u001b[0m\u001b[0map\u001b[0m\u001b[0;34m,\u001b[0m\u001b[0mch2\u001b[0m\u001b[0;34m]\u001b[0m\u001b[0;34m)\u001b[0m\u001b[0;34m\u001b[0m\u001b[0m\n\u001b[1;32m      7\u001b[0m \u001b[0;34m\u001b[0m\u001b[0m\n\u001b[0;32m----> 8\u001b[0;31m \u001b[0mdarstellungNurZwei\u001b[0m\u001b[0;34m(\u001b[0m\u001b[0mT\u001b[0m\u001b[0;34m,\u001b[0m \u001b[0mMeas2\u001b[0m\u001b[0;34m,\u001b[0m \u001b[0msav\u001b[0m\u001b[0;34m=\u001b[0m\u001b[0;32mFalse\u001b[0m\u001b[0;34m)\u001b[0m\u001b[0;34m\u001b[0m\u001b[0m\n\u001b[0m",
        "\u001b[0;31mNameError\u001b[0m: name 'T' is not defined"
       ]
      }
     ],
     "prompt_number": 11
    },
    {
     "cell_type": "markdown",
     "metadata": {},
     "source": [
      "# A partir de aqu\u00ed son ensayos"
     ]
    },
    {
     "cell_type": "code",
     "collapsed": false,
     "input": [
      "%%timeit\n",
      "test.ask('WFMPre?')"
     ],
     "language": "python",
     "metadata": {},
     "outputs": [
      {
       "output_type": "stream",
       "stream": "stdout",
       "text": [
        "1 loops, best of 3: 853 ms per loop\n"
       ]
      }
     ],
     "prompt_number": 115
    },
    {
     "cell_type": "code",
     "collapsed": false,
     "input": [
      "%%timeit\n",
      "[pos1, scale1, pos2, scale2]= escalas()\n",
      "pos1, scale1, pos2, scale2"
     ],
     "language": "python",
     "metadata": {},
     "outputs": [
      {
       "output_type": "stream",
       "stream": "stdout",
       "text": [
        "1 loops, best of 3: 519 ms per loop\n"
       ]
      }
     ],
     "prompt_number": 114
    },
    {
     "cell_type": "code",
     "collapsed": false,
     "input": [
      "# a lo pavo\n",
      "N= 12\n",
      "test.write('MEASUrement:IMMed:SOUrce CH2')\n",
      "test.write('MEASUREMENT:IMMED:TYPE RISE')\n",
      "for i in range(12, 14):\n",
      "    nombre= 1\n",
      "#     N+= 1\n",
      "    trg= 0.25* i\n",
      "    test.trigger_level(trg)\n",
      "    tension= test.trigger_level()\n",
      "    test.write('ACQuire:STATE RUN')\n",
      "    while ((test.textAsk('BUSY?')=='1')):\n",
      "        time.sleep(1)\n",
      "    print('\\n')\n",
      "    a= test.ask('MEASUrement:IMMed:VALue?')\n",
      "    print('Risetime['+ a)"
     ],
     "language": "python",
     "metadata": {},
     "outputs": [
      {
       "ename": "KeyboardInterrupt",
       "evalue": "",
       "output_type": "pyerr",
       "traceback": [
        "\u001b[0;31m---------------------------------------------------------------------------\u001b[0m\n\u001b[0;31mKeyboardInterrupt\u001b[0m                         Traceback (most recent call last)",
        "\u001b[0;32m<ipython-input-54-327eeb000cce>\u001b[0m in \u001b[0;36m<module>\u001b[0;34m()\u001b[0m\n\u001b[1;32m     11\u001b[0m     \u001b[0mtest\u001b[0m\u001b[0;34m.\u001b[0m\u001b[0mwrite\u001b[0m\u001b[0;34m(\u001b[0m\u001b[0;34m'ACQuire:STATE RUN'\u001b[0m\u001b[0;34m)\u001b[0m\u001b[0;34m\u001b[0m\u001b[0m\n\u001b[1;32m     12\u001b[0m     \u001b[0;32mwhile\u001b[0m \u001b[0;34m(\u001b[0m\u001b[0;34m(\u001b[0m\u001b[0mtest\u001b[0m\u001b[0;34m.\u001b[0m\u001b[0mtextAsk\u001b[0m\u001b[0;34m(\u001b[0m\u001b[0;34m'BUSY?'\u001b[0m\u001b[0;34m)\u001b[0m\u001b[0;34m==\u001b[0m\u001b[0;34m'1'\u001b[0m\u001b[0;34m)\u001b[0m\u001b[0;34m)\u001b[0m\u001b[0;34m:\u001b[0m\u001b[0;34m\u001b[0m\u001b[0m\n\u001b[0;32m---> 13\u001b[0;31m         \u001b[0mtime\u001b[0m\u001b[0;34m.\u001b[0m\u001b[0msleep\u001b[0m\u001b[0;34m(\u001b[0m\u001b[0;36m1\u001b[0m\u001b[0;34m)\u001b[0m\u001b[0;34m\u001b[0m\u001b[0m\n\u001b[0m\u001b[1;32m     14\u001b[0m     \u001b[0;32mprint\u001b[0m\u001b[0;34m(\u001b[0m\u001b[0;34m'\\n'\u001b[0m\u001b[0;34m)\u001b[0m\u001b[0;34m\u001b[0m\u001b[0m\n\u001b[1;32m     15\u001b[0m     \u001b[0ma\u001b[0m\u001b[0;34m=\u001b[0m \u001b[0mtest\u001b[0m\u001b[0;34m.\u001b[0m\u001b[0mask\u001b[0m\u001b[0;34m(\u001b[0m\u001b[0;34m'MEASUrement:IMMed:VALue?'\u001b[0m\u001b[0;34m)\u001b[0m\u001b[0;34m\u001b[0m\u001b[0m\n",
        "\u001b[0;31mKeyboardInterrupt\u001b[0m: "
       ]
      }
     ],
     "prompt_number": 54
    },
    {
     "cell_type": "code",
     "collapsed": false,
     "input": [
      "test.trigger_source('CH2')"
     ],
     "language": "python",
     "metadata": {},
     "outputs": [],
     "prompt_number": 10
    },
    {
     "cell_type": "code",
     "collapsed": false,
     "input": [
      "test.write('MEASUrement:IMMed:SOUrce CH2')\n",
      "test.write('MEASUREMENT:IMMED:TYPE RISE')"
     ],
     "language": "python",
     "metadata": {},
     "outputs": [],
     "prompt_number": 11
    },
    {
     "cell_type": "code",
     "collapsed": false,
     "input": [
      "test.trigger_level(6)\n",
      "nivelTrigger= test.trigger_level()\n",
      "print('El nivel de trigger es '+ str(nivelTrigger)+ 'V')"
     ],
     "language": "python",
     "metadata": {},
     "outputs": [
      {
       "output_type": "stream",
       "stream": "stdout",
       "text": [
        "El nivel de trigger es 6.0V\n"
       ]
      }
     ],
     "prompt_number": 9
    },
    {
     "cell_type": "code",
     "collapsed": false,
     "input": [
      "test.write('ACQuire:STATE RUN')"
     ],
     "language": "python",
     "metadata": {},
     "outputs": [],
     "prompt_number": 16
    },
    {
     "cell_type": "code",
     "collapsed": false,
     "input": [
      "test.ask('MEASUrement:IMMed:VALue?')"
     ],
     "language": "python",
     "metadata": {},
     "outputs": [
      {
       "metadata": {},
       "output_type": "pyout",
       "prompt_number": 13,
       "text": [
        "b'1.724E-7\\n'"
       ]
      }
     ],
     "prompt_number": 13
    },
    {
     "cell_type": "code",
     "collapsed": false,
     "input": [
      "risetimes.shape\n",
      "a=(risetimes[2])\n",
      "a.mean()\n",
      "save('rise150504.npy',risetimes)"
     ],
     "language": "python",
     "metadata": {},
     "outputs": [],
     "prompt_number": 64
    },
    {
     "cell_type": "code",
     "collapsed": false,
     "input": [
      "np.arange()"
     ],
     "language": "python",
     "metadata": {},
     "outputs": []
    },
    {
     "cell_type": "code",
     "collapsed": false,
     "input": [
      "adquisicionesNumero= 10\n",
      "risetimes= np.empty([adquisicionesNumero, 1])\n",
      "risetimes.shape\n",
      "risetimes[1]"
     ],
     "language": "python",
     "metadata": {},
     "outputs": [
      {
       "metadata": {},
       "output_type": "pyout",
       "prompt_number": 30,
       "text": [
        "array([  2.87323442e-316])"
       ]
      }
     ],
     "prompt_number": 30
    },
    {
     "cell_type": "code",
     "collapsed": false,
     "input": [
      "2.75/.25"
     ],
     "language": "python",
     "metadata": {},
     "outputs": [
      {
       "metadata": {},
       "output_type": "pyout",
       "prompt_number": 7,
       "text": [
        "11.0"
       ]
      }
     ],
     "prompt_number": 7
    },
    {
     "cell_type": "code",
     "collapsed": false,
     "input": [
      "test.ask('BUSY?')"
     ],
     "language": "python",
     "metadata": {},
     "outputs": [
      {
       "metadata": {},
       "output_type": "pyout",
       "prompt_number": 13,
       "text": [
        "'0\\n'"
       ]
      }
     ],
     "prompt_number": 13
    },
    {
     "cell_type": "code",
     "collapsed": false,
     "input": [
      "def complete():\n",
      "# Toma byte respuesta a *ESR? -> regresa el LSB= bit OPC\n",
      "    test.write('OPC')\n",
      "    esr=bin(int(textAsk('*ESR?') ) )\n",
      "    return esr[7]==0 # OPC bit"
     ],
     "language": "python",
     "metadata": {},
     "outputs": [],
     "prompt_number": 12
    },
    {
     "cell_type": "code",
     "collapsed": false,
     "input": [
      "complete()"
     ],
     "language": "python",
     "metadata": {},
     "outputs": [
      {
       "metadata": {},
       "output_type": "pyout",
       "prompt_number": 10,
       "text": [
        "False"
       ]
      }
     ],
     "prompt_number": 10
    },
    {
     "cell_type": "code",
     "collapsed": false,
     "input": [
      "test.write('OPC')\n",
      "esr=bin(int(textAsk('*ESR?') ) )\n",
      "esr # OPC bit"
     ],
     "language": "python",
     "metadata": {},
     "outputs": [
      {
       "metadata": {},
       "output_type": "pyout",
       "prompt_number": 12,
       "text": [
        "'0b100000'"
       ]
      }
     ],
     "prompt_number": 12
    },
    {
     "cell_type": "code",
     "collapsed": false,
     "input": [
      "textAsk('ACQUIRE:STOPAFTER?')"
     ],
     "language": "python",
     "metadata": {},
     "outputs": [
      {
       "metadata": {},
       "output_type": "pyout",
       "prompt_number": 119,
       "text": [
        "'SEQUENCE'"
       ]
      }
     ],
     "prompt_number": 119
    },
    {
     "cell_type": "markdown",
     "metadata": {},
     "source": [
      "# Lectura simple"
     ]
    },
    {
     "cell_type": "code",
     "collapsed": false,
     "input": [
      "test.write('DATa:SOUrce CH2') # Siempre establecer activo el canal que se quiere obtener, de lo contrario TIMEOUT\n",
      "zeit= test.Xaxis()\n",
      "Y= test.bin_read()"
     ],
     "language": "python",
     "metadata": {},
     "outputs": [],
     "prompt_number": 37
    },
    {
     "cell_type": "code",
     "collapsed": false,
     "input": [
      "plt.plot(zeit,Y)\n",
      "# Ejes\n",
      "plt.xlabel('tiempo [s]')\n",
      "plt.ylabel('dif. potencial [v]')\n",
      "plt.grid()\n",
      "plt.show()"
     ],
     "language": "python",
     "metadata": {},
     "outputs": [
      {
       "metadata": {},
       "output_type": "display_data",
       "png": "[encoded data removed]",
       "text": [
        "<matplotlib.figure.Figure at 0x7f03b454c470>"
       ]
      }
     ],
     "prompt_number": 38
    },
    {
     "cell_type": "code",
     "collapsed": false,
     "input": [
      "descripcionDetector= 'x' # experimental, n usual\n",
      "descripcionArchivo= 'exp' # experimental, acq usual\n",
      "medicionDia= 1 # numero de medicion en el dia\n",
      "\n",
      "# secuencia\n",
      "settings= param()\n",
      "np.savez_compressed(flName(descripcionDetector, descripcionArchivo, medicionDia), settings=settings, zeit=X, ch1=Y, ch2=Y)"
     ],
     "language": "python",
     "metadata": {},
     "outputs": [],
     "prompt_number": 17
    },
    {
     "cell_type": "code",
     "collapsed": false,
     "input": [
      "zeit"
     ],
     "language": "python",
     "metadata": {},
     "outputs": [
      {
       "metadata": {},
       "output_type": "pyout",
       "prompt_number": 21,
       "text": [
        "array([ -2.50000000e-06,  -2.49800000e-06,  -2.49600000e-06, ...,\n",
        "         2.49400000e-06,   2.49600000e-06,   2.49800000e-06])"
       ]
      }
     ],
     "prompt_number": 21
    },
    {
     "cell_type": "code",
     "collapsed": false,
     "input": [
      "test.textAsk('HORIZONTAL:SCALE?')"
     ],
     "language": "python",
     "metadata": {},
     "outputs": [
      {
       "metadata": {},
       "output_type": "pyout",
       "prompt_number": 36,
       "text": [
        "'1.0E-7'"
       ]
      }
     ],
     "prompt_number": 36
    },
    {
     "cell_type": "code",
     "collapsed": false,
     "input": [
      "test.write('HORIZONTAL:SCALE 1E-7')"
     ],
     "language": "python",
     "metadata": {},
     "outputs": [],
     "prompt_number": 35
    },
    {
     "cell_type": "code",
     "collapsed": false,
     "input": [
      "test.textAsk('HORIZONTAL?')"
     ],
     "language": "python",
     "metadata": {},
     "outputs": [
      {
       "metadata": {},
       "output_type": "pyout",
       "prompt_number": 43,
       "text": [
        "'MAIN;2500;1.0E-7;6.4E-8;1.0E-8;0.0E0'"
       ]
      }
     ],
     "prompt_number": 43
    },
    {
     "cell_type": "code",
     "collapsed": false,
     "input": [],
     "language": "python",
     "metadata": {},
     "outputs": []
    }
   ],
   "metadata": {}
  }
 ]
}