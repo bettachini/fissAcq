{
 "metadata": {
  "name": "",
  "signature": "sha256:e11c572faca099a98d5e991b65664701f808c546d58d96a04bebf46293aa2b74"
 },
 "nbformat": 3,
 "nbformat_minor": 0,
 "worksheets": [
  {
   "cells": [
    {
     "cell_type": "code",
     "collapsed": false,
     "input": [
      "import os\n",
      "import numpy as np\n",
      "device='/dev/usbtmc0'\n",
      "length= 4000\n",
      "\n",
      "kos= os.open(device, os.O_RDWR)"
     ],
     "language": "python",
     "metadata": {},
     "outputs": [],
     "prompt_number": 1
    },
    {
     "cell_type": "code",
     "collapsed": false,
     "input": [
      "command='SELECT:CH1?' # 1 means 1byte per each waveform data point \n",
      "os.write(kos, command.encode('utf-8'))"
     ],
     "language": "python",
     "metadata": {},
     "outputs": [
      {
       "metadata": {},
       "output_type": "pyout",
       "prompt_number": 17,
       "text": [
        "11"
       ]
      }
     ],
     "prompt_number": 17
    },
    {
     "cell_type": "code",
     "collapsed": false,
     "input": [
      "os.read(kos, length)"
     ],
     "language": "python",
     "metadata": {},
     "outputs": [
      {
       "metadata": {},
       "output_type": "pyout",
       "prompt_number": 18,
       "text": [
        "b'1\\n'"
       ]
      }
     ],
     "prompt_number": 18
    },
    {
     "cell_type": "code",
     "collapsed": false,
     "input": [
      "command='DATa:WIDth?' # 1 means 1byte per each waveform data point \n",
      "os.write(kos, command.encode('utf-8'))\n",
      "os.read(kos, length)"
     ],
     "language": "python",
     "metadata": {},
     "outputs": [
      {
       "metadata": {},
       "output_type": "pyout",
       "prompt_number": 2,
       "text": [
        "b'1\\n'"
       ]
      }
     ],
     "prompt_number": 2
    },
    {
     "cell_type": "code",
     "collapsed": false,
     "input": [
      "# format\n",
      "'''\n",
      "<Block> is the waveform data in binary format. The waveform is formatted as:\n",
      "#<x><yyy><data> where <x> is the number of characters in <yyy>. For example,\n",
      "if <yyy> = 500, then <x> = 3, where <yyy> is the number of bytes to transfer.\n",
      "Refer to Block Arguments\n",
      "'''\n",
      "command='CURVe?'\n",
      "os.write(kos, command.encode('utf-8'))\n",
      "kurve_bin= os.read(kos, length)"
     ],
     "language": "python",
     "metadata": {},
     "outputs": [],
     "prompt_number": 3
    },
    {
     "cell_type": "code",
     "collapsed": false,
     "input": [
      "buff2= kurve_bin\n",
      "dataPointsCharacters= int(buff2[1:2])\n",
      "dataOffset= 2+ dataPointsCharacters\n",
      "dataCount= int(buff2[2:2+ dataPointsCharacters])\n",
      "res2 = np.frombuffer(buff2, dtype = np.dtype('int8').newbyteorder('<'), count= dataCount, offset= dataOffset)"
     ],
     "language": "python",
     "metadata": {},
     "outputs": [],
     "prompt_number": 14
    },
    {
     "cell_type": "code",
     "collapsed": false,
     "input": [
      "res2.size"
     ],
     "language": "python",
     "metadata": {},
     "outputs": [
      {
       "metadata": {},
       "output_type": "pyout",
       "prompt_number": 16,
       "text": [
        "2500"
       ]
      }
     ],
     "prompt_number": 16
    },
    {
     "cell_type": "code",
     "collapsed": false,
     "input": [
      "kurve_bin[1:2]"
     ],
     "language": "python",
     "metadata": {},
     "outputs": [
      {
       "metadata": {},
       "output_type": "pyout",
       "prompt_number": 12,
       "text": [
        "b'4'"
       ]
      }
     ],
     "prompt_number": 12
    },
    {
     "cell_type": "code",
     "collapsed": false,
     "input": [
      "res2.size"
     ],
     "language": "python",
     "metadata": {},
     "outputs": [
      {
       "metadata": {},
       "output_type": "pyout",
       "prompt_number": 5,
       "text": [
        "2500"
       ]
      }
     ],
     "prompt_number": 5
    },
    {
     "cell_type": "code",
     "collapsed": false,
     "input": [
      "np.frombuffer()"
     ],
     "language": "python",
     "metadata": {},
     "outputs": []
    },
    {
     "cell_type": "code",
     "collapsed": false,
     "input": [
      "kurve_bin"
     ],
     "language": "python",
     "metadata": {},
     "outputs": [
      {
       "metadata": {},
       "output_type": "pyout",
       "prompt_number": 43,
       "text": [
        "b'#42500\\t\\x0e\\x08\\x0c\\n\\n\\x0c\\x08\\x0c\\x08\\x0c\\x04\\x0b\\x0e\\x0c\\x05\\x10\\n\\t\\t\\r\\n\\x08\\x08\\t\\n\\x0c\\t\\x08\\t\\x0b\\x07\\n\\x10\\x08\\t\\x0c\\x07\\x0b\\x08\\x0b\\x0c\\x0b\\r\\t\\x0b\\t\\x08\\x0c\\x08\\n\\x05\\n\\x0c\\n\\x08\\x07\\x01\\x0c\\x08\\x0b\\t\\x05\\x08\\x08\\x05\\x00\\x08\\t\\x07\\x08\\t\\x08\\t\\n\\t\\x04\\n\\x0c\\x08\\x0e\\t\\x0c\\x08\\x08\\n\\x08\\t\\x0c\\x08\\x06\\x06\\x07\\x06\\r\\x05\\x05\\t\\t\\x08\\x08\\t\\t\\x0b\\x08\\x0c\\x08\\t\\t\\x07\\x05\\x0b\\x0c\\x04\\x07\\x0c\\n\\x0b\\x0c\\x10\\x0b\\t\\x08\\x08\\x06\\x06\\t\\x15\\x08\\x07\\x0b\\x05\\x07\\x06\\x06\\t\\x0b\\x02\\x07\\x07\\x04\\t\\t\\n\\x08\\x05\\x08\\x10\\x0c\\x07\\n\\x05\\x04\\x0c\\x07\\x06\\x07\\x08\\x08\\t\\t\\x0e\\x0c\\x08\\x08\\x05\\x08\\x08\\x08\\x06\\x0c\\x0c\\x0b\\t\\t\\x05\\x0c\\x05\\x04\\x0b\\t\\x0f\\x08\\x05\\x08\\x08\\x08\\x08\\t\\n\\x04\\x0b\\x0c\\x08\\r\\xff\\n\\x08\\x0c\\n\\x08\\x08\\x06\\x0c\\x0b\\n\\x06\\x08\\x0c\\x08\\x05\\n\\x04\\x06\\x04\\xff\\x08\\x04\\t\\x04\\x08\\t\\x08\\n\\x06\\x08\\x0b\\x06\\x08\\x08\\x04\\x04\\t\\t\\n\\x07\\x04\\x07\\t\\x0c\\x07\\x0c\\x08\\x07\\r\\x05\\x06\\x04\\x05\\n\\t\\x00\\x0c\\x05\\x08\\x08\\x06\\x06\\x04\\x04\\x0c\\n\\n\\x08\\x04\\x08\\x08\\x06\\x04\\x04\\x05\\x06\\x06\\x07\\t\\x0c\\x0b\\x0b\\x01\\t\\t\\x06\\r\\x01\\x04\\x04\\x04\\x0c\\x08\\t\\r\\x03\\x08\\n\\t\\x10\\x06\\x0e\\x07\\t\\n\\x0b\\x06\\x07\\x11\\t\\x07\\n\\n\\x08\\n\\x06\\t\\t\\t\\x0b\\r\\x0c\\x04\\x0c\\x08\\x04\\x07\\t\\r\\t\\x03\\t\\x05\\x0c\\x08\\x0c\\x0b\\xfd\\n\\x08\\x0b\\x08\\t\\x08\\x08\\x0c\\x0c\\x0b\\n\\t\\r\\t\\t\\x08\\x08\\x0e\\x0b\\n\\x07\\n\\t\\t\\x08\\t\\x03\\x05\\t\\t\\t\\x04\\r\\x07\\n\\x0c\\x05\\x07\\n\\x07\\t\\x08\\x08\\x04\\r\\x05\\x0b\\x0b\\x08\\n\\x08\\x08\\x03\\x0b\\x07\\x08\\n\\x0c\\x07\\x0c\\x05\\x08\\x0c\\x0c\\r\\n\\n\\x04\\x04\\x0c\\x07\\n\\n\\x04\\n\\n\\x10\\x06\\x00\\x0f\\x08\\x06\\x05\\x05\\x0f\\n\\x07\\x0b\\t\\x08\\x08\\x05\\t\\x04\\r\\x04\\x08\\x02\\x06\\x08\\x0c\\x07\\x04\\x0b\\r\\x08\\n\\r\\x05\\n\\x0c\\n\\x08\\x08\\x08\\x07\\x08\\x04\\x03\\x08\\x06\\n\\x08\\x11\\x0b\\r\\n\\t\\x0f\\t\\n\\x0e\\t\\r\\t\\n\\x08\\n\\x0c\\t\\x08\\t\\x0b\\x0b\\r\\t\\r\\x06\\r\\x08\\x05\\x08\\x08\\x0c\\x08\\t\\x0c\\x05\\x0c\\r\\x08\\t\\x0b\\x08\\x0e\\x0b\\t\\x0c\\x0b\\n\\x0c\\x0c\\x0c\\x0c\\t\\x0c\\x08\\x0f\\x0b\\x0b\\x0c\\r\\x0c\\x0c\\r\\x0c\\x05\\x08\\r\\t\\x08\\x0c\\x0b\\x08\\x07\\x07\\x05\\x0c\\x08\\x05\\n\\x0e\\x11\\x06\\x08\\x08\\x07\\n\\t\\x05\\x0c\\x08\\t\\x07\\x0c\\x0c\\x08\\x08\\x08\\x0c\\x08\\x04\\x0b\\t\\t\\x0e\\x0c\\x0c\\x08\\x08\\x0b\\x08\\x08\\x08\\n\\r\\t\\x0b\\x08\\x05\\x08\\x06\\t\\x06\\x08\\t\\n\\x05\\t\\x0c\\x08\\x0b\\x08\\x08\\x07\\x06\\x08\\n\\x08\\x05\\r\\x08\\x07\\x0c\\x0c\\x07\\t\\x08\\x0c\\x04\\x05\\x0e\\x07\\n\\x0c\\t\\x05\\x07\\n\\n\\x07\\t\\n\\x0e\\r\\t\\x0c\\t\\x07\\n\\x0b\\t\\x05\\x10\\x0c\\x07\\x0c\\r\\r\\x08\\x0c\\x0c\\x05\\t\\t\\x07\\x10\\x04\\x06\\x06\\t\\x04\\n\\r\\x05\\x01\\x08\\x06\\x06\\x0c\\x08\\t\\x04\\x0c\\x07\\x08\\x0b\\x08\\t\\t\\t\\x11\\x05\\t\\x08\\x06\\x08\\x0b\\x0c\\x08\\t\\x04\\x03\\t\\x08\\x08\\x07\\x05\\x0b\\n\\x06\\x08\\n\\x0c\\t\\r\\x07\\t\\x0b\\x04\\x0b\\x08\\x05\\r\\t\\x0c\\x08\\x03\\n\\x06\\t\\n\\x08\\n\\x06\\x0c\\x01\\x07\\x08\\x04\\x04\\x05\\x08\\n\\x04\\x05\\x08\\r\\t\\x05\\t\\x03\\x03\\x0b\\x03\\t\\x05\\x08\\x04\\t\\x08\\x05\\x07\\x07\\x08\\t\\x02\\x05\\x05\\x04\\t\\x00\\x02\\x06\\x07\\n\\x06\\x0c\\x07\\x07\\x06\\x04\\x0c\\x07\\t\\t\\x04\\x06\\x04\\x08\\x05\\x06\\x07\\t\\x05\\x05\\x08\\x07\\x04\\n\\x08\\x0c\\x03\\x06\\n\\x08\\x06\\x05\\x06\\x04\\x08\\x08\\n\\x05\\n\\x08\\x08\\t\\x02\\x0c\\x08\\x0b\\x06\\x0c\\n\\x06\\x0f\\r\\n\\x0e\\n\\t\\x05\\n\\n\\x07\\t\\t\\x0b\\x08\\x08\\x0c\\x08\\x0c\\n\\x07\\x08\\n\\t\\r\\x08\\x08\\x02\\x08\\x01\\n\\x08\\n\\x08\\x05\\x08\\x0c\\x08\\x0e\\x08\\t\\x0b\\n\\x06\\t\\x07\\t\\x0b\\n\\x0c\\x0b\\t\\t\\r\\x05\\x08\\x04\\n\\x0b\\x0c\\x06\\x06\\x0b\\x06\\t\\n\\x08\\x03\\x08\\x03\\r\\t\\x08\\x05\\x03\\t\\n\\r\\x08\\x05\\x08\\t\\x0c\\x08\\t\\x06\\x0c\\x0c\\x0b\\n\\x0b\\x04\\x0b\\t\\x05\\x07\\x06\\x08\\x13\\x03\\t\\t\\t\\x07\\n\\t\\x08\\x0c\\x05\\n\\t\\n\\x0c\\x04\\x08\\t\\x04\\n\\x07\\t\\x10\\t\\x08\\x08\\t\\x0c\\x02\\t\\t\\x0b\\x05\\x08\\x0b\\x04\\x0c\\x06\\x03\\x08\\x07\\x08\\x07\\x0b\\x0c\\t\\r\\x08\\x05\\x05\\n\\x06\\t\\t\\n\\x08\\x12\\x08\\r\\x0b\\x07\\x10\\n\\x11\\x0b\\x14\\x0e\\x0c\\x0c\\r\\t\\x06\\n\\x08\\n\\x04\\n\\x0c\\n\\x06\\t\\t\\x08\\x0e\\x0f\\x0b\\t\\x0b\\x0b\\x08\\x08\\x0b\\r\\x0c\\x06\\x0c\\x08\\t\\r\\n\\x0b\\x0c\\x06\\t\\n\\x08\\x07\\x08\\x08\\x08\\x0e\\t\\x0b\\t\\x0b\\t\\x0c\\x0b\\x0b\\x0c\\x0b\\x08\\t\\x0c\\x12\\x0b\\x0c\\x08\\x0c\\x05\\x0c\\x07\\x0c\\t\\x0c\\n\\x05\\r\\x10\\x08\\n\\n\\x0e\\n\\x0b\\x0c\\x0b\\x05\\t\\t\\x0f\\x04\\x08\\x07\\n\\t\\x07\\x01\\x03\\n\\x0b\\x08\\x0c\\x0c\\x08\\x07\\x06\\x05\\x0c\\x06\\x08\\x08\\x08\\x05\\x04\\x0b\\x0c\\x0e\\t\\x07\\x0b\\x06\\x07\\x07\\n\\t\\x06\\x0b\\x05\\r\\x08\\x05\\x08\\x06\\x0c\\x08\\x03\\n\\x06\\x07\\x08\\x0c\\n\\x08\\x0c\\x05\\r\\x0c\\x08\\x08\\n\\x07\\x10\\x0b\\n\\x08\\x08\\x05\\x04\\n\\t\\n\\t\\t\\x07\\x05\\x08\\x08\\x07\\x08\\x08\\x0c\\x04\\x0c\\x10\\x08\\x04\\x08\\x10\\r\\t\\x0b\\x0c\\x08\\x05\\x08\\n\\x07\\t\\x07\\x07\\x07\\n\\t\\t\\t\\x0c\\x06\\x07\\x0b\\x02\\x08\\x0b\\t\\x04\\x07\\n\\x03\\x07\\x07\\r\\r\\x08\\x08\\x0b\\x05\\t\\t\\x10\\x07\\t\\x08\\x08\\t\\x0c\\x08\\x0b\\x0c\\x08\\t\\x05\\x08\\x05\\t\\x0b\\r\\n\\x04\\n\\t\\n\\x0b\\x0c\\x05\\x08\\x0b\\x06\\r\\t\\x05\\x0e\\x06\\x0c\\n\\x05\\x08\\x04\\x03\\t\\x06\\x05\\x07\\x04\\x08\\x07\\x08\\x08\\t\\x00\\x06\\r\\x0b\\x05\\x04\\x0b\\t\\x05\\r\\x04\\x06\\x08\\x08\\x08\\x06\\x06\\x0b\\x04\\x06\\x03\\x08\\x02\\x03\\x08\\t\\x08\\x0e\\x04\\x06\\x06\\x0b\\x05\\x06\\x05\\x06\\x08\\x06\\x05\\t\\x08\\x08\\x04\\x08\\x08\\x04\\x08\\t\\x03\\x05\\x04\\x0b\\x05\\x08\\x03\\x05\\x06\\x04\\t\\x0b\\x03\\x06\\x08\\x0c\\x07\\x02\\t\\x08\\x05\\n\\x06\\n\\x08\\r\\r\\x05\\x11\\x0c\\x0e\\x08\\x04\\x0b\\x05\\r\\x0c\\x02\\n\\x05\\t\\t\\x02\\x05\\x0c\\x10\\x03\\x08\\x06\\x07\\x08\\x05\\x0b\\x06\\x07\\x08\\x05\\x0c\\x08\\t\\x0b\\x03\\x0b\\x04\\r\\x0e\\x07\\t\\x0c\\x05\\x0c\\x10\\n\\t\\x07\\x08\\t\\x08\\x08\\x05\\t\\x04\\x0e\\x04\\x08\\x0b\\r\\x08\\r\\n\\n\\n\\x06\\x08\\x08\\x0e\\x04\\x08\\x06\\n\\n\\x08\\x07\\x04\\t\\x07\\x08\\x07\\x04\\r\\x05\\x03\\x01\\x04\\x08\\t\\x05\\x0c\\n\\n\\x08\\x08\\x0b\\x07\\x0c\\x08\\x0c\\t\\x08\\t\\x06\\t\\x0c\\x04\\x10\\x07\\x06\\x06\\x06\\x04\\t\\n\\x0c\\x02\\x0b\\x05\\t\\x06\\x07\\x0b\\x04\\x05\\x0e\\t\\x06\\x08\\x04\\x08\\x04\\n\\x02\\x08\\t\\t\\x0e\\x05\\x0e\\x08\\n\\x08\\n\\n\\x04\\t\\t\\x08\\r\\t\\x0b\\n\\t\\n\\x04\\r\\t\\t\\n\\x05\\x08\\r\\x0e\\x08\\x0f\\x0f\\x0c\\n\\x0c\\x0c\\x0b\\x0c\\r\\t\\x0b\\x0b\\t\\x08\\r\\t\\x0c\\t\\x0c\\r\\n\\x0c\\x06\\t\\x0c\\x0e\\x0b\\t\\t\\x0c\\x05\\x0c\\x06\\x0c\\x0b\\x0c\\x08\\x0c\\x08\\r\\x0b\\x08\\x0e\\x0f\\x0c\\x0c\\x08\\x08\\x07\\x08\\x08\\t\\x07\\x08\\x05\\x0b\\x11\\x0b\\x12\\x06\\t\\x10\\x0b\\x0e\\t\\t\\x0e\\r\\t\\x0c\\t\\t\\t\\n\\x08\\x0b\\n\\x0c\\r\\x08\\x08\\x06\\x08\\x08\\x07\\x0f\\t\\x06\\n\\x04\\x0c\\x06\\x0c\\x07\\x06\\x08\\r\\x0c\\n\\x03\\r\\x08\\t\\x05\\x06\\t\\t\\x10\\x06\\t\\t\\x08\\x08\\x05\\t\\x08\\t\\t\\x08\\x08\\x0c\\r\\x0c\\x08\\t\\t\\x08\\x0c\\x05\\x0c\\x08\\x0b\\x07\\n\\x0b\\x04\\t\\r\\x0b\\n\\x0c\\t\\t\\x04\\r\\t\\t\\x0c\\x08\\x08\\n\\n\\x08\\x08\\x08\\x07\\x0c\\x07\\x03\\x11\\x08\\x0c\\x0c\\x06\\t\\x08\\x05\\x08\\x05\\r\\x0b\\n\\x0c\\x0c\\x0e\\x08\\x0c\\x07\\n\\x0b\\x08\\n\\x08\\x0b\\x04\\x08\\x06\\t\\x06\\x06\\x04\\x0b\\x08\\x0c\\x0c\\x05\\x0c\\x07\\n\\x0b\\x0c\\x08\\x0c\\x04\\x05\\x05\\x0f\\x07\\x08\\t\\n\\x0c\\t\\x0c\\t\\x0c\\x0b\\x08\\x0b\\t\\x0b\\x11\\t\\x07\\x07\\n\\x0b\\x07\\x0c\\x04\\x04\\x08\\xff\\x06\\n\\x03\\x05\\x07\\x05\\x08\\x08\\t\\x08\\n\\x03\\t\\x04\\x03\\x0e\\x06\\t\\x08\\x05\\x0b\\x07\\x04\\x03\\x07\\x08\\x02\\x02\\x03\\x08\\x0b\\x07\\x08\\x07\\x08\\t\\x08\\x06\\x07\\t\\n\\t\\x06\\x07\\x08\\x08\\x06\\t\\x03\\x08\\x02\\n\\n\\x06\\x05\\n\\x01\\x08\\x04\\x08\\x06\\t\\n\\x08\\x08\\x04\\x04\\x08\\x07\\x02\\x08\\x04\\t\\n\\x08\\x08\\x08\\x08\\x07\\x05\\x06\\x0e\\x04\\xff\\x08\\x0c\\t\\x08\\x01\\t\\x02\\t\\x07\\x05\\x0b\\x08\\x07\\x04\\n\\x08\\n\\r\\n\\n\\x0e\\x0b\\x0c\\x0f\\x0b\\x0f\\t\\x0e\\x08\\x0b\\x0f\\x08\\x07\\x06\\t\\x08\\x06\\x0b\\x03\\n\\t\\x08\\n\\x0b\\x0c\\x08\\x06\\t\\x06\\r\\x0e\\x0b\\x0e\\x03\\x08\\x08\\x0c\\x0b\\x08\\x0c\\t\\x08\\x08\\x04\\t\\x07\\x08\\x07\\x0f\\t\\x08\\x0b\\x08\\n\\x10\\x07\\n\\t\\n\\x0b\\x02\\x0b\\r\\t\\x08\\x0b\\r\\x05\\t\\t\\t\\x06\\t\\x04\\n\\x05\\t\\x07\\x08\\x06\\x08\\x0b\\x08\\n\\n\\x08\\x08\\t\\x0c\\x08\\x03\\n\\x06\\x06\\x0b\\x04\\x08\\n\\x0c\\n\\x05\\n\\x08\\t\\t\\t\\t\\t\\x05\\t\\x0b\\x08\\x06\\x0c\\t\\x08\\x07\\x07\\t\\n\\x0c\\t\\x08\\x07\\x0c\\t\\x05\\x04\\x08\\x07\\t\\x05\\n\\n\\t\\x0b\\n\\t\\x08\\x02\\n\\x07\\x0c\\x05\\t\\x0c\\x08\\n\\x0c\\x08\\t\\x08\\x10\\n\\t\\x0c\\x05\\x08\\t\\x08\\x0b\\x06\\x08\\t\\x0c\\n\\x0c\\x0c\\x0b\\x0c\\x08\\t\\x0c\\x08\\n\\x10\\t\\x08\\x07\\t\\x0c\\x0c\\t\\x07\\x10\\x0c\\t\\t\\n\\x0c\\x0f\\x08\\x0c\\x05\\x0c\\x07\\x08\\x0e\\x0b\\x0f\\n\\t\\x08\\n\\t\\x08\\x08\\n\\x0b\\x0c\\t\\x0b\\n\\x0c\\x0c\\x08\\x08\\t\\x0b\\n\\x08\\x08\\x0c\\n\\x10\\t\\x0b\\x0b\\x0c\\x0b\\x0c\\x0c\\t\\x0c\\x0c\\x08\\r\\t\\x08\\x08\\n\\x05\\t\\x06\\r\\x08\\x0e\\x08\\x0b\\x08\\t\\x06\\x08\\x02\\x07\\x06\\x0c\\x05\\x0b\\x0b\\x08\\x0b\\x06\\x07\\x05\\x0c\\x0f\\x07\\x06\\x07\\x08\\x10\\x08\\x0c\\x08\\x08\\n\\x07\\x08\\x07\\x0b\\n\\x05\\x10\\x08\\x0e\\x07\\x01\\t\\x08\\x08\\x04\\x08\\n\\x07\\x04\\x0c\\x0b\\x07\\x04\\x08\\x08\\x08\\x05\\x04\\t\\x05\\x0e\\t\\x08\\x0c\\x0c\\x08\\x0c\\x05\\t\\x04\\x01\\x08\\x06\\x08\\x05\\t\\x0c\\x08\\x07\\x05\\x0f\\x08\\r\\x0c\\x0c\\x08\\x06\\n\\t\\x0c\\x10\\t\\t\\x0c\\t\\x0b\\x01\\x03\\x0f\\x0c\\t\\x08\\x08\\x08\\x04\\x08\\x07\\x0c\\x0c\\x07\\x04\\t\\x08\\x03\\x0c\\x06\\x10\\n\\t\\x0b\\n\\x04\\t\\x08\\x03\\x08\\x07\\x06\\t\\x0e\\x0c\\x0b\\x08\\x0b\\x04\\x04\\n\\x0e\\x03\\x05\\x0c\\x00\\t\\x08\\x0e\\x0b\\t\\x08\\x05\\t\\x0b\\x0b\\x08\\x06\\x08\\x08\\x05\\x0c\\x07\\x08\\x06\\x0c\\x07\\x05\\x07\\x03\\x05\\x08\\x04\\x08\\x04\\x04\\t\\x07\\n\\x0b\\x07\\t\\x00\\x0b\\x08\\x08\\x08\\x00\\t\\x03\\x05\\t\\x06\\x08\\x06\\x08\\x10\\x08\\x05\\x03\\t\\x06\\x05\\x0c\\x06\\x05\\x08\\n\\x06\\x06\\n\\x06\\x06\\n\\x05\\x08\\x0f\\x04\\x06\\x05\\n\\t\\x08\\x08\\x05\\x08\\x08\\x06\\x08\\x08\\x0b\\x04\\n\\x08\\x05\\t\\x06\\t\\x08\\x01\\x02\\x04\\t\\x05\\x0b\\r\\x0b\\t\\x05\\x0c\\x0e\\x08\\x08\\x07\\x08\\t\\x08\\x10\\x08\\t\\x07\\x0c\\x0b\\x08\\x08\\t\\n\\x0c\\x08\\t\\x0e\\x08\\n\\x07\\x0c\\t\\x08\\x0c\\x05\\x05\\x07\\x0b\\n\\x07\\x0b\\t\\x0b\\n\\x07\\x0c\\x06\\x06\\t\\x04\\x0c\\x0b\\n\\x08\\x06\\x05\\x05\\x05\\t\\t\\n\\r\\r\\x0c\\x0c\\n\\t\\x0b\\x0c\\x08\\n\\x0c\\x0b\\xff\\x04\\x0c\\x06\\n\\x0c\\x08\\x06\\x04\\x0b\\x0c\\x05\\x0b\\x05\\x06\\x08\\t\\r\\x04\\n\\x08\\t\\x07\\n\\x07\\x08\\x04\\x0b\\x03\\x10\\x05\\x0c\\n\\x06\\x0c\\r\\x08\\x08\\x04\\x0c\\x07\\t\\t\\x04\\x08\\x05\\x08\\n\\t\\x0c\\x07\\x07\\x07\\x0b\\x08\\x08\\n\\x07\\t\\r\\x04\\t\\x04\\t\\n\\x06\\r\\x0c\\x05\\x0c\\x05\\x08\\n\\x07\\x0b\\x05\\x05\\x08\\x07\\x06\\x08\\x08\\x00\\x0c\\t\\x0c\\t\\x08\\r\\x07\\x08\\x0f\\x08\\r\\x07\\x08\\x0c\\x05\\n\\t\\n\\x10\\x04\\x0b\\t\\x0b\\x0b\\x0e\\x0e\\n\\x05\\x0f\\x07\\x08\\n\\x10\\x0c\\x07\\x0e\\n\\n\\x06\\x0c\\r\\n\\x0b\\t\\x0c\\x0c\\x08\\x10\\x0e\\n\\x0b\\x07\\n\\t\\x0b\\n'"
       ]
      }
     ],
     "prompt_number": 43
    },
    {
     "cell_type": "code",
     "collapsed": false,
     "input": [
      "# command='WFMPre:YMUlt?'\n",
      "# command= '*IDN?'\n",
      "command='DATa:SOUrce?'\n",
      "os.write(kos, command.encode('utf-8'))"
     ],
     "language": "python",
     "metadata": {},
     "outputs": [
      {
       "metadata": {},
       "output_type": "pyout",
       "prompt_number": 11,
       "text": [
        "12"
       ]
      }
     ],
     "prompt_number": 11
    },
    {
     "cell_type": "code",
     "collapsed": false,
     "input": [
      "os.read(kos, length)"
     ],
     "language": "python",
     "metadata": {},
     "outputs": [
      {
       "metadata": {},
       "output_type": "pyout",
       "prompt_number": 12,
       "text": [
        "b'CH1\\n'"
       ]
      }
     ],
     "prompt_number": 12
    },
    {
     "cell_type": "code",
     "collapsed": false,
     "input": [
      "command='DATa:SOUrce CH1'\n",
      "os.write(kos, command.encode('utf-8'))"
     ],
     "language": "python",
     "metadata": {},
     "outputs": [
      {
       "metadata": {},
       "output_type": "pyout",
       "prompt_number": 10,
       "text": [
        "15"
       ]
      }
     ],
     "prompt_number": 10
    },
    {
     "cell_type": "code",
     "collapsed": false,
     "input": [
      "command='WFMPre:YMUlt?'\n",
      "os.write(kos, command.encode('utf-8'))"
     ],
     "language": "python",
     "metadata": {},
     "outputs": [
      {
       "metadata": {},
       "output_type": "pyout",
       "prompt_number": 13,
       "text": [
        "13"
       ]
      }
     ],
     "prompt_number": 13
    },
    {
     "cell_type": "code",
     "collapsed": false,
     "input": [
      "os.read(kos, length)"
     ],
     "language": "python",
     "metadata": {},
     "outputs": [
      {
       "metadata": {},
       "output_type": "pyout",
       "prompt_number": 14,
       "text": [
        "b'8.0E-4\\n'"
       ]
      }
     ],
     "prompt_number": 14
    },
    {
     "cell_type": "code",
     "collapsed": false,
     "input": [
      "help(os.read)"
     ],
     "language": "python",
     "metadata": {},
     "outputs": [
      {
       "output_type": "stream",
       "stream": "stdout",
       "text": [
        "Help on built-in function read in module posix:\n",
        "\n",
        "read(...)\n",
        "    read(fd, buffersize) -> bytes\n",
        "    \n",
        "    Read a file descriptor.\n",
        "\n"
       ]
      }
     ],
     "prompt_number": 4
    },
    {
     "cell_type": "code",
     "collapsed": false,
     "input": [
      "help(os.write)"
     ],
     "language": "python",
     "metadata": {},
     "outputs": [
      {
       "output_type": "stream",
       "stream": "stdout",
       "text": [
        "Help on built-in function write in module posix:\n",
        "\n",
        "write(...)\n",
        "    write(fd, data) -> byteswritten\n",
        "    \n",
        "    Write bytes to a file descriptor.\n",
        "\n"
       ]
      }
     ],
     "prompt_number": 7
    },
    {
     "cell_type": "code",
     "collapsed": false,
     "input": [
      "import os\n",
      "import numpy as np\n",
      "\n",
      "class usbtmc:\n",
      "    \"\"\"Simple implementation of a USBTMC device driver, in the style of visa.h\"\"\"\n",
      "\n",
      "    def __init__(self, device):\n",
      "        self.device = device\n",
      "        self.FILE = os.open(device, os.O_RDWR)\n",
      "\n",
      "        # TODO: Test that the file opened\n",
      "\n",
      "    def write(self, command):\n",
      "        # os.write(self.FILE, command)\n",
      "        os.write(self.FILE, command.encode('utf-8')) # turns str into bytes literal, a sequence of octets (ints 0 to 255)\n",
      "\n",
      "    def read(self, length = 4000):\n",
      "        # return os.read(self.FILE, length)\n",
      "        return (os.read(self.FILE, length)).decode()\n",
      "\n",
      "    def ask(self, command):\n",
      "        self.write(command)\n",
      "        return self.read()\n",
      "\n",
      "    def getName(self):\n",
      "        self.write(\"*IDN?\")\n",
      "        return self.read(300)\n",
      "\n",
      "    def sendReset(self):\n",
      "        self.write(\"*RST\")"
     ],
     "language": "python",
     "metadata": {},
     "outputs": [],
     "prompt_number": 1
    },
    {
     "cell_type": "code",
     "collapsed": false,
     "input": [
      "class TekScope:\n",
      "    \"\"\"Class to control a Tek TDS2002B series oscilloscope\"\"\"\n",
      "    def __init__(self, device='/dev/usbtmc0'):\n",
      "        self.meas = usbtmc(device)\n",
      "\n",
      "        self.name = self.meas.getName()\n",
      "\n",
      "        print(self.name)\n",
      "\n",
      "    def write(self, command):\n",
      "        \"\"\"Send an arbitrary command directly to the scope\"\"\"\n",
      "        self.meas.write(command)\n",
      "\n",
      "    def read(self, command):\n",
      "        \"\"\"Read an arbitrary amount of data directly from the scope\"\"\"\n",
      "        return self.meas.read(command)\n",
      "\n",
      "    def ask(self, command):\n",
      "        \"\"\"Write + Read\"\"\"\n",
      "        return self.meas.ask(command)\n",
      "\n",
      "    def reset(self):\n",
      "        \"\"\"Reset the instrument\"\"\"\n",
      "        self.meas.sendReset()"
     ],
     "language": "python",
     "metadata": {},
     "outputs": [],
     "prompt_number": 2
    },
    {
     "cell_type": "code",
     "collapsed": false,
     "input": [
      "import tek3\n",
      "test = tek3.TekScope(\"/dev/usbtmc0\")"
     ],
     "language": "python",
     "metadata": {},
     "outputs": [
      {
       "output_type": "stream",
       "stream": "stdout",
       "text": [
        "TEKTRONIX,TDS 2002B,C101891,CF:91.1CT FV:v22.11\n",
        "\n"
       ]
      }
     ],
     "prompt_number": 3
    },
    {
     "cell_type": "code",
     "collapsed": false,
     "input": [
      "test.meas"
     ],
     "language": "python",
     "metadata": {},
     "outputs": [
      {
       "metadata": {},
       "output_type": "pyout",
       "prompt_number": 4,
       "text": [
        "<tek3.usbtmc at 0x7fdba82ea9b0>"
       ]
      }
     ],
     "prompt_number": 4
    },
    {
     "cell_type": "code",
     "collapsed": false,
     "input": [
      "test.name"
     ],
     "language": "python",
     "metadata": {},
     "outputs": [
      {
       "metadata": {},
       "output_type": "pyout",
       "prompt_number": 5,
       "text": [
        "'TEKTRONIX,TDS 2002B,C101891,CF:91.1CT FV:v22.11\\n'"
       ]
      }
     ],
     "prompt_number": 5
    },
    {
     "cell_type": "code",
     "collapsed": false,
     "input": [
      "tts=test.ask('CH1:POSition?')"
     ],
     "language": "python",
     "metadata": {},
     "outputs": [],
     "prompt_number": 15
    },
    {
     "cell_type": "code",
     "collapsed": false,
     "input": [
      "ttse=tts.encode('utf-8')"
     ],
     "language": "python",
     "metadata": {},
     "outputs": [],
     "prompt_number": 17
    },
    {
     "cell_type": "code",
     "collapsed": false,
     "input": [
      "ttse"
     ],
     "language": "python",
     "metadata": {},
     "outputs": [
      {
       "metadata": {},
       "output_type": "pyout",
       "prompt_number": 19,
       "text": [
        "b'0.0E0\\n'"
       ]
      }
     ],
     "prompt_number": 19
    },
    {
     "cell_type": "code",
     "collapsed": false,
     "input": [
      "ttse.decode()"
     ],
     "language": "python",
     "metadata": {},
     "outputs": []
    },
    {
     "cell_type": "code",
     "collapsed": false,
     "input": [],
     "language": "python",
     "metadata": {},
     "outputs": []
    },
    {
     "cell_type": "code",
     "collapsed": false,
     "input": [],
     "language": "python",
     "metadata": {},
     "outputs": []
    },
    {
     "cell_type": "code",
     "collapsed": false,
     "input": [],
     "language": "python",
     "metadata": {},
     "outputs": []
    },
    {
     "cell_type": "code",
     "collapsed": false,
     "input": [],
     "language": "python",
     "metadata": {},
     "outputs": []
    },
    {
     "cell_type": "code",
     "collapsed": false,
     "input": [],
     "language": "python",
     "metadata": {},
     "outputs": []
    },
    {
     "cell_type": "code",
     "collapsed": false,
     "input": [],
     "language": "python",
     "metadata": {},
     "outputs": []
    }
   ],
   "metadata": {}
  }
 ]
}